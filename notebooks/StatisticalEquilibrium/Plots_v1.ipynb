{
 "cells": [
  {
   "cell_type": "markdown",
   "metadata": {},
   "source": [
    "- 2020.07.16 : Kouui"
   ]
  },
  {
   "cell_type": "code",
   "execution_count": 1,
   "metadata": {},
   "outputs": [],
   "source": [
    "import numpy as np\n",
    "import matplotlib.pyplot as plt"
   ]
  },
  {
   "cell_type": "code",
   "execution_count": 25,
   "metadata": {},
   "outputs": [
    {
     "name": "stdout",
     "output_type": "stream",
     "text": [
      "The autoreload extension is already loaded. To reload it, use:\n",
      "  %reload_ext autoreload\n"
     ]
    }
   ],
   "source": [
    "import sys\n",
    "sys.path.append(\"../../\")\n",
    "\n",
    "%load_ext autoreload\n",
    "%autoreload 2\n",
    "\n",
    "from src.Structure import AtomCls, AtmosphereCls\n",
    "from src.Atomic import PhotoIonize, Collision\n",
    "from src.Atomic import LTELib, BasicP#, SEsolver\n",
    "#from src.RadiativeTransfer import Profile\n",
    "#from src.Math import Integrate\n",
    "#from src import Constants as Cst\n",
    "\n",
    "#from src.Visual import Grotrian\n",
    "\n",
    "#from src.Util import Class\n",
    "\n",
    "from Lib import *"
   ]
  },
  {
   "cell_type": "code",
   "execution_count": 6,
   "metadata": {},
   "outputs": [
    {
     "name": "stdout",
     "output_type": "stream",
     "text": [
      "Reading Einstein Aji coefficient from : \n",
      " ../../data/atom/Ca_II/Einstein_A/Nist.Aji\n",
      "...\n",
      "Finished.\n",
      "\n",
      "Reading Electron impact Effective Collisional Strength from : \n",
      " ../../data/atom/Ca_II/Collisional_Excitation/RH.Electron\n",
      "Finished.\n",
      "\n",
      "Reading Electron impact Collisional Ionization coefficient from : \n",
      " ../../data/atom/Ca_II/Collisional_Ionization/RH.Electron\n",
      "Finished.\n",
      "\n",
      "Reading Photoionization cross section from : \n",
      " ../../data/atom/Ca_II/Photoionization/RH.Alpha\n",
      "Finished.\n",
      "\n",
      "Reading Radiative Line information from : \n",
      " ../../data/atom/Ca_II/Ca_II.RadiativeLine\n",
      "line mesh prepared.\n",
      "continuum mesh prepared.\n"
     ]
    }
   ],
   "source": [
    "folder = \"../../data/atom/Ca_II/\"\n",
    "file_Level     = folder + \"Ca_II.Level\"\n",
    "file_Aji = folder + \"Einstein_A/Nist.Aji\"\n",
    "file_CEe = folder + \"Collisional_Excitation/RH.Electron\"\n",
    "atom = AtomCls.Atom(file_Level, _file_Aji=file_Aji, _file_CEe=file_CEe)\n",
    "\n",
    "file_CIe = folder + \"Collisional_Ionization/RH.Electron\"\n",
    "atom.read_CI(_path_electron=file_CIe)\n",
    "\n",
    "file_PI  = folder + \"Photoionization/RH.Alpha\"\n",
    "atom.read_PI(_path_alpha=file_PI)\n",
    "\n",
    "file_Rad = folder + \"Ca_II.RadiativeLine\"\n",
    "atom.read_RadiativeLine_and_make_Line_Mesh(_path=file_Rad)\n",
    "atom.make_Cont_Mesh()\n",
    "atom.read_RadLine_intensity(_folder=\"../../data/intensity/Ca_II/\")"
   ]
  },
  {
   "cell_type": "code",
   "execution_count": 7,
   "metadata": {},
   "outputs": [],
   "source": [
    "slab0d = AtmosphereCls.AtmosphereC0d(Te=1E4, Vt=5.E5, Ne=1E12, Vd=0E5)\n",
    "slab0d.readBackgroundIntensity('../../data/intensity/continuum/ASTM_E490+PROM7_HI_CaII.dat')"
   ]
  },
  {
   "cell_type": "markdown",
   "metadata": {},
   "source": [
    "---"
   ]
  },
  {
   "cell_type": "code",
   "execution_count": 24,
   "metadata": {},
   "outputs": [],
   "source": [
    "#--- \n",
    "# interpolate \n",
    "# - continuum intensity \n",
    "# - photoionization cross section \n",
    "# to compute photoionization rate\n",
    "#\n",
    "# assume : this intensity profile will not be affected by Doppler shift\n",
    "#---\n",
    "PI_I = PhotoIonize.interpolate_PI_intensity(slab0d.BackRad[:,:], \n",
    "                                            atom.Mesh.Cont)\n",
    "PI_alpha = PhotoIonize.interpolate_PI_alpha(atom.PI.alpha_table, \n",
    "                                            atom.Mesh.Cont)\n",
    "\n",
    "\n",
    "#--- \n",
    "# - compute Level gamma\n",
    "# - compute Line Gamma\n",
    "#---\n",
    "BasicP.get_Level_gamma(Aji=_atom.Line.AJI[:],idxJ=_atom.Line.idxJ[:],\n",
    "                       gamma=_atom.Level.gamma[:])\n",
    "BasicP.get_Line_Gamma(idxI=_atom.Line.idxI[:], idxJ=_atom.Line.idxJ[:],\n",
    "                    gamma=_atom.Level.gamma[:], Gamma=_atom.Line.Gamma[:])"
   ]
  },
  {
   "cell_type": "code",
   "execution_count": 12,
   "metadata": {},
   "outputs": [],
   "source": [
    "#--- \n",
    "# physical parameters\n",
    "#---\n",
    "_atom = atom\n",
    "_Te = slab0d.data.Te\n",
    "_Te = 8000\n",
    "_Ne = slab0d.data.Ne\n",
    "_Ne = 1E12\n",
    "_Vt = slab0d.data.Vt\n",
    "_Vt = 5E5\n",
    "_Vd = slab0d.data.Vd\n",
    "_Vd = 100E5 # 100 [km/s]"
   ]
  },
  {
   "cell_type": "code",
   "execution_count": 23,
   "metadata": {},
   "outputs": [],
   "source": [
    "#--- \n",
    "# compute LTE population ratio for each CE transition\n",
    "#---\n",
    "_n_LTE, _ni_LTE, _nj_LTE = ni_nj_LTE(_Level=atom.Level, \n",
    "                                     _Line=atom.Line, \n",
    "                                     _Cont=atom.Cont, \n",
    "                                     _Te=_Te, \n",
    "                                     _Ne=_Ne)"
   ]
  },
  {
   "cell_type": "code",
   "execution_count": 18,
   "metadata": {},
   "outputs": [],
   "source": [
    "#--- \n",
    "# compute bound-free radiative transition rate coefficient\n",
    "#    - photoionization\n",
    "#    - spontaneous radiative recombination\n",
    "#    - stimulated radiative recombination\n",
    "#---\n",
    "_Rik, _Rki_stim, _Rki_spon = bf_R_rate(_waveMesh=atom.Mesh.Cont, \n",
    "                                       _Jnu=[0.5*x for x in PI_I], \n",
    "                                       _alpha=PI_alpha, \n",
    "                                       _Te=_Te, \n",
    "                                       _ni_LTE=_ni_LTE[_nLine:], \n",
    "                                       _nj_LTE=_nj_LTE[_nLine:])"
   ]
  },
  {
   "cell_type": "code",
   "execution_count": 55,
   "metadata": {},
   "outputs": [],
   "source": [
    "#--- \n",
    "# compute bound-bound radiative transition rate coefficient\n",
    "#    - spontaneous radiative de-excitation (Aji)\n",
    "#    - radiative excitation                (Bij * J)\n",
    "#    - stimulated radiative de-excitation  (Bji * J)\n",
    "#---\n",
    "\n",
    "_Bij_Jbar, _Bji_Jbar = B_Jbar(_Level=atom.Level, \n",
    "                              _Line=atom.Line, \n",
    "                              _lineIndex=atom.I_Rad.lineIndex, \n",
    "                              _MeshRadLine=atom.Mesh.RadLine, \n",
    "                              _Te=_Te, \n",
    "                              _Vt=_Vt,\n",
    "                              _Vd=_Vd,\n",
    "                              _Mass=atom.Mass, \n",
    "                              _I_cm=atom.I_Rad.I_cm, \n",
    "                              _Jbar=None)"
   ]
  },
  {
   "cell_type": "code",
   "execution_count": 26,
   "metadata": {},
   "outputs": [],
   "source": [
    "#--- \n",
    "# compute collision \n",
    "#    - excitation/de-excitation \n",
    "#    - ionization/recombination\n",
    "# rate coefficient\n",
    "#---\n",
    "_CEij = CEij_rate_coe(_Omega_table=atom.CE.Omega_table[:,:], \n",
    "                      _Te_table=atom.CE.Te_table[:], \n",
    "                      _Coe=atom.CE.Coe, \n",
    "                      _Te=_Te)\n",
    "_CIik = CIik_rate_coe(_Omega_table=atom.CI.Omega_table[:,:], \n",
    "                      _Te_table=atom.CI.Te_table[:], \n",
    "                      _Coe=atom.CI.Coe, \n",
    "                      _Te=_Te)\n",
    "_Cij = np.append( _CEij[:], _CIik[:] )\n",
    "_Cji = Collision.Cij_to_Cji(_Cij=_Cij[:],  \n",
    "                            _ni_LTE=_ni_LTE[:], \n",
    "                            _nj_LTE=_nj_LTE[:])"
   ]
  },
  {
   "cell_type": "markdown",
   "metadata": {},
   "source": [
    "## Plots"
   ]
  },
  {
   "cell_type": "markdown",
   "metadata": {},
   "source": [
    "### Te, Ne v.s. collisional excitation"
   ]
  },
  {
   "cell_type": "code",
   "execution_count": 38,
   "metadata": {},
   "outputs": [
    {
     "data": {
      "text/plain": [
       "array([2, 3, 5, 6, 8], dtype=uint32)"
      ]
     },
     "execution_count": 38,
     "metadata": {},
     "output_type": "execute_result"
    }
   ],
   "source": [
    "atom.I_Rad.lineIndex"
   ]
  },
  {
   "cell_type": "code",
   "execution_count": null,
   "metadata": {},
   "outputs": [],
   "source": [
    "Te_arr = np.logspace(3.5, 5, 101,endpoint=True)\n",
    "#Ne_arr = np.logspace(9, 14, 101, endpoint=True)\n",
    "nTe = Te_arr.shape[0]\n",
    "#nNe = Ne_arr.shape[0]\n",
    "\n",
    "CEij_arr = np.zeros((_nLine, nTe))\n",
    "\n",
    "for k in range(nTe):\n",
    "    CEij_arr[:,k] = CEij_rate_coe(_Omega_table=atom.CE.Omega_table[:,:], \n",
    "                      _Te_table=atom.CE.Te_table[:], \n",
    "                      _Coe=atom.CE.Coe, \n",
    "                      _Te=Te_arr[k])"
   ]
  },
  {
   "cell_type": "code",
   "execution_count": 47,
   "metadata": {},
   "outputs": [
    {
     "data": {
      "text/plain": [
       "Text(0,0.5,'CEij [$s^{-1}cm^{3}$]')"
      ]
     },
     "execution_count": 47,
     "metadata": {},
     "output_type": "execute_result"
    },
    {
     "data": {
      "image/png": "[encoded data removed]",
      "text/plain": [
       "<Figure size 900x450 with 1 Axes>"
      ]
     },
     "metadata": {
      "needs_background": "light"
     },
     "output_type": "display_data"
    }
   ],
   "source": [
    "names = [f\"{atom.Line.w0_AA[i]:.0f}\" for i in atom.I_Rad.lineIndex]\n",
    "index = [i for i in atom.I_Rad.lineIndex]\n",
    "\n",
    "k = 0\n",
    "\n",
    "fig, ax = plt.subplots(1,1, figsize=(6,3), dpi=150)\n",
    "ax.plot(Te_arr, CEij_arr[index[k],:], linewidth=1, label=names[k])\n",
    "\n",
    "ax.set_xlabel(\"Te [$K$]\")\n",
    "ax.set_ylabel(\"CEij [$s^{-1}cm^{3}$]\")\n",
    "ax.legend(loc=\"best\")\n",
    "plt.show()"
   ]
  },
  {
   "cell_type": "markdown",
   "metadata": {},
   "source": [
    "### photo-excitation v.s. collisional excitation"
   ]
  },
  {
   "cell_type": "code",
   "execution_count": 67,
   "metadata": {},
   "outputs": [],
   "source": [
    "# electron temperature\n",
    "Te_arr = np.logspace(3.5, 5, 101,endpoint=True)\n",
    "nT = Te_arr.shape[0]\n",
    "# radiation temperature\n",
    "Tr_arr = np.linspace(1E3, 1E4, 101,endpoint=True)\n",
    "\n",
    "#Jbar_arr = np.zeros((atom.nRadiativeLine, nTe))\n",
    "Bij_Jbar_arr = np.zeros((atom.nRadiativeLine, nTe))\n",
    "CEij_arr = np.zeros((_nLine, nTe))\n",
    "\n",
    "for k in range(nT):\n",
    "    CEij_arr[:,k] = CEij_rate_coe(_Omega_table=atom.CE.Omega_table[:,:], \n",
    "                      _Te_table=atom.CE.Te_table[:], \n",
    "                      _Coe=atom.CE.Coe, \n",
    "                      _Te=Te_arr[k])\n",
    "    \n",
    "    Jbar = LTELib.Planck_cm(atom.Line.w0[atom.I_Rad.lineIndex],Tr_arr[k])\n",
    "    Bij_Jbar_arr[:,k], _Bji_Jbar = B_Jbar(_Level=atom.Level, \n",
    "                                  _Line=atom.Line, \n",
    "                                  _lineIndex=atom.I_Rad.lineIndex, \n",
    "                                  _MeshRadLine=atom.Mesh.RadLine, \n",
    "                                  _Te=None, \n",
    "                                  _Vt=None,\n",
    "                                  _Vd=None,\n",
    "                                  _Mass=None, \n",
    "                                  _I_cm=None, \n",
    "                                  _Jbar=Jbar)"
   ]
  },
  {
   "cell_type": "code",
   "execution_count": 75,
   "metadata": {},
   "outputs": [
    {
     "data": {
      "image/png": "[encoded data removed]",
      "text/plain": [
       "<Figure size 900x450 with 2 Axes>"
      ]
     },
     "metadata": {
      "needs_background": "light"
     },
     "output_type": "display_data"
    }
   ],
   "source": [
    "names = [f\"{atom.Line.w0_AA[i]:.0f}\" for i in atom.I_Rad.lineIndex]\n",
    "index = [i for i in atom.I_Rad.lineIndex]\n",
    "\n",
    "k = 0\n",
    "Ne = 1E12\n",
    "\n",
    "fig, ax = plt.subplots(1,1, figsize=(6,3), dpi=150)\n",
    "lns1 = ax.plot(Te_arr, Ne*CEij_arr[index[k],:],\"b\", linewidth=1, label=\"Col-Ex\")\n",
    "ax2 = ax.twiny()\n",
    "\n",
    "lns2 = ax2.plot(Tr_arr, Bij_Jbar_arr[k,:],\"r\", linewidth=1, label=\"Photo-Ex\")\n",
    "\n",
    "lns = lns1+lns2\n",
    "labs = [l.get_label() for l in lns]\n",
    "ax.legend(lns, labs, loc=\"best\")\n",
    "\n",
    "ax2.set_title(names[k]+\"$\\AA$\", x=0.0, y=1.1)\n",
    "ax.set_xlabel(\"Te [$K$]\")\n",
    "ax2.set_xlabel(\"Tr [$K$]\")\n",
    "ax.set_ylabel(\"rate [$s^{-1}$]\")\n",
    "ax.set_yscale(\"log\")\n",
    "plt.show()"
   ]
  }
 ],
 "metadata": {
  "kernelspec": {
   "display_name": "Python 3",
   "language": "python",
   "name": "python3"
  },
  "language_info": {
   "codemirror_mode": {
    "name": "ipython",
    "version": 3
   },
   "file_extension": ".py",
   "mimetype": "text/x-python",
   "name": "python",
   "nbconvert_exporter": "python",
   "pygments_lexer": "ipython3",
   "version": "3.6.10"
  },
  "toc": {
   "nav_menu": {},
   "number_sections": true,
   "sideBar": true,
   "skip_h1_title": false,
   "toc_cell": false,
   "toc_position": {},
   "toc_section_display": "block",
   "toc_window_display": false
  }
 },
 "nbformat": 4,
 "nbformat_minor": 4
}
