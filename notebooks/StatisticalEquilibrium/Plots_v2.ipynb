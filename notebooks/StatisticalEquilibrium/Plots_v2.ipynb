{
 "cells": [
  {
   "cell_type": "markdown",
   "metadata": {},
   "source": [
    "- 2020.07.31 kouui\n",
    "\n",
    "- 2020.08.07 kouui Grotrian-plot, data-format, wavelength-in-air"
   ]
  },
  {
   "cell_type": "markdown",
   "metadata": {},
   "source": [
    "---"
   ]
  },
  {
   "cell_type": "code",
   "execution_count": 1,
   "metadata": {},
   "outputs": [],
   "source": [
    "import numpy as np\n",
    "\n",
    "%matplotlib tk\n",
    "import matplotlib.pyplot as plt\n",
    "from matplotlib.colors import LogNorm"
   ]
  },
  {
   "cell_type": "code",
   "execution_count": 2,
   "metadata": {},
   "outputs": [],
   "source": [
    "import sys\n",
    "sys.path.append(\"../../\")\n",
    "\n",
    "%load_ext autoreload\n",
    "%autoreload 2\n",
    "\n",
    "from src.Structure import AtomCls\n",
    "from src.Atomic import Collision\n",
    "\n",
    "from src.Util import Class\n",
    "\n",
    "from src.Visual import Grotrian\n",
    "\n",
    "import Lib2"
   ]
  },
  {
   "cell_type": "markdown",
   "metadata": {},
   "source": [
    "---"
   ]
  },
  {
   "cell_type": "code",
   "execution_count": 3,
   "metadata": {},
   "outputs": [
    {
     "name": "stdout",
     "output_type": "stream",
     "text": [
      "Reading Einstein Aji coefficient from : \n",
      " ../../data/atom/Ca_II/Einstein_A/Nist.Aji\n",
      "...\n",
      "Finished.\n",
      "\n",
      "Reading Electron impact Effective Collisional Strength from : \n",
      " ../../data/atom/Ca_II/Collisional_Excitation/RH.Electron\n",
      "Finished.\n",
      "\n",
      "Reading Electron impact Collisional Ionization coefficient from : \n",
      " ../../data/atom/Ca_II/Collisional_Ionization/RH.Electron\n",
      "Finished.\n",
      "\n",
      "Reading Photoionization cross section from : \n",
      " ../../data/atom/Ca_II/Photoionization/RH.Alpha\n",
      "Finished.\n",
      "\n",
      "Reading Radiative Line information from : \n",
      " ../../data/atom/Ca_II/Ca_II.RadiativeLine\n",
      "line mesh prepared.\n",
      "continuum mesh prepared.\n"
     ]
    }
   ],
   "source": [
    "folder = \"../../data/atom/Ca_II/\"\n",
    "file_Level     = folder + \"Ca_II.Level\"\n",
    "file_Aji = folder + \"Einstein_A/Nist.Aji\"\n",
    "file_CEe = folder + \"Collisional_Excitation/RH.Electron\"\n",
    "atom = AtomCls.Atom(file_Level, _file_Aji=file_Aji, _file_CEe=file_CEe)\n",
    "\n",
    "file_CIe = folder + \"Collisional_Ionization/RH.Electron\"\n",
    "atom.read_CI(_path_electron=file_CIe)\n",
    "\n",
    "file_PI  = folder + \"Photoionization/RH.Alpha\"\n",
    "atom.read_PI(_path_alpha=file_PI)\n",
    "\n",
    "file_Rad = folder + \"Ca_II.RadiativeLine\"\n",
    "atom.read_RadiativeLine_and_make_Line_Mesh(_path=file_Rad)\n",
    "atom.make_Cont_Mesh()\n",
    "atom.read_RadLine_intensity(_folder=\"../../data/intensity/Ca_II/\")"
   ]
  },
  {
   "cell_type": "code",
   "execution_count": 4,
   "metadata": {},
   "outputs": [],
   "source": [
    "Te = 8E3\n",
    "Ne = 1E12\n",
    "#Vt = 5E5\n",
    "#Vd = 0E5"
   ]
  },
  {
   "cell_type": "code",
   "execution_count": 5,
   "metadata": {},
   "outputs": [],
   "source": [
    "n_LTE, ni_LTE, nj_LTE = Lib2.ni_nj_LTE(atom,Te,Ne)"
   ]
  },
  {
   "cell_type": "code",
   "execution_count": 6,
   "metadata": {},
   "outputs": [],
   "source": [
    "res = Lib2.bf_R_rate(atom, Te, ni_LTE, nj_LTE, _Tr=6000)\n",
    "Rik, Rki_stim, Rki_spon = res"
   ]
  },
  {
   "cell_type": "code",
   "execution_count": 7,
   "metadata": {},
   "outputs": [],
   "source": [
    "Bij_Jbar, Bji_Jbar = Lib2.B_Jbar(atom, _Tr=6000)"
   ]
  },
  {
   "cell_type": "code",
   "execution_count": 8,
   "metadata": {},
   "outputs": [],
   "source": [
    "#CEij = Lib2.CEij_rate_coe(atom, Te)\n",
    "#CIik = Lib2.CIik_rate_coe(atom, Te)\n",
    "Cij = Lib2.get_Cij(atom, Te)\n",
    "Cji = Collision.Cij_to_Cji(Cij, ni_LTE, nj_LTE)"
   ]
  },
  {
   "cell_type": "markdown",
   "metadata": {},
   "source": [
    "## Plots"
   ]
  },
  {
   "cell_type": "markdown",
   "metadata": {},
   "source": [
    "### Te, Ne v.s. collisional excitation"
   ]
  },
  {
   "cell_type": "code",
   "execution_count": 9,
   "metadata": {},
   "outputs": [],
   "source": [
    "Te_arr = np.logspace(3.5, 5, 101,endpoint=True)\n",
    "#Ne_arr = np.logspace(9, 14, 101, endpoint=True)\n",
    "nTe = Te_arr.shape[0]\n",
    "#nNe = Ne_arr.shape[0]\n",
    "\n",
    "CEij_arr = np.zeros((atom.nLine, nTe))\n",
    "\n",
    "for k in range(nTe):\n",
    "    CEij_arr[:,k]= Lib2.CEij_rate_coe(atom, Te_arr[k])"
   ]
  },
  {
   "cell_type": "code",
   "execution_count": 10,
   "metadata": {},
   "outputs": [],
   "source": [
    "names = [f\"{atom.Line.w0_AA[i]:.0f}\" for i in atom.I_Rad.lineIndex]\n",
    "index = [i for i in atom.I_Rad.lineIndex]\n",
    "\n",
    "k = 0\n",
    "\n",
    "fig, ax = plt.subplots(1,1, figsize=(6,3), dpi=150)\n",
    "ax.plot(Te_arr, CEij_arr[index[k],:], linewidth=1, label=names[k])\n",
    "\n",
    "ax.set_xlabel(\"Te [$K$]\")\n",
    "ax.set_ylabel(\"CEij [$s^{-1}cm^{3}$]\")\n",
    "ax.legend(loc=\"best\")\n",
    "plt.show()"
   ]
  },
  {
   "cell_type": "markdown",
   "metadata": {},
   "source": [
    "### photo-excitation v.s. collisional excitation"
   ]
  },
  {
   "cell_type": "code",
   "execution_count": 11,
   "metadata": {},
   "outputs": [],
   "source": [
    "# electron temperature\n",
    "Te_arr = np.logspace(3.5, 4, 101,endpoint=True)\n",
    "nT = Te_arr.shape[0]\n",
    "# radiation temperature\n",
    "Tr_arr = np.logspace(3.5, 4, 101,endpoint=True)\n",
    "\n",
    "\n",
    "Bij_Jbar_arr = np.zeros((atom.nLine, nT))\n",
    "CEij_arr = np.zeros((atom.nLine, nT))\n",
    "\n",
    "for k in range(nT):\n",
    "    CEij_arr[:,k]= Lib2.CEij_rate_coe(atom, _Te=Te_arr[k])\n",
    "    \n",
    "    Bij_Jbar_arr[:,k], _Bji_Jbar = Lib2.B_Jbar(atom, _Tr=Tr_arr[k])"
   ]
  },
  {
   "cell_type": "code",
   "execution_count": 12,
   "metadata": {},
   "outputs": [],
   "source": [
    "names = [f\"{atom.Line.w0_AA[i]:.0f}\" for i in atom.I_Rad.lineIndex]\n",
    "index = [i for i in atom.I_Rad.lineIndex]\n",
    "\n",
    "k = 0\n",
    "Ne = 1E12\n",
    "\n",
    "fig, ax = plt.subplots(1,1, figsize=(6,3), dpi=150)\n",
    "lns1 = ax.plot(Te_arr, Ne*CEij_arr[index[k],:],\"b\", linewidth=1, label=\"Col-Ex\")\n",
    "ax2 = ax.twiny()\n",
    "\n",
    "lns2 = ax2.plot(Tr_arr, Bij_Jbar_arr[index[k],:],\"r\", linewidth=1, label=\"Photo-Ex\")\n",
    "\n",
    "lns = lns1+lns2\n",
    "labs = [l.get_label() for l in lns]\n",
    "ax.legend(lns, labs, loc=\"best\")\n",
    "\n",
    "ax2.set_title(names[k]+\"$\\AA$\", x=0.0, y=1.1)\n",
    "ax.set_xlabel(\"Te [$K$]\")\n",
    "ax2.set_xlabel(\"Tr [$K$]\")\n",
    "ax.set_ylabel(\"rate [$s^{-1}$]\")\n",
    "ax.set_yscale(\"log\")\n",
    "plt.show()"
   ]
  },
  {
   "cell_type": "markdown",
   "metadata": {},
   "source": [
    "### Transition rate plot in Grotrian diagram"
   ]
  },
  {
   "cell_type": "markdown",
   "metadata": {},
   "source": [
    "#### show Grotrian"
   ]
  },
  {
   "cell_type": "code",
   "execution_count": 13,
   "metadata": {},
   "outputs": [],
   "source": [
    "gro = Grotrian.Grotrian(_atom=atom, _conf_prefix=\"1s2.2s2.2p6.3s2.3p6.\")\n",
    "gro.make_fig(_figsize=(10,6),_dpi=150, _f=50)\n",
    "\n",
    "#text_selection = (\"3968\", \"3934\") # \"wavelength\", \"all\"\n",
    "gro.show_Grotrian(folder + \"/Ca_II.Grotrian\", _text_selection=\"wavelength\")"
   ]
  },
  {
   "cell_type": "markdown",
   "metadata": {},
   "source": [
    "#### radiative transition rate"
   ]
  },
  {
   "cell_type": "code",
   "execution_count": 14,
   "metadata": {},
   "outputs": [],
   "source": [
    "gro.make_fig(_figsize=(10,6),_dpi=150, _f=50)\n",
    "\n",
    "cmap = plt.get_cmap('cool')\n",
    "norm = LogNorm(1E3, 1E8, clip=True)\n",
    "\n",
    "rate = np.append( Bji_Jbar+atom.Line.AJI-Bij_Jbar,Rki_stim+Rki_spon-Rik )\n",
    "idxI = np.append( atom.Line.idxI, atom.Cont.idxI )\n",
    "idxJ = np.append( atom.Line.idxJ, atom.Cont.idxJ )\n",
    "\n",
    "gro.show_transition_rate(_idxI=idxI, \n",
    "                         _idxJ=idxJ, \n",
    "                         _rate=rate, \n",
    "                         _direction=\"j->i\",\n",
    "                         _cmap=cmap, _norm=norm)"
   ]
  },
  {
   "cell_type": "markdown",
   "metadata": {},
   "source": [
    "#### collisional transition rate"
   ]
  },
  {
   "cell_type": "code",
   "execution_count": 17,
   "metadata": {},
   "outputs": [],
   "source": [
    "gro.make_fig(_figsize=(10,6),_dpi=150, _f=50)\n",
    "\n",
    "cmap = plt.get_cmap('cool')\n",
    "norm = LogNorm(1E3, 1E8, clip=True)\n",
    "\n",
    "Ne = 1E12\n",
    "rate = (Cji - Cij)*Ne\n",
    "idxI = np.append( atom.Line.idxI, atom.Cont.idxI )\n",
    "idxJ = np.append( atom.Line.idxJ, atom.Cont.idxJ )\n",
    "\n",
    "gro.show_transition_rate(_idxI=idxI, \n",
    "                         _idxJ=idxJ, \n",
    "                         _rate=rate, \n",
    "                         _direction=\"j->i\",\n",
    "                         _cmap=cmap, _norm=norm)"
   ]
  },
  {
   "cell_type": "markdown",
   "metadata": {},
   "source": [
    "#### transition plot respective to a single level"
   ]
  },
  {
   "cell_type": "code",
   "execution_count": 18,
   "metadata": {},
   "outputs": [],
   "source": [
    "gro.make_fig(_figsize=(10,6),_dpi=150, _f=50)\n",
    "\n",
    "cmap = plt.get_cmap('cool')\n",
    "norm = LogNorm(1E3, 1E8, clip=True)\n",
    "\n",
    "Ne = 1E12\n",
    "rate = (Cji - Cij)*Ne\n",
    "idxI = np.append( atom.Line.idxI, atom.Cont.idxI )\n",
    "idxJ = np.append( atom.Line.idxJ, atom.Cont.idxJ )\n",
    "\n",
    "gro.show_transition_rate(_idxI=idxI, \n",
    "                         _idxJ=idxJ, \n",
    "                         _rate=rate, \n",
    "                         _direction=\"j->i\",\n",
    "                         _cmap=cmap, _norm=norm,\n",
    "                         _level_ctj_without_prefix=(\"4p\",\"2P\",\"3/2\"))"
   ]
  }
 ],
 "metadata": {
  "kernelspec": {
   "display_name": "Python 3",
   "language": "python",
   "name": "python3"
  },
  "language_info": {
   "codemirror_mode": {
    "name": "ipython",
    "version": 3
   },
   "file_extension": ".py",
   "mimetype": "text/x-python",
   "name": "python",
   "nbconvert_exporter": "python",
   "pygments_lexer": "ipython3",
   "version": "3.6.10"
  },
  "toc": {
   "nav_menu": {},
   "number_sections": true,
   "sideBar": true,
   "skip_h1_title": false,
   "toc_cell": false,
   "toc_position": {},
   "toc_section_display": "block",
   "toc_window_display": false
  }
 },
 "nbformat": 4,
 "nbformat_minor": 4
}
