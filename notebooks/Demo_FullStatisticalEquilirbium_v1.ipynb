{
 "cells": [
  {
   "cell_type": "markdown",
   "metadata": {},
   "source": [
    "# Full Statistical Equilibrium\n",
    "\n",
    "2020.6.26    Kouui"
   ]
  },
  {
   "cell_type": "code",
   "execution_count": null,
   "metadata": {},
   "outputs": [],
   "source": [
    "import numpy as np\n",
    "import matplotlib.pyplot as plt"
   ]
  },
  {
   "cell_type": "code",
   "execution_count": null,
   "metadata": {},
   "outputs": [],
   "source": [
    "import sys\n",
    "sys.path.append(\"../\")\n",
    "\n",
    "from src.Structure import AtomCls, AtmosphereCls\n",
    "from src.Atomic import Collision, PhotoIonize\n",
    "from src.Atomic import LTELib, SEsolver, BasicP\n",
    "from src.RadiativeTransfer import Profile\n",
    "from src.Math import Integrate\n",
    "from src import Constants as Cst\n",
    "\n",
    "from src.Visual import Grotrian"
   ]
  },
  {
   "cell_type": "code",
   "execution_count": null,
   "metadata": {},
   "outputs": [],
   "source": [
    "from scipy.interpolate import interp1d"
   ]
  },
  {
   "cell_type": "markdown",
   "metadata": {},
   "source": [
    "---"
   ]
  },
  {
   "cell_type": "code",
   "execution_count": null,
   "metadata": {},
   "outputs": [],
   "source": [
    "folder = \"../data/atom/Ca_II/\"\n",
    "file     = folder + \"Ca_II.Level\"\n",
    "file_Aji = folder + \"Einstein_A/Nist.Aji\"\n",
    "file_CEe = folder + \"Collisional_Excitation/RH.Electron\"\n",
    "file_CIe = folder + \"Collisional_Ionization/RH.Electron\"\n",
    "file_PI  = folder + \"Photoionization/RH.Alpha\"\n",
    "file_Rad = folder + \"Ca_II.RadiativeLine\"\n",
    "atom = AtomCls.Atom(file, _file_Aji=file_Aji, _file_CEe=file_CEe)\n",
    "atom.read_CI(_path_electron=file_CIe)\n",
    "atom.read_PI(_path_alpha=file_PI)\n",
    "atom.read_Mesh(_path=file_Rad)\n",
    "atom.make_Mesh()\n",
    "atom.read_Radiative_Line_intensity(_folder=\"../data/intensity/Ca_II/\")"
   ]
  },
  {
   "cell_type": "code",
   "execution_count": null,
   "metadata": {},
   "outputs": [],
   "source": [
    "gro = Grotrian.Grotrian(_atom=atom, _conf_prefix=\"1s2.2s2.2p6.3s2.\")\n",
    "gro.make_fig(_figsize=(10,6),_dpi=150, _f=50)\n",
    "\n",
    "line_plot = (\n",
    "        (0, 3, \"3968\", 0.7, 0.5),\n",
    "        (0, 4, \"3934\", 0.3, 0.1),\n",
    "        (1, 3, \"8662\", 0.4, 0.8),\n",
    "        (1, 4, \"8498\", 0.9, 0.9),\n",
    "        (2, 4, \"8542\", 0.5, 0.5),\n",
    "    )\n",
    "for i, j, wl, _r1, _r2 in line_plot:\n",
    "    _ctj1 = atom.Level_info_table[i]\n",
    "    _ctj2 = atom.Level_info_table[j]\n",
    "    gro.connect_line(_cfj1=_ctj1, _cfj2=_ctj2, _r1=_r1, _r2=_r2, _c=\"black\", _text=wl, _tsize=7, _r=0.4)\n",
    "gro.show_fig()"
   ]
  },
  {
   "cell_type": "markdown",
   "metadata": {},
   "source": [
    "---"
   ]
  },
  {
   "cell_type": "code",
   "execution_count": null,
   "metadata": {},
   "outputs": [],
   "source": [
    "slab0d = AtmosphereCls.AtmosphereC0d(Te=1E4, Vt=5.E5, Ne=1E10, Vd=0E5)\n",
    "slab0d.readBackgroundIntensity('../data/intensity/continuum/ASTM_E490+PROM7_HI_CaII.dat')"
   ]
  },
  {
   "cell_type": "markdown",
   "metadata": {},
   "source": [
    "---"
   ]
  },
  {
   "cell_type": "code",
   "execution_count": null,
   "metadata": {},
   "outputs": [],
   "source": [
    "#--- \n",
    "# interpolate \n",
    "# - continuum intensity \n",
    "# - photoionization cross section \n",
    "# to compute photoionization rate\n",
    "#\n",
    "# assume : this intensity profile will not be affected by Doppler shift\n",
    "#---\n",
    "PI_intensity_mesh_list = PhotoIonize.interpolate_PI_intensity(_backRad=slab0d.BackRad[:,:], \n",
    "                                                           _continuum_mesh_list=atom.continuum_mesh_list)\n",
    "PI_alpha_mesh_list = PhotoIonize.interpolate_PI_alpha(_PI_table_list=atom.PI_table_list, \n",
    "                                                   _continuum_mesh_list=atom.continuum_mesh_list)"
   ]
  },
  {
   "cell_type": "code",
   "execution_count": null,
   "metadata": {},
   "outputs": [],
   "source": [
    "fig, ax1 = plt.subplots(1,1,figsize=(9,5),dpi=150)\n",
    "k = 0\n",
    "ax1.plot(atom.continuum_mesh_list[k][:],PI_alpha_mesh_list[k][:],\n",
    "         \"r.\", label=\"photoionization cross section\", markersize=3)\n",
    "\n",
    "\n",
    "\n",
    "ax2 = ax1.twinx()\n",
    "ax2.plot(slab0d.BackRad[0,:], slab0d.BackRad[1,:], \"k-\", \n",
    "         label=\"background intensity\", markersize=1)\n",
    "\n",
    "ax2.plot(atom.continuum_mesh_list[k][:], PI_intensity_mesh_list[k][:], \n",
    "         \"b.\", label=\"interpolated intensity mesh\", markersize=3)\n",
    "\n",
    "ax2.set_xlim(0,6E-5)\n",
    "\n",
    "ax2.set_ylabel(\"intensity, [$erg/cm^2/Sr/cm/s$]\")\n",
    "ax1.set_xlabel(\"wavelength, [$cm$]\")\n",
    "ax1.set_ylabel(\"cross section, [$cm^{2}$]\")\n",
    "\n",
    "h1, l1 = ax1.get_legend_handles_labels()\n",
    "h2, l2 = ax2.get_legend_handles_labels()\n",
    "ax1.legend(h1+h2, l1+l2, loc='upper center');"
   ]
  },
  {
   "cell_type": "code",
   "execution_count": null,
   "metadata": {},
   "outputs": [],
   "source": [
    "#--- \n",
    "# physical parameters\n",
    "#---\n",
    "_atom = atom\n",
    "_Te = slab0d.data.Te\n",
    "_Ne = slab0d.data.Ne\n",
    "_Vt = slab0d.data.Vt\n",
    "_Vd = slab0d.data.Vd\n",
    "#_Vd = 100E5 # 100 [km/s]"
   ]
  },
  {
   "cell_type": "code",
   "execution_count": null,
   "metadata": {},
   "outputs": [],
   "source": [
    "#--- \n",
    "# compute LTE population ratio for each CE transition\n",
    "#---\n",
    "\n",
    "_n_LTE = LTELib.get_LTE_ratio(_erg=_atom.Level.erg[:], _g=_atom.Level.g[:],\n",
    "                              _stage=_atom.Level.stage[:], _Te=_Te, _Ne=_Ne)\n",
    "\n",
    "#--- \n",
    "# we are going to use LTE population ratio to convert C_{ij} to C_{ji},\n",
    "# so we need the the LTE population of the lower/upper level of each transition\n",
    "#---\n",
    "_nTran = _atom.nLine\n",
    "_ni_LTE = np.empty(_nTran, dtype=np.double)\n",
    "_nj_LTE = np.empty(_nTran, dtype=np.double)\n",
    "\n",
    "for k in range(_nTran):\n",
    "    _ni_LTE[k] = _n_LTE[_atom.CE_coe.idxI[k]]\n",
    "    _nj_LTE[k] = _n_LTE[_atom.CE_coe.idxJ[k]]"
   ]
  },
  {
   "cell_type": "code",
   "execution_count": null,
   "metadata": {},
   "outputs": [],
   "source": [
    "#--- \n",
    "# compute bound-free radiative transition rate coefficient\n",
    "#    - photoionization\n",
    "#    - spotaneous radiative recombination\n",
    "#    - stimulated radiative recombination\n",
    "#---\n",
    "_Rik = np.zeros(_atom.Line.AJI.shape,dtype=np.double)\n",
    "_Rki_stim = np.zeros(_atom.Line.AJI.shape,dtype=np.double)\n",
    "_Rki_spon = np.zeros(_atom.Line.AJI.shape,dtype=np.double)\n",
    "\n",
    "for k in range(_atom.nCont):\n",
    "    _line_index = _atom.PI_coe.lineIndex[k]\n",
    "    _res = PhotoIonize.bound_free_radiative_transition_coefficient(\n",
    "                        wave = _atom.continuum_mesh_list[k][::-1],\n",
    "                        J = PI_intensity_mesh_list[k][::-1] * 0.5,\n",
    "                        alpha = PI_alpha_mesh_list[k][::-1],\n",
    "                        Te = _Te,\n",
    "                        ni_lte = _ni_LTE[_line_index],\n",
    "                        nk_lte = _nj_LTE[_line_index],)\n",
    "    _Rik[_line_index] = _res[0]\n",
    "    _Rki_stim[_line_index] = _res[1]\n",
    "    _Rki_spon[_line_index] = _res[2]"
   ]
  },
  {
   "cell_type": "code",
   "execution_count": null,
   "metadata": {},
   "outputs": [],
   "source": [
    "#--- \n",
    "# compute bound-bound radiative transition rate coefficient\n",
    "#    - spotaneous radiative excitation\n",
    "#    - stimulated radiative de-excitation\n",
    "#---\n",
    "# compute Level gamma\n",
    "BasicP.get_Level_gamma(Aji=_atom.Line.AJI[:],idxJ=_atom.Line.idxJ[:],\n",
    "                       gamma=_atom.Level.gamma[:])\n",
    "# compute Line Gamma\n",
    "BasicP.get_Line_Gamma(idxI=_atom.Line.idxI[:], idxJ=_atom.Line.idxJ[:],\n",
    "                    gamma=_atom.Level.gamma[:], Gamma=_atom.Line.Gamma[:],\n",
    "                    isCont=_atom.Line.isContinuum[:])\n",
    "# compute \n",
    "#   - Doppler width [cm] \n",
    "#   - damping constant a [-]\n",
    "#   - wavelength mesh [cm] (Doppler shifted)\n",
    "#   - sbsorption profile [cm^{-1}]\n",
    "# for radiative line transitions\n",
    "_dopWidth_cm = np.zeros(_atom.nRadiativeLine, np.double)\n",
    "_a = np.zeros(_atom.nRadiativeLine, np.double)\n",
    "_Bij_Jbar = np.zeros(_atom.nLine, np.double)\n",
    "_Bji_Jbar = np.zeros(_atom.nLine, np.double)\n",
    "for k in range(_atom.nRadiativeLine):\n",
    "    _line_index = _atom.RadLine_coe.lineIndex[k]\n",
    "    _w0 = _atom.Line.w0[ _line_index ]\n",
    "    _f0 = _atom.Line.f0[ _line_index ]\n",
    "    _dopWidth_cm[k] = BasicP.get_Doppler_width(p0=_w0, Te=_Te, Vt=_Vt, am=_atom.am)\n",
    "    _a[k] = BasicP.get_damping_a(_Gamma=_atom.Line.Gamma[_line_index], \n",
    "                                 _dopWidth_hz=_dopWidth_cm[k]*_f0/_w0 )\n",
    "\n",
    "    _wave_mesh = _atom.line_mesh_list[k][:]\n",
    "    _wave_mesh_shifted = _wave_mesh - (_w0*_Vd/Cst.c_)/_dopWidth_cm[k]\n",
    "    _wave_mesh_cm = _wave_mesh_shifted[:] * _dopWidth_cm[k]\n",
    "    _absorb_mesh_cm = Profile.Voigt(_a[k], _wave_mesh[:]) / _dopWidth_cm[k]\n",
    "    #print(Integrate.Trapze(_absorb_mesh_cm[:], _wave_mesh_cm))\n",
    "    \n",
    "    _radLine = _atom.radiative_line_intensity_cm_list[k]\n",
    "    _fill_value = (_radLine[1,0],_radLine[1,-1])\n",
    "    _f = interp1d(x=_radLine[0,:], y=_radLine[1,:],\n",
    "                  bounds_error=False, fill_value=_fill_value)\n",
    "    _intensity_mesh_cm = _f(_wave_mesh_cm)\n",
    "    \n",
    "    _gi = _atom.Level.g[ _atom.Line.idxI[_line_index] ]\n",
    "    _gj = _atom.Level.g[ _atom.Line.idxJ[_line_index] ]\n",
    "    _Aji = _atom.Line.AJI[_line_index]\n",
    "    _Bji, _Bij = LTELib.EinsteinA_to_EinsteinBs_cm(_Aji, _w0, _gi, _gj)\n",
    "    \n",
    "    _integrand = 0.5 *_intensity_mesh_cm[:] * _absorb_mesh_cm\n",
    "    _Jbar = Integrate.Trapze(integrand=_integrand, x=_wave_mesh_cm)\n",
    "    \n",
    "    _Bji_Jbar[_line_index] = _Bji * _Jbar\n",
    "    _Bij_Jbar[_line_index] = _Bij * _Jbar\n",
    "    "
   ]
  },
  {
   "cell_type": "code",
   "execution_count": null,
   "metadata": {},
   "outputs": [],
   "source": [
    "fig, ax1 = plt.subplots(1,1,figsize=(9,5),dpi=150)\n",
    "ax1.plot(_wave_mesh_cm, _absorb_mesh_cm, \"k.\", \n",
    "         label=\"intensity profile\", markersize=1)\n",
    "\n",
    "\n",
    "ax2 = ax1.twinx()\n",
    "ax2.plot(_radLine[0,:],_radLine[1,:],\n",
    "         \"r.\", label=\"absorption profile\", markersize=1)\n",
    "ax2.plot(_wave_mesh_cm, _intensity_mesh_cm, \"b.\", \n",
    "         label=\"interpolated intensity mesh\", markersize=2)\n",
    "\n",
    "ax2.set_ylabel(\"intensity, [$erg/cm^2/Sr/cm/s$]\")\n",
    "ax1.set_xlabel(\"wavelength, [$cm$]\")\n",
    "ax1.set_ylabel(\"absorption profile, [$cm^{-1}$]\")\n",
    "\n",
    "h1, l1 = ax1.get_legend_handles_labels()\n",
    "h2, l2 = ax2.get_legend_handles_labels()\n",
    "ax1.legend(h1+h2, l1+l2, loc='lower right');"
   ]
  },
  {
   "cell_type": "code",
   "execution_count": null,
   "metadata": {},
   "outputs": [],
   "source": [
    "#--- \n",
    "# compute collision \n",
    "#    - excitation/de-excitation \n",
    "#    - ionization/recombination\n",
    "# rate coefficient\n",
    "#---\n",
    "_CE_fac = Collision.interpolate_CE_fac(\n",
    "            _table=_atom.CE_table[:,:], _Te=_Te, \n",
    "            _Te_table=_atom.CE_Te_table[:], \n",
    "            _f1=_atom.CE_coe.f1[:], _f2=_atom.CE_coe.f2[:],\n",
    "            _isCont=_atom.Line.isContinuum[:])\n",
    "    \n",
    "_CEij = Collision.get_CE_rate_coe(_CE_fac=_CE_fac, _Te=_Te, \n",
    "                                  _gi=_atom.CE_coe.gi[:],\n",
    "                                  _dEij=_atom.CE_coe.dEij[:])\n",
    "\n",
    "_CI_fac = Collision.interpolate_CI_fac(_table=_atom.CI_table[:,:], _Te=_Te, \n",
    "                                       _Te_table=_atom.CI_Te_table[:], \n",
    "                                       _f2=_atom.CI_coe.f2[:], \n",
    "                                       _lineIndex=_atom.CI_coe.lineIndex[:], \n",
    "                                       _nTran=_atom.nLine)\n",
    "_CIij = Collision.get_CI_rate_coe(_CI_fac=_CI_fac[:], _Te=_Te, \n",
    "                                  _dEik=_atom.CE_coe.dEij[:])\n",
    "\n",
    "_Cij = _CEij[:] + _CIij[:]\n",
    "_Cji = Collision.Cij_to_Cji(_Cij=_Cij,  _ni_LTE=_ni_LTE, _nj_LTE=_nj_LTE)"
   ]
  },
  {
   "cell_type": "code",
   "execution_count": null,
   "metadata": {},
   "outputs": [],
   "source": [
    "fig, ax = plt.subplots(1,1,figsize=(9,5),dpi=150)\n",
    "mask = []\n",
    "for k in range(_atom.nRadiativeLine):\n",
    "    mask.append( _atom.RadLine_coe.lineIndex[k] )\n",
    "\n",
    "ax.plot(_atom.Line.AJI[mask], \"k-\", label=\"Aji\")\n",
    "ax.plot(_Bij_Jbar[mask], \"b-\", label=\"Bij*Jbar\")\n",
    "ax.plot(_Bji_Jbar[mask], \"r-\", label=\"Bji*Jbar\")\n",
    "ax.plot(_Cij[mask]*_Ne, \"g-\", label=\"Cij*Ne\")\n",
    "ax.plot(_Cji[mask]*_Ne, \"y-\", label=\"Cji*Ne\")\n",
    "\n",
    "ax.plot(_atom.Line.AJI[mask], \"ko\", markersize=10)\n",
    "ax.plot(_Bij_Jbar[mask], \"bo\", markersize=10)\n",
    "ax.plot(_Bji_Jbar[mask], \"ro\", markersize=10)\n",
    "ax.plot(_Cij[mask]*_Ne, \"go\", markersize=10)\n",
    "ax.plot(_Cji[mask]*_Ne, \"yo\", markersize=10)\n",
    "\n",
    "ax.set_ylabel(\"transition rate coefficient, [$s^{-1}$]\")\n",
    "ax.set_xlabel(\"line transition, wavelength, [$\\AA$]\")\n",
    "\n",
    "ax.set_xticks(np.arange(_atom.nRadiativeLine))\n",
    "ax.set_xticklabels([f\"{_w0_AA:.0f}\" for _w0_AA in _atom.Line.w0_AA[mask]])\n",
    "ax.set_yscale(\"log\")\n",
    "ax.legend(loc=\"best\")"
   ]
  },
  {
   "cell_type": "code",
   "execution_count": null,
   "metadata": {},
   "outputs": [],
   "source": [
    "#--- \n",
    "# set MatrixC (collisional)\n",
    "#---\n",
    "_nLevel = _atom.nLevel\n",
    "_Cmat = np.zeros((_nLevel, _nLevel), dtype=np.double)\n",
    "SEsolver.setMatrixC(_Cmat=_Cmat[:,:], \n",
    "                    _Cji=_Cji[:], \n",
    "                    _Cij=_Cij[:],\n",
    "                    _idxI=_atom.CE_coe.idxI[:], \n",
    "                    _idxJ=_atom.CE_coe.idxJ[:], _Ne=_Ne)\n",
    "\n",
    "#--- \n",
    "# set MatrixR (radiative)\n",
    "#---\n",
    "_Rmat     = np.zeros((_nLevel, _nLevel), dtype=np.double)\n",
    "SEsolver.setMatrixR(_Rmat=_Rmat[:,:], \n",
    "                    _Rji_spon=_atom.Line.AJI[:]+_Rki_spon[:],\n",
    "                    _Rji_stim=_Bji_Jbar[:]+_Rki_stim[:], \n",
    "                    _Rij=_Bij_Jbar[:]+_Rik[:], \n",
    "                    _idxI=_atom.Line.idxI[:], \n",
    "                    _idxJ=_atom.Line.idxJ[:])\n",
    "#--- \n",
    "# solve statistical equilibrium equations\n",
    "#---\n",
    "_n_SE = SEsolver.solveSE(_Rmat=_Rmat[:,:], _Cmat=_Cmat[:,:])"
   ]
  },
  {
   "cell_type": "markdown",
   "metadata": {},
   "source": [
    "---"
   ]
  }
 ],
 "metadata": {
  "kernelspec": {
   "display_name": "Python 3",
   "language": "python",
   "name": "python3"
  },
  "language_info": {
   "codemirror_mode": {
    "name": "ipython",
    "version": 3
   },
   "file_extension": ".py",
   "mimetype": "text/x-python",
   "name": "python",
   "nbconvert_exporter": "python",
   "pygments_lexer": "ipython3",
   "version": "3.6.10"
  },
  "toc": {
   "nav_menu": {},
   "number_sections": true,
   "sideBar": true,
   "skip_h1_title": false,
   "toc_cell": false,
   "toc_position": {},
   "toc_section_display": "block",
   "toc_window_display": false
  }
 },
 "nbformat": 4,
 "nbformat_minor": 2
}
