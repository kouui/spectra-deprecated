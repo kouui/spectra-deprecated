{
 "cells": [
  {
   "cell_type": "code",
   "execution_count": 1,
   "metadata": {},
   "outputs": [
    {
     "data": {
      "text/html": [
       "<style>.container { width:95% !important; }</style>"
      ],
      "text/plain": [
       "<IPython.core.display.HTML object>"
      ]
     },
     "metadata": {},
     "output_type": "display_data"
    }
   ],
   "source": [
    "from IPython.core.display import display, HTML\n",
    "display(HTML(\"<style>.container { width:95% !important; }</style>\"))"
   ]
  },
  {
   "cell_type": "code",
   "execution_count": 2,
   "metadata": {},
   "outputs": [],
   "source": [
    "import numpy as np\n",
    "\n",
    "%matplotlib inline\n",
    "#%matplotlib tk\n",
    "import matplotlib.pyplot as plt\n",
    "from matplotlib.colors import LogNorm"
   ]
  },
  {
   "cell_type": "code",
   "execution_count": 3,
   "metadata": {
    "scrolled": false
   },
   "outputs": [],
   "source": [
    "import sys\n",
    "sys.path.append(\"../../\")\n",
    "\n",
    "%load_ext autoreload\n",
    "%autoreload 2\n",
    "\n",
    "from src.Structure import AtomCls\n",
    "from src.Atomic import Collision, SEsolver\n",
    "\n",
    "from src.Util import Class\n",
    "\n",
    "from src.Visual import Grotrian, Plotting\n",
    "\n",
    "import src.Constants as Cst\n",
    "from src.Atomic import LTELib\n",
    "\n",
    "from src.Function.StatisticalEquilibrium import LibClass as SELib\n",
    "from src.Function.StatisticalEquilibrium import LibArray\n",
    "\n",
    "from src.Atomic import Hydrogen"
   ]
  },
  {
   "cell_type": "markdown",
   "metadata": {},
   "source": [
    "---"
   ]
  },
  {
   "cell_type": "code",
   "execution_count": 5,
   "metadata": {},
   "outputs": [],
   "source": [
    "atom, paths = AtomCls.InitAtom(\"../../data/conf/H.conf\", isHydrogen=True)"
   ]
  },
  {
   "cell_type": "markdown",
   "metadata": {},
   "source": [
    "---"
   ]
  },
  {
   "cell_type": "markdown",
   "metadata": {},
   "source": [
    "---"
   ]
  },
  {
   "cell_type": "markdown",
   "metadata": {},
   "source": [
    "## Einstein `Aji` coeficient"
   ]
  },
  {
   "cell_type": "code",
   "execution_count": null,
   "metadata": {},
   "outputs": [],
   "source": [
    "ni_arr = atom.Line.idxI[:] + 1\n",
    "nj_arr = atom.Line.idxJ[:] + 1\n",
    "Aji = Hydrogen.Einstein_A_coefficient(ni_arr, nj_arr)\n",
    "\n",
    "fig, ax = plt.subplots(1,1, figsize=(6,3), dpi=100)\n",
    "ax.plot( Aji[:], 'o', markersize=4, label=\"calculation\")\n",
    "ax.plot( atom.Line.AJI[:], label=\"NIST\" )\n",
    "\n",
    "ax.legend(loc=\"best\")\n",
    "ax.set_yscale(\"log\")\n",
    "ax.set_title(\"Johnson1972\")\n",
    "ax.set_ylabel(\"$A_{ji} \\; [s^{-1}]$\")\n",
    "plt.show()"
   ]
  },
  {
   "cell_type": "markdown",
   "metadata": {},
   "source": [
    "## Collisional Excitation rate coefficient"
   ]
  },
  {
   "cell_type": "code",
   "execution_count": null,
   "metadata": {},
   "outputs": [],
   "source": [
    "fig, ax = plt.subplots(1,1, figsize=(6,3), dpi=100)\n",
    "\n",
    "n = 21\n",
    "Te = np.logspace(3.8, 6, n)\n",
    "Ne = 1E11\n",
    "\n",
    "k = 6\n",
    "ni = 1\n",
    "for nj in range(ni+1, k+1):\n",
    "    Cij = Hydrogen.CE_rate_coe(ni,nj,Te)\n",
    "    ax.plot( Te, Ne*Cij, '--o', markersize=4, label=f\"ni={ni}-->nj={nj}\" )\n",
    "\n",
    "ax.legend(loc=\"best\")\n",
    "ax.set_xscale(\"log\")\n",
    "ax.set_yscale(\"log\")\n",
    "\n",
    "ax.set_xlabel(\"$T_{e} \\; [K]$\")\n",
    "\n",
    "ax.set_title(\"Johnson1972\")\n",
    "ax.set_ylabel(\"$N_{e}C_{ij} \\; [s^{-1}]$\")\n",
    "plt.show()"
   ]
  },
  {
   "cell_type": "markdown",
   "metadata": {},
   "source": [
    "## Collisional ionization rate coefficient"
   ]
  },
  {
   "cell_type": "code",
   "execution_count": null,
   "metadata": {},
   "outputs": [],
   "source": [
    "fig, axs = plt.subplots(1,2, figsize=(8,3), dpi=100, sharey=True)\n",
    "\n",
    "n = 21\n",
    "Te = np.logspace(3.8, 6, n)\n",
    "Ne = 1E11\n",
    "\n",
    "k = 6\n",
    "\n",
    "functions = {\n",
    "    \"Johnson1972\" : Hydrogen.CI_rate_coe,\n",
    "    \"Clark+1991\"  : Hydrogen.CI_rate_coe_Clark,\n",
    "}\n",
    "\n",
    "for i, name in enumerate(functions.keys()):\n",
    "    ax = axs[i]\n",
    "    for ni in range(1, k+1):\n",
    "        Cik = functions[name](ni,Te)\n",
    "        ax.plot( Te, Ne*Cik, '--o', markersize=4, label=f\"ni={ni}-->nj={nj}\" )\n",
    "        ax.legend(loc=\"best\")\n",
    "        ax.set_xscale(\"log\")\n",
    "        ax.set_yscale(\"log\")\n",
    "        ax.set_title(name)\n",
    "        ax.set_ylabel( \"$N_{e}C_{ik} \\; [s^{-1}]$\" ) if i==0 else None\n",
    "        ax.set_xlabel( \"$T_{e} \\; [K]$\" )\n",
    "\n",
    "plt.show()"
   ]
  },
  {
   "cell_type": "markdown",
   "metadata": {},
   "source": [
    "**let's use *Johnson1972* version**"
   ]
  },
  {
   "cell_type": "markdown",
   "metadata": {},
   "source": [
    "## bound-free Gaunt factor"
   ]
  },
  {
   "cell_type": "code",
   "execution_count": null,
   "metadata": {},
   "outputs": [],
   "source": [
    "x = np.linspace(1, 2, 11)\n",
    "\n",
    "fig, axs = plt.subplots(1,2, figsize=(8,3), dpi=100, sharey=True)\n",
    "\n",
    "functions = {\n",
    "    \"Johnson1972\" : Hydrogen.Gaunt_factor,\n",
    "    \"Gingerich+1991\"  : Hydrogen.Gaunt_factor_Gingerich,\n",
    "}\n",
    "\n",
    "for i, name in enumerate(functions.keys()):\n",
    "    ax = axs[i]\n",
    "    for ni in range(1,8):\n",
    "        g = functions[name](ni, x)\n",
    "        ax.plot( x, g, '--o', markersize=3, label=f\"ni={ni}\" )\n",
    "        ax.legend(loc='best')\n",
    "        ax.set_title(name)\n",
    "        ax.set_xlabel(\"$E_{transition}/E_{ik}$\")\n",
    "        ax.set_ylabel(\"bound-free Gaunt factor\") if i==0 else None\n",
    "\n",
    "\n",
    "plt.show()"
   ]
  },
  {
   "cell_type": "markdown",
   "metadata": {},
   "source": [
    "**let's use *Johnson1972* version**"
   ]
  },
  {
   "cell_type": "markdown",
   "metadata": {},
   "source": [
    "## photoionization cross section"
   ]
  },
  {
   "cell_type": "code",
   "execution_count": null,
   "metadata": {},
   "outputs": [],
   "source": [
    "x = np.linspace(1, 2, 11)\n",
    "\n",
    "fig, ax = plt.subplots(1,1, figsize=(6,3), dpi=100)\n",
    "\n",
    "functions = {\n",
    "    \"Photoionization cross section\" : Hydrogen.PI_cross_section,\n",
    "}\n",
    "\n",
    "for i, name in enumerate(functions.keys()):\n",
    "    for ni in range(1,8):\n",
    "        alpha = functions[name](ni, x, 1)\n",
    "        ax.plot( x, alpha, '--o', markersize=3, label=f\"ni={ni}\" )\n",
    "        ax.legend(loc='best')\n",
    "        ax.set_title(name)\n",
    "        ax.set_ylabel(\"$\\\\alpha \\; [cm^{2}]$\")\n",
    "        ax.set_xlabel(\"$E_{transition}/E_{ik}$\")\n",
    "\n",
    "\n",
    "plt.show()"
   ]
  },
  {
   "cell_type": "markdown",
   "metadata": {},
   "source": [
    "## Spontaneous radiative recombination"
   ]
  },
  {
   "cell_type": "code",
   "execution_count": null,
   "metadata": {},
   "outputs": [],
   "source": [
    "fig, axs = plt.subplots(1,2, figsize=(8,3), dpi=100, sharey=True)\n",
    "\n",
    "n = 21\n",
    "#Te = np.logspace(3.8, 6, n)\n",
    "Te = np.linspace(6000, 2E4, n)\n",
    "Ne = 1E10\n",
    "\n",
    "for ni in range(1, 8):\n",
    "    RCki = Hydrogen.Rki_spon_rate_coe(ni,Te)\n",
    "    ax.plot( Te, Ne*RCki, '--o', markersize=4, label=f\"continuum-->ni={ni}\" )\n",
    "    ax.legend(loc=\"best\")\n",
    "\n",
    "Tr = 6E3\n",
    "\n",
    "Rki_spon_arr = []\n",
    "for t in range(Te.shape[0]):\n",
    "    n_LTE , nj_by_ni_Line, nj_by_ni_Cont = SELib.ni_nj_LTE(atom, Te[t], Ne)\n",
    "    Rik, Rki_stim, Rki_spon = SELib.bf_R_rate(atom, Te[t], nj_by_ni_Cont, _Tr=Tr)\n",
    "    Rki_spon_arr.append( Rki_spon )\n",
    "Rki_spon_arr = np.array( Rki_spon_arr )\n",
    "\n",
    "ax = axs[1]\n",
    "for ni in range(1, 8):\n",
    "    ax.plot( Te, Rki_spon_arr[:,ni-1], '--o', markersize=4, label=f\"continuum-->ni={ni}\" )\n",
    "    ax.legend(loc=\"best\")\n",
    "    ax.set_yscale(\"log\")\n",
    "    ax.set_title(\"Integration\")\n",
    "\n",
    "\n",
    "ax = axs[0]\n",
    "for ni in range(1, 8):\n",
    "    RCki = Hydrogen.Rki_spon_rate_coe(ni,Te)\n",
    "    ax.plot( Te, Ne*RCki, '--o', markersize=4, label=f\"continuum-->ni={ni}\" )\n",
    "    ax.legend(loc=\"best\")\n",
    "    ax.set_yscale(\"log\")\n",
    "    ax.set_title(\"Johnson1972\")\n",
    "\n",
    "#ax.set_xscale(\"log\")\n",
    "ax.set_yscale(\"log\")\n",
    "\n",
    "ax.set_xlabel(\"$T_{e} \\; [K]$\")\n",
    "ax.set_ylabel(\"$R_{ki}^{spon} \\; [s^{-1}]$\")\n",
    "plt.show()"
   ]
  },
  {
   "cell_type": "markdown",
   "metadata": {},
   "source": [
    "**let's use integration of photoionization cross section**"
   ]
  },
  {
   "cell_type": "markdown",
   "metadata": {},
   "source": [
    "## Statictical Equilibrium"
   ]
  },
  {
   "cell_type": "code",
   "execution_count": null,
   "metadata": {},
   "outputs": [],
   "source": [
    "Te = 1E4\n",
    "Ne = 1E11\n",
    "Tr = 6E3\n",
    "\n",
    "# n_LTE : LTE population (summed up to 1)\n",
    "# nj_by_ni_Line : nj/ni for line transitions\n",
    "# nj_by_ni_Cont : nj/ni for Continuum transitions\n",
    "n_LTE , nj_by_ni_Line, nj_by_ni_Cont = SELib.ni_nj_LTE(atom, Te, Ne)\n",
    "\n",
    "Rik, Rki_stim, Rki_spon = SELib.bf_R_rate(atom, Te, nj_by_ni_Cont, _Tr=Tr)\n",
    "Bij_Jbar, Bji_Jbar = SELib.B_Jbar(atom, _Tr=Tr)\n",
    "\n",
    "##  ij : ij + ik\n",
    "Cij = SELib.get_Cij(atom, Te)\n",
    "Cji = Collision.Cij_to_Cji( Cij, np.append(nj_by_ni_Line,nj_by_ni_Cont) )\n",
    "\n",
    "n_SE = SELib.solve_SE(atom, \n",
    "                     Ne, Cji, Cij, \n",
    "                     Bji_Jbar, Bij_Jbar, \n",
    "                     Rki_spon, Rki_stim, Rik)"
   ]
  },
  {
   "cell_type": "code",
   "execution_count": null,
   "metadata": {},
   "outputs": [],
   "source": [
    "print(f\"Electron temperature  = {Te:.1E}\")\n",
    "print(f\"Electron density      = {Ne:.1E}\")\n",
    "print(f\"Radiation temperature = {Tr:.1E}\")\n",
    "print('-'*35)\n",
    "print(\"SE  :\")\n",
    "for v in n_SE:\n",
    "    print(f\"{v:.4E}\",end=\"  \")\n",
    "print(f\"\\nLTE :\")\n",
    "for v in n_LTE:\n",
    "    print(f\"{v:.4E}\",end=\"  \")"
   ]
  },
  {
   "cell_type": "markdown",
   "metadata": {},
   "source": [
    "## Ionization fraction v.s. Electron temperature"
   ]
  },
  {
   "cell_type": "code",
   "execution_count": null,
   "metadata": {},
   "outputs": [],
   "source": [
    "nTe = 51\n",
    "Te = np.linspace(3E3, 2E4, nTe)\n",
    "\n",
    "Ne = 1E10\n",
    "Tr = 6E3\n",
    "\n",
    "eta = {\n",
    "    \"LTE\": np.zeros(nTe),\n",
    "    \"SE\" : np.zeros(nTe),\n",
    "}\n",
    "\n",
    "for k in range(nTe):\n",
    "    n_LTE , nj_by_ni_Line, nj_by_ni_Cont = SELib.ni_nj_LTE(atom, Te[k], Ne)\n",
    "\n",
    "    Rik, Rki_stim, Rki_spon = SELib.bf_R_rate(atom, Te[k], nj_by_ni_Cont, _Tr=Tr)\n",
    "    Bij_Jbar, Bji_Jbar = SELib.B_Jbar(atom, _Tr=Tr)\n",
    "\n",
    "    ##  ij : ij + ik\n",
    "    Cij = SELib.get_Cij(atom, Te[k])\n",
    "    Cji = Collision.Cij_to_Cji( Cij, np.append(nj_by_ni_Line,nj_by_ni_Cont) )\n",
    "\n",
    "    n_SE = SELib.solve_SE(atom, \n",
    "                         Ne, Cji, Cij, \n",
    "                         Bji_Jbar, Bij_Jbar, \n",
    "                         Rki_spon, Rki_stim, Rik)\n",
    "    \n",
    "    eta[\"LTE\"][k] = n_LTE[-1] / n_LTE[:].sum()\n",
    "    eta[\"SE\"][k] = n_SE[-1] / n_SE[:].sum()"
   ]
  },
  {
   "cell_type": "code",
   "execution_count": null,
   "metadata": {},
   "outputs": [],
   "source": [
    "fig, ax = plt.subplots(1,1, figsize=(6,3), dpi=120)\n",
    "\n",
    "for i, name in enumerate(eta.keys()):\n",
    "    ax.plot(Te[:], eta[name][:], '--o', markersize=3, label=name)\n",
    "    \n",
    "ax.set_xlabel(\"$T_{e} \\; [K]$\")\n",
    "ax.set_ylabel(\"$ n_{H\\, II} \\; / \\; n_{H} $\")\n",
    "ax.legend(loc=\"best\")\n",
    "ax.set_title(\"ionization fraction v.s. eletron temperature\")\n",
    "plt.show()"
   ]
  },
  {
   "cell_type": "markdown",
   "metadata": {},
   "source": [
    "## Ionization fraction v.s. Electron density"
   ]
  },
  {
   "cell_type": "code",
   "execution_count": null,
   "metadata": {},
   "outputs": [],
   "source": [
    "Te = 8E3\n",
    "nNe = 51\n",
    "Ne = np.logspace(8,15, nNe)\n",
    "Tr = 6E3\n",
    "\n",
    "eta = {\n",
    "    \"LTE\": np.zeros(nNe),\n",
    "    \"SE\" : np.zeros(nNe),\n",
    "}\n",
    "\n",
    "for k in range(nNe):\n",
    "    n_LTE , nj_by_ni_Line, nj_by_ni_Cont = SELib.ni_nj_LTE(atom, Te, Ne[k])\n",
    "\n",
    "    Rik, Rki_stim, Rki_spon = SELib.bf_R_rate(atom, Te, nj_by_ni_Cont, _Tr=Tr)\n",
    "    Bij_Jbar, Bji_Jbar = SELib.B_Jbar(atom, _Tr=Tr)\n",
    "\n",
    "    ##  ij : ij + ik\n",
    "    Cij = SELib.get_Cij(atom, Te)\n",
    "    Cji = Collision.Cij_to_Cji( Cij, np.append(nj_by_ni_Line,nj_by_ni_Cont) )\n",
    "\n",
    "    n_SE = SELib.solve_SE(atom, \n",
    "                         Ne[k], Cji, Cij, \n",
    "                         Bji_Jbar, Bij_Jbar, \n",
    "                         Rki_spon, Rki_stim, Rik)\n",
    "    \n",
    "    eta[\"LTE\"][k] = n_LTE[-1] / n_LTE[:].sum()\n",
    "    eta[\"SE\"][k] = n_SE[-1] / n_SE[:].sum()"
   ]
  },
  {
   "cell_type": "code",
   "execution_count": null,
   "metadata": {},
   "outputs": [],
   "source": [
    "fig, ax = plt.subplots(1,1, figsize=(6,3), dpi=120)\n",
    "\n",
    "for i, name in enumerate(eta.keys()):\n",
    "    ax.plot(Ne[:], eta[name][:], '--o', markersize=3, label=name)\n",
    "    \n",
    "ax.set_xlabel(\"$N_{e} \\; [cm^{-3}]$\")\n",
    "ax.set_ylabel(\"$ n_{H\\, II} \\; / \\; n_{H} $\")\n",
    "ax.legend(loc=\"best\")\n",
    "ax.set_xscale('log')\n",
    "ax.set_title(\"ionization fraction v.s. eletron density\")\n",
    "plt.show()"
   ]
  },
  {
   "cell_type": "markdown",
   "metadata": {},
   "source": [
    "## ionization fraction ($T_{e},N_{e}$)"
   ]
  },
  {
   "cell_type": "code",
   "execution_count": null,
   "metadata": {},
   "outputs": [],
   "source": [
    "nTe = 61\n",
    "Te = np.linspace(5E3, 2E4, nTe)\n",
    "nNe = 61\n",
    "Ne = np.logspace(8,14, nNe)\n",
    "Tr = 6E3\n",
    "\n",
    "eta = {\n",
    "    \"Local Termal Equil.\": np.zeros((nNe,nTe)),\n",
    "    \"Statistical Equil.\" : np.zeros((nNe,nTe)),\n",
    "    \"Coronal Equil.\" : np.zeros((nNe,nTe)),\n",
    "}\n",
    "\n",
    "for nn in range(nNe):\n",
    "    for nt in range(nTe):\n",
    "        n_LTE , nj_by_ni_Line, nj_by_ni_Cont = SELib.ni_nj_LTE(atom, Te[nt], Ne[nn])\n",
    "\n",
    "        Rik, Rki_stim, Rki_spon = SELib.bf_R_rate(atom, Te[nt], nj_by_ni_Cont, _Tr=Tr)\n",
    "        Bij_Jbar, Bji_Jbar = SELib.B_Jbar(atom, _Tr=Tr)\n",
    "\n",
    "        ##  ij : ij + ik\n",
    "        Cij = SELib.get_Cij(atom, Te[nt])\n",
    "        Cji = Collision.Cij_to_Cji( Cij, np.append(nj_by_ni_Line,nj_by_ni_Cont) )\n",
    "\n",
    "        n_SE = SELib.solve_SE(atom, \n",
    "                             Ne[nn], Cji, Cij, \n",
    "                             Bji_Jbar, Bij_Jbar, \n",
    "                             Rki_spon, Rki_stim, Rik)\n",
    "\n",
    "        eta[\"Local Termal Equil.\"][nn,nt] = n_LTE[-1] / n_LTE[:].sum()\n",
    "        eta[\"Statistical Equil.\"][nn,nt] = n_SE[-1] / n_SE[:].sum()\n",
    "        \n",
    "        ##-- Coronal Equilibrium\n",
    "        Bji_Jbar[:] = 0\n",
    "        Bij_Jbar[:] = 0\n",
    "        Rki_stim[:] = 0\n",
    "        Rik[:]      = 0\n",
    "        n_CE = SELib.solve_SE(atom, \n",
    "                             Ne[nn], Cji, Cij, \n",
    "                             Bji_Jbar, Bij_Jbar, \n",
    "                             Rki_spon, Rki_stim, Rik)\n",
    "        eta[\"Coronal Equil.\"][nn,nt] = n_CE[-1] / n_CE[:].sum()"
   ]
  },
  {
   "cell_type": "code",
   "execution_count": null,
   "metadata": {},
   "outputs": [],
   "source": [
    "fig, axs = plt.subplots(1,3, figsize=(10,3), dpi=150)\n",
    "plt.subplots_adjust(wspace=0.03)\n",
    "\n",
    "for ax, name in zip( axs, eta.keys() ):\n",
    "    im = ax.imshow(eta[name][:,:], cmap=\"inferno\", origin=\"lower\", vmin=1.E-9, vmax=1.)\n",
    "    \n",
    "    Plotting.set_imshow_ticks(ax, Te, axis='x',points=4, fmt='%1.0f',rot=0)\n",
    "    Plotting.set_imshow_ticks(ax, np.log10(Ne), axis='y',points=4, fmt='%1.0f',rot=0)\n",
    "    ax.set_title(\"$ n_{H\\, II} \\; / \\; n_{H} $\" + f\"  {name}\")\n",
    "\n",
    "axs[0].set_ylabel(\"$N_{e} \\; [cm^{-3}]$\")\n",
    "axs[0].set_xlabel(\"$T_{e} \\; [K]$\")\n",
    "Plotting.remove_tick_ticklabel(axs[1],axs[2], kind='xy')\n",
    "\n",
    "cax = fig.add_axes([0.45,0.07,0.4,0.02])\n",
    "fig.colorbar(im, cax=cax, orientation=\"horizontal\")\n",
    "\n",
    "plt.show()"
   ]
  },
  {
   "cell_type": "markdown",
   "metadata": {},
   "source": [
    "---"
   ]
  },
  {
   "cell_type": "markdown",
   "metadata": {},
   "source": [
    "---"
   ]
  },
  {
   "cell_type": "markdown",
   "metadata": {},
   "source": [
    "## Profilling"
   ]
  },
  {
   "cell_type": "code",
   "execution_count": null,
   "metadata": {},
   "outputs": [],
   "source": [
    "%%timeit\n",
    "_ = SELib.ni_nj_LTE(atom, Te[nt], Ne[nn])"
   ]
  },
  {
   "cell_type": "code",
   "execution_count": null,
   "metadata": {},
   "outputs": [],
   "source": [
    "%%timeit\n",
    "_ = SELib.bf_R_rate(atom, Te[nt], nj_by_ni_Cont, _Tr=Tr)"
   ]
  },
  {
   "cell_type": "code",
   "execution_count": null,
   "metadata": {},
   "outputs": [],
   "source": [
    "%%timeit\n",
    "_ = SELib.B_Jbar(atom, _Tr=Tr)"
   ]
  },
  {
   "cell_type": "code",
   "execution_count": null,
   "metadata": {},
   "outputs": [],
   "source": [
    "%%timeit\n",
    "_ = SELib.get_Cij(atom, Te[nt])"
   ]
  },
  {
   "cell_type": "code",
   "execution_count": null,
   "metadata": {},
   "outputs": [],
   "source": [
    "%%timeit\n",
    "_ = SELib.solve_SE(atom, Ne[nn], Cji, Cij, Bji_Jbar, Bij_Jbar, Rki_spon, Rki_stim, Rik)"
   ]
  },
  {
   "cell_type": "markdown",
   "metadata": {},
   "source": [
    "---"
   ]
  },
  {
   "cell_type": "code",
   "execution_count": null,
   "metadata": {},
   "outputs": [],
   "source": [
    "%load_ext line_profiler"
   ]
  },
  {
   "cell_type": "code",
   "execution_count": null,
   "metadata": {},
   "outputs": [],
   "source": [
    "%lprun -f SELib.ni_nj_LTE SELib.ni_nj_LTE(atom, Te[nt], Ne[nn])"
   ]
  },
  {
   "cell_type": "code",
   "execution_count": null,
   "metadata": {},
   "outputs": [],
   "source": [
    "%lprun -f SELib.bf_R_rate SELib.bf_R_rate(atom, Te[nt], nj_by_ni_Cont, _Tr=Tr)"
   ]
  },
  {
   "cell_type": "code",
   "execution_count": null,
   "metadata": {},
   "outputs": [],
   "source": [
    "%lprun -f SELib.B_Jbar SELib.B_Jbar(atom, _Tr=Tr)"
   ]
  },
  {
   "cell_type": "code",
   "execution_count": null,
   "metadata": {},
   "outputs": [],
   "source": [
    "%lprun -f SELib.get_Cij SELib.get_Cij(atom, Te[nt])"
   ]
  },
  {
   "cell_type": "code",
   "execution_count": null,
   "metadata": {},
   "outputs": [],
   "source": [
    "%lprun -f SELib.solve_SE SELib.solve_SE(atom, Ne[nn], Cji, Cij, Bji_Jbar, Bij_Jbar, Rki_spon, Rki_stim, Rik)"
   ]
  },
  {
   "cell_type": "markdown",
   "metadata": {},
   "source": [
    "---"
   ]
  },
  {
   "cell_type": "markdown",
   "metadata": {},
   "source": [
    "## Grotrian plot"
   ]
  },
  {
   "cell_type": "code",
   "execution_count": 15,
   "metadata": {},
   "outputs": [],
   "source": [
    "gro = Grotrian.Grotrian(atom)"
   ]
  },
  {
   "cell_type": "code",
   "execution_count": 18,
   "metadata": {},
   "outputs": [
    {
     "data": {
      "image/png": "[encoded data removed]",
      "text/plain": [
       "<Figure size 1200x480 with 2 Axes>"
      ]
     },
     "metadata": {
      "needs_background": "light"
     },
     "output_type": "display_data"
    }
   ],
   "source": [
    "fig, axs = plt.subplots( 1,2, figsize=(10,4), dpi=120 )\n",
    "gro.make_fig( _fig=fig, _f=50, _removeSpline=('top', 'right') )\n",
    "gro.make_fig( _axe=axs[0], _f=50 )\n",
    "\n",
    "#gro.make_fig(_figsize=(10,6),_dpi=150, _f=50)\n",
    "gro.show_fig()"
   ]
  }
 ],
 "metadata": {
  "kernelspec": {
   "display_name": "Python 3",
   "language": "python",
   "name": "python3"
  },
  "language_info": {
   "codemirror_mode": {
    "name": "ipython",
    "version": 3
   },
   "file_extension": ".py",
   "mimetype": "text/x-python",
   "name": "python",
   "nbconvert_exporter": "python",
   "pygments_lexer": "ipython3",
   "version": "3.6.10"
  },
  "toc": {
   "nav_menu": {},
   "number_sections": true,
   "sideBar": true,
   "skip_h1_title": false,
   "toc_cell": false,
   "toc_position": {},
   "toc_section_display": "block",
   "toc_window_display": false
  }
 },
 "nbformat": 4,
 "nbformat_minor": 4
}
