{
 "cells": [
  {
   "cell_type": "markdown",
   "metadata": {},
   "source": [
    "# Full Statistical Equilibrium\n",
    "\n",
    "\n",
    "2020.6.19    Kouui"
   ]
  },
  {
   "cell_type": "code",
   "execution_count": 1,
   "metadata": {},
   "outputs": [],
   "source": [
    "import numpy as np\n",
    "import matplotlib.pyplot as plt"
   ]
  },
  {
   "cell_type": "code",
   "execution_count": 2,
   "metadata": {},
   "outputs": [],
   "source": [
    "import sys\n",
    "sys.path.append(\"../\")\n",
    "from src.Structure import AtomCls, AtmosphereCls\n",
    "from src.Atomic import LTELib, ColExcite, SEsolver\n",
    "#from src.RadiativeTransfer import Thin"
   ]
  },
  {
   "cell_type": "markdown",
   "metadata": {},
   "source": [
    "---"
   ]
  },
  {
   "cell_type": "markdown",
   "metadata": {},
   "source": [
    "## steps to use an `atom` class"
   ]
  },
  {
   "cell_type": "code",
   "execution_count": 3,
   "metadata": {},
   "outputs": [
    {
     "name": "stdout",
     "output_type": "stream",
     "text": [
      "Reading Einstein Aji coefficient from : \n",
      " ../data/atom/Ca_II/Einstein_A/Nist.Aji\n",
      "...\n",
      "Finished.\n",
      "\n",
      "Reading Electron impact Effective Collisional Strength from : \n",
      " ../data/atom/Ca_II/Collisional_Excitation/RH.Electron\n",
      "...\n",
      "Finished.\n",
      "\n",
      "Reading Electron impact Collisional Ionization coefficient from : \n",
      " ../data/atom/Ca_II/Collisional_Ionization/RH.Electron\n",
      "...\n",
      "Finished.\n",
      "\n",
      "Reading Photoionization cross section from : \n",
      " ../data/atom/Ca_II/Photoionization/RH.Alpha\n",
      "...\n",
      "Finished.\n",
      "\n",
      "Reading wavelength mesh information from : \n",
      " ../data/atom/Ca_II/Ca_II.RadiativeLine\n",
      "...\n",
      "line mesh prepared.\n",
      "continuum mesh prepared.\n"
     ]
    }
   ],
   "source": [
    "folder = \"../data/atom/Ca_II/\"\n",
    "file     = folder + \"Ca_II.Level\"\n",
    "file_Aji = folder + \"Einstein_A/Nist.Aji\"\n",
    "file_CEe = folder + \"Collisional_Excitation/RH.Electron\"\n",
    "file_CIe = folder + \"Collisional_Ionization/RH.Electron\"\n",
    "file_PI  = folder + \"Photoionization/RH.Alpha\"\n",
    "file_Rad = folder + \"Ca_II.RadiativeLine\"\n",
    "atom = AtomCls.Atom(file, _file_Aji=file_Aji, _file_CEe=file_CEe)\n",
    "atom.read_CI(_path_electron=file_CIe)\n",
    "atom.read_PI(_path_alpha=file_PI)\n",
    "atom.read_Mesh(_path=file_Rad)\n",
    "atom.make_Mesh()\n",
    "atom.read_Radiative_Line_intensity(_folder=\"../data/intensity/Ca_II/\")"
   ]
  },
  {
   "cell_type": "code",
   "execution_count": 4,
   "metadata": {},
   "outputs": [],
   "source": [
    "del atom"
   ]
  },
  {
   "cell_type": "markdown",
   "metadata": {},
   "source": [
    "minimum request : \n",
    "- level information\n",
    "- Einstein Aji\n",
    "- Collisional excitation"
   ]
  },
  {
   "cell_type": "code",
   "execution_count": 5,
   "metadata": {},
   "outputs": [
    {
     "name": "stdout",
     "output_type": "stream",
     "text": [
      "Reading Einstein Aji coefficient from : \n",
      " ../data/atom/Ca_II/Einstein_A/Nist.Aji\n",
      "...\n",
      "Finished.\n",
      "\n",
      "Reading Electron impact Effective Collisional Strength from : \n",
      " ../data/atom/Ca_II/Collisional_Excitation/RH.Electron\n",
      "...\n",
      "Finished.\n",
      "\n"
     ]
    }
   ],
   "source": [
    "folder = \"../data/atom/Ca_II/\"\n",
    "file     = folder + \"Ca_II.Level\"\n",
    "file_Aji = folder + \"Einstein_A/Nist.Aji\"\n",
    "file_CEe = folder + \"Collisional_Excitation/RH.Electron\"\n",
    "atom = AtomCls.Atom(file, _file_Aji=file_Aji, _file_CEe=file_CEe)"
   ]
  },
  {
   "cell_type": "code",
   "execution_count": 6,
   "metadata": {},
   "outputs": [
    {
     "data": {
      "text/plain": [
       "('20', 'Ca')"
      ]
     },
     "execution_count": 6,
     "metadata": {},
     "output_type": "execute_result"
    }
   ],
   "source": [
    "atom.Z, atom.Element"
   ]
  },
  {
   "cell_type": "markdown",
   "metadata": {},
   "source": [
    "Level information"
   ]
  },
  {
   "cell_type": "code",
   "execution_count": 7,
   "metadata": {},
   "outputs": [
    {
     "data": {
      "text/plain": [
       "rec.array([(9.79436203e-12, 2, 2), (1.25066388e-11, 4, 2),\n",
       "           (1.25187032e-11, 6, 2), (1.47999303e-11, 2, 2),\n",
       "           (1.48442305e-11, 4, 2), (2.88149222e-11, 1, 3)],\n",
       "          dtype=[('erg', '<f8'), ('g', 'u1'), ('stage', 'u1')])"
      ]
     },
     "execution_count": 7,
     "metadata": {},
     "output_type": "execute_result"
    }
   ],
   "source": [
    "atom.Level"
   ]
  },
  {
   "cell_type": "markdown",
   "metadata": {},
   "source": [
    "Level and Line indentification (**important**)"
   ]
  },
  {
   "cell_type": "code",
   "execution_count": 8,
   "metadata": {},
   "outputs": [
    {
     "data": {
      "text/plain": [
       "(('1s2.2s2.2p6.3s2.3p6.4s', '2S', '1/2'),\n",
       " ('1s2.2s2.2p6.3s2.3p6.3d', '2D', '3/2'),\n",
       " ('1s2.2s2.2p6.3s2.3p6.3d', '2D', '5/2'),\n",
       " ('1s2.2s2.2p6.3s2.3p6.4p', '2P', '1/2'),\n",
       " ('1s2.2s2.2p6.3s2.3p6.4p', '2P', '3/2'),\n",
       " ('1s2.2s2.2p6.3s2.3p6', '1S', '0'))"
      ]
     },
     "execution_count": 8,
     "metadata": {},
     "output_type": "execute_result"
    }
   ],
   "source": [
    "atom.Level_info_table"
   ]
  },
  {
   "cell_type": "markdown",
   "metadata": {},
   "source": [
    "Line information"
   ]
  },
  {
   "cell_type": "code",
   "execution_count": 9,
   "metadata": {},
   "outputs": [
    {
     "data": {
      "text/plain": [
       "rec.array([(0, 1, 1.30e+00, 4.09334222e+14, 7.32390414e-05, 7.32390414e+03, 0),\n",
       "           (0, 2, 1.30e+00, 4.11154968e+14, 7.29147118e-05, 7.29147118e+03, 0),\n",
       "           (0, 3, 1.40e+08, 7.55435595e+14, 3.96847146e-05, 3.96847146e+03, 0),\n",
       "           (0, 4, 1.47e+08, 7.62121336e+14, 3.93365788e-05, 3.93365788e+03, 0),\n",
       "           (0, 5, 0.00e+00, 2.87056483e+15, 1.04436750e-05, 1.04436750e+03, 1),\n",
       "           (1, 2, 0.00e+00, 1.82074624e+12, 1.64653620e-02, 1.64653620e+06, 0),\n",
       "           (1, 3, 1.06e+07, 3.46101373e+14, 8.66198413e-05, 8.66198413e+03, 0),\n",
       "           (1, 4, 1.11e+06, 3.52787115e+14, 8.49782908e-05, 8.49782908e+03, 0),\n",
       "           (1, 5, 0.00e+00, 2.46123061e+15, 1.21805921e-05, 1.21805921e+03, 1),\n",
       "           (2, 3, 0.00e+00, 3.44280627e+14, 8.70779349e-05, 8.70779349e+03, 0),\n",
       "           (2, 4, 9.90e+06, 3.50966368e+14, 8.54191419e-05, 8.54191419e+03, 0),\n",
       "           (2, 5, 0.00e+00, 2.45940986e+15, 1.21896096e-05, 1.21896096e+03, 1),\n",
       "           (3, 4, 0.00e+00, 6.68574151e+12, 4.48405700e-03, 4.48405700e+05, 0),\n",
       "           (3, 5, 0.00e+00, 2.11512923e+15, 1.41737183e-05, 1.41737183e+03, 1),\n",
       "           (4, 5, 0.00e+00, 2.10844349e+15, 1.42186623e-05, 1.42186623e+03, 1)],\n",
       "          dtype=[('idxI', '<u2'), ('idxJ', '<u2'), ('AJI', '<f8'), ('f0', '<f8'), ('w0', '<f8'), ('w0_AA', '<f8'), ('isContinuum', 'u1')])"
      ]
     },
     "execution_count": 9,
     "metadata": {},
     "output_type": "execute_result"
    }
   ],
   "source": [
    "atom.Line"
   ]
  },
  {
   "cell_type": "markdown",
   "metadata": {},
   "source": [
    "collisional excitation coeficient and table for interpolation"
   ]
  },
  {
   "cell_type": "code",
   "execution_count": 10,
   "metadata": {},
   "outputs": [
    {
     "data": {
      "text/plain": [
       "rec.array([(0, 1,   1,  1, 2, 4, 2.71227673e-12),\n",
       "           (0, 2,   1,  1, 2, 6, 2.72434112e-12),\n",
       "           (0, 3,   1,  1, 2, 2, 5.00556826e-12),\n",
       "           (0, 4,   1,  1, 2, 4, 5.04986845e-12),\n",
       "           (0, 5,   0,  0, 2, 1, 1.90205602e-11),\n",
       "           (1, 2,   1,  1, 4, 6, 1.20643899e-14),\n",
       "           (1, 3,   1,  1, 4, 2, 2.29329153e-12),\n",
       "           (1, 4,   1,  1, 4, 4, 2.33759171e-12),\n",
       "           (1, 5,   0,  0, 4, 1, 1.63082834e-11),\n",
       "           (2, 3,   1,  1, 6, 2, 2.28122714e-12),\n",
       "           (2, 4,   1,  1, 6, 4, 2.32552732e-12),\n",
       "           (2, 5, 254,  7, 6, 1, 1.62962191e-11),\n",
       "           (3, 4,   1,  1, 2, 4, 4.43001835e-14),\n",
       "           (3, 5, 240, 31, 2, 1, 1.40149919e-11),\n",
       "           (4, 5,   0,  0, 4, 1, 1.39706917e-11)],\n",
       "          dtype=[('idxI', 'u1'), ('idxJ', 'u1'), ('f1', 'u1'), ('f2', 'u1'), ('gi', 'u1'), ('gj', 'u1'), ('dEij', '<f8')])"
      ]
     },
     "execution_count": 10,
     "metadata": {},
     "output_type": "execute_result"
    }
   ],
   "source": [
    "atom.CE_coe"
   ]
  },
  {
   "cell_type": "code",
   "execution_count": 11,
   "metadata": {},
   "outputs": [
    {
     "data": {
      "text/plain": [
       "array([[ 2.378 ,  2.284 ,  2.203 ,  1.92  ,  1.961 ,  1.846 ],\n",
       "       [ 3.568 ,  3.426 ,  3.304 ,  2.879 ,  2.942 ,  2.77  ],\n",
       "       [ 4.842 ,  5.288 ,  5.548 ,  6.148 ,  8.482 , 12.    ],\n",
       "       [ 9.683 , 10.58  , 11.1   , 12.3   , 16.96  , 24.01  ],\n",
       "       [ 0.    ,  0.    ,  0.    ,  0.    ,  0.    ,  0.    ],\n",
       "       [ 1.778 ,  2.869 ,  4.693 , 12.66  ,  3.189 ,  7.926 ],\n",
       "       [13.6   , 14.33  , 14.96  , 16.99  , 22.8   , 28.36  ],\n",
       "       [ 6.316 ,  6.488 ,  6.623 ,  7.033 ,  8.08  ,  8.899 ],\n",
       "       [ 0.    ,  0.    ,  0.    ,  0.    ,  0.    ,  0.    ],\n",
       "       [ 4.338 ,  4.282 ,  4.203 ,  3.929 ,  3.315 ,  2.641 ],\n",
       "       [25.04  , 26.36  , 27.51  , 31.22  , 42.17  , 52.84  ],\n",
       "       [ 0.    ,  0.    ,  0.    ,  0.    ,  0.    ,  0.    ],\n",
       "       [ 0.8511,  1.364 ,  1.878 ,  4.002 , 11.11  , 18.73  ],\n",
       "       [ 0.    ,  0.    ,  0.    ,  0.    ,  0.    ,  0.    ],\n",
       "       [ 0.    ,  0.    ,  0.    ,  0.    ,  0.    ,  0.    ]])"
      ]
     },
     "execution_count": 11,
     "metadata": {},
     "output_type": "execute_result"
    }
   ],
   "source": [
    "atom.CE_table"
   ]
  },
  {
   "cell_type": "markdown",
   "metadata": {},
   "source": [
    "collisional ionization coeficient and table for interpolation"
   ]
  },
  {
   "cell_type": "code",
   "execution_count": 12,
   "metadata": {},
   "outputs": [
    {
     "name": "stdout",
     "output_type": "stream",
     "text": [
      "Reading Electron impact Collisional Ionization coefficient from : \n",
      " ../data/atom/Ca_II/Collisional_Ionization/RH.Electron\n",
      "...\n",
      "Finished.\n",
      "\n"
     ]
    }
   ],
   "source": [
    "file_CIe = folder + \"Collisional_Ionization/RH.Electron\"\n",
    "atom.read_CI(_path_electron=file_CIe)"
   ]
  },
  {
   "cell_type": "code",
   "execution_count": 13,
   "metadata": {},
   "outputs": [
    {
     "data": {
      "text/plain": [
       "rec.array([(0, 5,  4, 1, 2, 1, 1.90205602e-11),\n",
       "           (1, 5,  8, 1, 4, 1, 1.63082834e-11),\n",
       "           (2, 5, 11, 1, 6, 1, 1.62962191e-11),\n",
       "           (3, 5, 13, 1, 2, 1, 1.40149919e-11),\n",
       "           (4, 5, 14, 1, 4, 1, 1.39706917e-11)],\n",
       "          dtype=[('idxI', 'u1'), ('idxJ', 'u1'), ('lineIndex', '<u2'), ('f2', 'u1'), ('gi', 'u1'), ('gj', 'u1'), ('dEij', '<f8')])"
      ]
     },
     "execution_count": 13,
     "metadata": {},
     "output_type": "execute_result"
    }
   ],
   "source": [
    "atom.CI_coe"
   ]
  },
  {
   "cell_type": "code",
   "execution_count": 14,
   "metadata": {},
   "outputs": [
    {
     "data": {
      "text/plain": [
       "array([[4.580e-12, 4.580e-12, 4.580e-12, 4.580e-12, 4.580e-12, 4.580e-12],\n",
       "       [1.613e-10, 1.613e-10, 1.613e-10, 1.613e-10, 1.613e-10, 1.613e-10],\n",
       "       [1.614e-10, 1.614e-10, 1.614e-10, 1.614e-10, 1.614e-10, 1.614e-10],\n",
       "       [7.272e-11, 7.272e-11, 7.272e-11, 7.272e-11, 7.272e-11, 7.272e-11],\n",
       "       [7.295e-11, 7.295e-11, 7.295e-11, 7.295e-11, 7.295e-11, 7.295e-11]])"
      ]
     },
     "execution_count": 14,
     "metadata": {},
     "output_type": "execute_result"
    }
   ],
   "source": [
    "atom.CI_table"
   ]
  },
  {
   "cell_type": "markdown",
   "metadata": {},
   "source": [
    "photoionization cross section and table for interpolation"
   ]
  },
  {
   "cell_type": "code",
   "execution_count": 15,
   "metadata": {},
   "outputs": [
    {
     "name": "stdout",
     "output_type": "stream",
     "text": [
      "Reading Photoionization cross section from : \n",
      " ../data/atom/Ca_II/Photoionization/RH.Alpha\n",
      "...\n",
      "Finished.\n",
      "\n"
     ]
    }
   ],
   "source": [
    "file_PI  = folder + \"Photoionization/RH.Alpha\"\n",
    "atom.read_PI(_path_alpha=file_PI)"
   ]
  },
  {
   "cell_type": "code",
   "execution_count": 16,
   "metadata": {},
   "outputs": [
    {
     "data": {
      "text/plain": [
       "rec.array([(0, 5,  4, 15, 2.0363e-19, 2, 1, 1.90205602e-11),\n",
       "           (1, 5,  8, 20, 6.1484e-18, 4, 1, 1.63082834e-11),\n",
       "           (2, 5, 11, 20, 6.1484e-18, 6, 1, 1.62962191e-11),\n",
       "           (3, 5, 13, 18, 2.3823e-18, 2, 1, 1.40149919e-11),\n",
       "           (4, 5, 14, 18, 2.3823e-18, 4, 1, 1.39706917e-11)],\n",
       "          dtype=[('idxI', 'u1'), ('idxJ', 'u1'), ('lineIndex', '<u2'), ('nLambda', '<u2'), ('alpha0', '<f8'), ('gi', 'u1'), ('gj', 'u1'), ('dEij', '<f8')])"
      ]
     },
     "execution_count": 16,
     "metadata": {},
     "output_type": "execute_result"
    }
   ],
   "source": [
    "atom.PI_coe"
   ]
  },
  {
   "cell_type": "code",
   "execution_count": 17,
   "metadata": {},
   "outputs": [
    {
     "data": {
      "text/plain": [
       "(5, 20, 2)"
      ]
     },
     "execution_count": 17,
     "metadata": {},
     "output_type": "execute_result"
    }
   ],
   "source": [
    "atom.PI_table.shape"
   ]
  },
  {
   "cell_type": "markdown",
   "metadata": {},
   "source": [
    "read the necessary parameter to construct line mesh"
   ]
  },
  {
   "cell_type": "code",
   "execution_count": 18,
   "metadata": {},
   "outputs": [
    {
     "name": "stdout",
     "output_type": "stream",
     "text": [
      "Reading wavelength mesh information from : \n",
      " ../data/atom/Ca_II/Ca_II.RadiativeLine\n",
      "...\n"
     ]
    }
   ],
   "source": [
    "atom.read_Mesh(_path=file_Rad)"
   ]
  },
  {
   "cell_type": "code",
   "execution_count": 19,
   "metadata": {},
   "outputs": [
    {
     "data": {
      "text/plain": [
       "rec.array([(0, 3,  2, 0, 2.5, 80., 101), (0, 4,  3, 0, 2.5, 80.,  81),\n",
       "           (1, 3,  6, 0, 2.5, 30.,  51), (1, 4,  7, 0, 2.5, 30.,  51),\n",
       "           (2, 4, 10, 0, 2.5, 20., 151)],\n",
       "          dtype=[('idxI', 'u1'), ('idxJ', 'u1'), ('lineIndex', '<u2'), ('ProfileType', 'u1'), ('qcore', '<f8'), ('qwing', '<f8'), ('nLambda', '<u2')])"
      ]
     },
     "execution_count": 19,
     "metadata": {},
     "output_type": "execute_result"
    }
   ],
   "source": [
    "atom.Mesh_coe"
   ]
  },
  {
   "cell_type": "markdown",
   "metadata": {},
   "source": [
    "construct line and continuum mesh"
   ]
  },
  {
   "cell_type": "code",
   "execution_count": 20,
   "metadata": {},
   "outputs": [
    {
     "name": "stdout",
     "output_type": "stream",
     "text": [
      "line mesh prepared.\n",
      "continuum mesh prepared.\n"
     ]
    }
   ],
   "source": [
    "atom.make_Mesh()"
   ]
  },
  {
   "cell_type": "code",
   "execution_count": 21,
   "metadata": {},
   "outputs": [
    {
     "name": "stdout",
     "output_type": "stream",
     "text": [
      "totally  5  set of radiative mesh in the list\n"
     ]
    }
   ],
   "source": [
    "print( \"totally \", len(atom.line_mesh_list), \" set of radiative mesh in the list\" )"
   ]
  },
  {
   "cell_type": "code",
   "execution_count": 22,
   "metadata": {},
   "outputs": [
    {
     "data": {
      "text/plain": [
       "[<matplotlib.lines.Line2D at 0x11afbd6a0>]"
      ]
     },
     "execution_count": 22,
     "metadata": {},
     "output_type": "execute_result"
    },
    {
     "data": {
      "image/png": "[encoded data removed]",
      "text/plain": [
       "<Figure size 432x288 with 1 Axes>"
      ]
     },
     "metadata": {
      "needs_background": "light"
     },
     "output_type": "display_data"
    }
   ],
   "source": [
    "mesh = atom.line_mesh_list[0]\n",
    "plt.plot(mesh, \"*\")"
   ]
  },
  {
   "cell_type": "code",
   "execution_count": 46,
   "metadata": {},
   "outputs": [
    {
     "data": {
      "image/png": "[encoded data removed]",
      "text/plain": [
       "<Figure size 432x288 with 1 Axes>"
      ]
     },
     "metadata": {
      "needs_background": "light"
     },
     "output_type": "display_data"
    }
   ],
   "source": [
    "for k in range(5):\n",
    "    mesh = atom.continuum_mesh_list[k]\n",
    "    plt.plot(mesh, \"*\")"
   ]
  },
  {
   "cell_type": "markdown",
   "metadata": {},
   "source": [
    "read incident background line intensity profile"
   ]
  },
  {
   "cell_type": "code",
   "execution_count": 24,
   "metadata": {},
   "outputs": [],
   "source": [
    "atom.read_Radiative_Line_intensity(_folder=\"../data/intensity/Ca_II/\")"
   ]
  },
  {
   "cell_type": "code",
   "execution_count": 25,
   "metadata": {},
   "outputs": [
    {
     "data": {
      "text/plain": [
       "5"
      ]
     },
     "execution_count": 25,
     "metadata": {},
     "output_type": "execute_result"
    }
   ],
   "source": [
    "len(atom.radiative_line_intensity_list)"
   ]
  },
  {
   "cell_type": "code",
   "execution_count": 26,
   "metadata": {},
   "outputs": [
    {
     "data": {
      "text/plain": [
       "[<matplotlib.lines.Line2D at 0x118f51550>]"
      ]
     },
     "execution_count": 26,
     "metadata": {},
     "output_type": "execute_result"
    },
    {
     "data": {
      "image/png": "[encoded data removed]",
      "text/plain": [
       "<Figure size 432x288 with 1 Axes>"
      ]
     },
     "metadata": {
      "needs_background": "light"
     },
     "output_type": "display_data"
    }
   ],
   "source": [
    "arr = atom.radiative_line_intensity_list[4]\n",
    "\n",
    "plt.plot(arr[0,:], arr[1,:], \"*\")"
   ]
  },
  {
   "cell_type": "markdown",
   "metadata": {},
   "source": [
    "---"
   ]
  },
  {
   "cell_type": "markdown",
   "metadata": {},
   "source": [
    "## steps to use `AtmosphereC1d` class"
   ]
  },
  {
   "cell_type": "code",
   "execution_count": 29,
   "metadata": {},
   "outputs": [],
   "source": [
    "slab1d = AtmosphereCls.AtmosphereC1d(1E7, Mesh=np.array([1]))"
   ]
  },
  {
   "cell_type": "code",
   "execution_count": 30,
   "metadata": {},
   "outputs": [
    {
     "data": {
      "text/plain": [
       "array([1.])"
      ]
     },
     "execution_count": 30,
     "metadata": {},
     "output_type": "execute_result"
    }
   ],
   "source": [
    "slab1d.data.Mesh"
   ]
  },
  {
   "cell_type": "code",
   "execution_count": 31,
   "metadata": {},
   "outputs": [],
   "source": [
    "slab1d = AtmosphereCls.AtmosphereC1d(1E7) # 1E7[cm] = 100[km]\n",
    "slab1d.readBackgroundIntensity('../data/intensity/continuum/ASTM_E490+PROM7_HI_CaII.dat')"
   ]
  },
  {
   "cell_type": "markdown",
   "metadata": {},
   "source": [
    "`Mesh` is in relative scale [0,1]"
   ]
  },
  {
   "cell_type": "code",
   "execution_count": null,
   "metadata": {},
   "outputs": [],
   "source": [
    "slab1d.data.Te[0]"
   ]
  },
  {
   "cell_type": "code",
   "execution_count": null,
   "metadata": {},
   "outputs": [],
   "source": [
    "plt.plot( slab1d.data.Mesh, '*' )"
   ]
  },
  {
   "cell_type": "code",
   "execution_count": null,
   "metadata": {},
   "outputs": [],
   "source": [
    "plt.plot( slab1d.data.Spatial, '*' )"
   ]
  },
  {
   "cell_type": "markdown",
   "metadata": {},
   "source": [
    "- `Te` : electron temperature\n",
    "- `Ne` : electron density\n",
    "- `Vt` : turbulent velocity\n",
    "- `Vd` : Doppler velocity\n",
    "- `Pg` : gas pressure"
   ]
  },
  {
   "cell_type": "code",
   "execution_count": null,
   "metadata": {},
   "outputs": [],
   "source": [
    "slab1d.setUniform()"
   ]
  },
  {
   "cell_type": "code",
   "execution_count": null,
   "metadata": {},
   "outputs": [],
   "source": [
    "slab1d.data.Te # Ne, Vt, Vd, Pg"
   ]
  },
  {
   "cell_type": "markdown",
   "metadata": {},
   "source": [
    "---"
   ]
  },
  {
   "cell_type": "code",
   "execution_count": 40,
   "metadata": {},
   "outputs": [
    {
     "data": {
      "image/png": "[encoded data removed]",
      "text/plain": [
       "<Figure size 1200x720 with 1 Axes>"
      ]
     },
     "metadata": {
      "needs_background": "light"
     },
     "output_type": "display_data"
    }
   ],
   "source": [
    "from src.Visual import Grotrian\n",
    "\n",
    "gro = Grotrian.Grotrian(_atom=atom, _conf_prefix=\"1s2.2s2.2p6.3s2.\")\n",
    "gro.make_fig(_figsize=(10,6))"
   ]
  },
  {
   "cell_type": "markdown",
   "metadata": {},
   "source": [
    "---"
   ]
  },
  {
   "cell_type": "markdown",
   "metadata": {},
   "source": [
    "## (not yet completed) Full Statistical Equilibrium"
   ]
  },
  {
   "cell_type": "markdown",
   "metadata": {},
   "source": [
    "solve Full Statistical Equilirbium at a single depth point"
   ]
  },
  {
   "cell_type": "code",
   "execution_count": null,
   "metadata": {
    "code_folding": [
     0
    ]
   },
   "outputs": [],
   "source": [
    "def one_depth(_atom, _Te, _Ne, _Vt, _Vd):\n",
    "    r\"\"\"\n",
    "    calculate the \n",
    "        - LTE population\n",
    "        - SE population (SE : Statistical Equilibrium)\n",
    "        - SE population of the upper level of each transition\n",
    "        - C and R matrice while solving SE\n",
    "        - optically thin relative flux (some constants are removed)\n",
    "\n",
    "    Parameters\n",
    "    ----------\n",
    "\n",
    "    _atom  : AtomCls.Atom() object\n",
    "        atomic model data structure,\n",
    "        number of Levels : _atom.nLevel\n",
    "        number of Line transitions : _atom.nLine\n",
    "        \n",
    "    _Te  : scalar variable (np.float, np.double and so on)\n",
    "        electron temperature, [:math:`K`]\n",
    "        \n",
    "    _Ne : scalar variable (np.float, np.double and so on)\n",
    "        electron density, [:math:`cm^{-3}`]\n",
    "\n",
    "    Returns\n",
    "    -------\n",
    "\n",
    "    _n_LTE : np.double, np.array with shape (_atom.nLevel,)\n",
    "        Normalized LTE level population.\n",
    "        :math:`rt = n_j / n_i`, [-]\n",
    "    \n",
    "    _n_SE : np.double, np.array with shape (_atom.nLevel,)\n",
    "        Normalized level population under statistical equilibrium.\n",
    "        \n",
    "    _nj_SE : np.double, np.array with shape (_atom.nLine)\n",
    "        Normalized level population under statistical equilibrium \n",
    "        of the upper levels of each line transition.\n",
    "        \n",
    "    _Cmat : np.double, np.array with shape (_atom.nLevel, _atom.nLevel)\n",
    "        C matrix (Collisional related) in solving statistical equilibrium equations.\n",
    "        \n",
    "    _Rmat : np.double, np.array with shape (_atom.nLevel, _atom.nLevel)\n",
    "        R matrix (Radiative related) in solving statistical equilibrium equations.\n",
    "        \n",
    "    _rel_flux : np.double, np.array with shape (_atom.nLine,)\n",
    "        relative flux under the assumption of optically thin. \n",
    "        :math:`h \\nu n_{j} A_{ji}`, [:math:`erg \\; cm^{-3} \\; s^{-1}`]\n",
    "        \n",
    "    Notes\n",
    "    -----\n",
    "\n",
    "    The Statistical equilibrium equations [1]_.\n",
    "    \n",
    "    .. math:: \\bm{A} \\times \\bm{n} = \\bm{b}\n",
    "    \n",
    "    .. math:: \\bm{b} = (0,0,0,...,1)^{T}\n",
    "    \n",
    "    .. math:: A_{ii} = \\sum_{j \\neq i} (R_{ij} + C_{ij})\n",
    "    \n",
    "    .. math:: A_{ij} = -(R_{ji} + C_{ji}) \\quad j \\neq i, \\; i \\neq -1\n",
    "    \n",
    "    .. math:: A_{-1,j} = 1\n",
    "    \n",
    "    \n",
    "    The absolute flux under the assumption of optically thin [2]_.\n",
    "    \n",
    "    .. math:: F_{ji} = \\frac{1}{4 \\pi R^{2}} \\int_{\\Delta V} \\epsilon_{ji} dV \\quad [erg \\; cm^{-2} \\; s^{-1}]\n",
    "    \n",
    "    where the emissivity :math:`\\epsilon_{ji}` is\n",
    "    \n",
    "    .. math:: \\epsilon_{ji} = h \\nu n_{j} A_{ji} \\quad [erg \\; cm^{-3} \\; s^{-1}]\n",
    "    \n",
    "    and \n",
    "    \n",
    "    .. math:: \\epsilon_{ji} = \\int_{\\nu} \\epsilon_{\\nu} d \\nu = \\int_{\\nu} h \\nu n_{j} A_{ji} \\psi d \\nu\n",
    "    \n",
    "    References\n",
    "    ----------\n",
    "\n",
    "    .. [1] Ivan Hubeny, Dimitri Mihalas, \"Theory of Stellar Atmosphere:\n",
    "        An Introduction to Astrophysical Non-equilibrium\n",
    "        Quantitative Spectroscopic Analysis\",\n",
    "        Princeton University Press, pp. 283, 2015.\n",
    "        \n",
    "    .. [2] John T. Mariska, \"The Solar Transition Region\", \n",
    "        Cambridge University Press, pp. 19, 1992\n",
    "        \n",
    "    Examples\n",
    "    --------\n",
    "        \n",
    "        >>> from src import AtomCls, LTELib, ColExcite, SEsolver, OpticallyThin\n",
    "        >>> file = \"/path/to/C_III_Be_like.txt\"\n",
    "        >>> atom = AtomCls.Atom(file)\n",
    "        >>> n_LTE, n_SE, nj_SE, Cmat, Rmat, rel_flux = main_func(_atom=atom, _Te=3E+04, _Ne=1E+10)\n",
    "    \n",
    "    \"\"\"\n",
    "    #--- \n",
    "    # compute LTE population ratio for each CE transition\n",
    "    #---\n",
    "    \n",
    "    _n_LTE = LTELib.get_LTE_ratio(_erg=_atom.Level.erg[:], _g=_atom.Level.g[:],\n",
    "                                  _stage=_atom.Level.stage[:], _Te=_Te, _Ne=_Ne)\n",
    "    \n",
    "    #--- \n",
    "    # we are going to use LTE population ratio to convert C_{ij} to C_{ji},\n",
    "    # so we need the the LTE population of the lower/upper level of each transition\n",
    "    #---\n",
    "    _nTran = _atom.nLine\n",
    "    _ni_LTE = np.empty(_nTran, dtype=np.double)\n",
    "    _nj_LTE = np.empty(_nTran, dtype=np.double)\n",
    "    \n",
    "    for k in range(_nTran):\n",
    "        _ni_LTE[k] = _n_LTE[_atom.CE_coe.idxI[k]]\n",
    "        _nj_LTE[k] = _n_LTE[_atom.CE_coe.idxJ[k]]\n",
    "    \n",
    "        \n",
    "    #--- \n",
    "    # compute collision excitation/de-excitation rate coefficient\n",
    "    #---\n",
    "    \n",
    "    _CE_fac = ColExcite.interpolate_CE_fac(_table=atom.CE_table[:,:], _Te=_Te, \n",
    "                                           _Te_table=_atom.CE_Te_table[:], \n",
    "                                           _f1=_atom.CE_coe.f1[:], _f2=_atom.CE_coe.f2[:])\n",
    "    \n",
    "    _CEij = ColExcite.get_CE_rate_coe(_CE_fac=_CE_fac, _Te=_Te, _gi=_atom.CE_coe.gi[:],\n",
    "                                      _dEij=_atom.CE_coe.dEij[:], _type=_atom.CE_type)\n",
    "\n",
    "    _CEji = ColExcite.Cij_to_Cji(_Cij=_CEij,  _ni_LTE=_ni_LTE, _nj_LTE=_nj_LTE)\n",
    "    \n",
    "    #--- \n",
    "    # compute collision ionization rate coefficient\n",
    "    #---\n",
    "    \n",
    "    \n",
    "    #---\n",
    "    # solve SE equations under the assumption of \"Corona equilibrium\"\n",
    "    # that is, mean intensity = 0\n",
    "    #---\n",
    "    \n",
    "    #_nLevel = _atom.nLevel\n",
    "    \n",
    "    #_Cmat = np.zeros((_nLevel, _nLevel), dtype=np.double)\n",
    "    #SEsolver.setMatrixC(_Cmat=_Cmat[:,:], _Cji=_CEji[:], _Cij=_CEij[:],\n",
    "    #                    _idxI=_atom.CE_coe.idxI[:], _idxJ=_atom.CE_coe.idxJ[:], _Ne=_Ne)\n",
    "    \n",
    "    #_Rmat     = np.zeros((_nLevel, _nLevel), dtype=np.double)\n",
    "    #_Rji_stim = np.zeros(_atom.Line.AJI[:].shape, dtype=np.double)\n",
    "    #_Rij      = np.zeros(_atom.Line.AJI[:].shape, dtype=np.double)\n",
    "    #SEsolver.setMatrixR(_Rmat=_Rmat[:,:], _Rji_spon=_atom.Line.AJI[:],\n",
    "    #                    _Rji_stim=_Rji_stim[:], _Rij=_Rij, \n",
    "    #                    _idxI=_atom.Line.idxI[:], _idxJ=_atom.Line.idxJ[:])\n",
    "\n",
    "    #_n_SE = SEsolver.solveSE(_Rmat=_Rmat[:,:], _Cmat=_Cmat[:,:])\n",
    "    \n",
    "    #---\n",
    "    # compute relative flux for each transition\n",
    "    #---\n",
    "    #_nj_SE = np.empty(_nTran, dtype=np.double)\n",
    "    #for k in range(_nTran):\n",
    "    #    _nj_SE[k] = _n_SE[_atom.CE_coe.idxJ[k]]\n",
    "    \n",
    "    #_rel_flux = Thin.get_relative_flux(_AJI=_atom.Line.AJI[:], \n",
    "    #                                   _f0=_atom.Line.f0[:], _nj=_nj_SE[:])\n",
    "    \n",
    "    #return _n_LTE, _n_SE, _nj_SE, _Cmat, _Rmat, _rel_flux \n",
    "\n"
   ]
  },
  {
   "cell_type": "code",
   "execution_count": null,
   "metadata": {},
   "outputs": [],
   "source": [
    "z = 0\n",
    "one_depth(_atom=atom, \n",
    "          _Te=slab1d.data.Te[z],_Ne=slab1d.data.Ne[z],\n",
    "          _Vt=slab1d.data.Vt[z], _Vd=slab1d.data.Vd[z])"
   ]
  }
 ],
 "metadata": {
  "kernelspec": {
   "display_name": "Python 3",
   "language": "python",
   "name": "python3"
  },
  "language_info": {
   "codemirror_mode": {
    "name": "ipython",
    "version": 3
   },
   "file_extension": ".py",
   "mimetype": "text/x-python",
   "name": "python",
   "nbconvert_exporter": "python",
   "pygments_lexer": "ipython3",
   "version": "3.6.10"
  },
  "toc": {
   "nav_menu": {},
   "number_sections": true,
   "sideBar": true,
   "skip_h1_title": false,
   "toc_cell": false,
   "toc_position": {},
   "toc_section_display": "block",
   "toc_window_display": false
  }
 },
 "nbformat": 4,
 "nbformat_minor": 2
}
