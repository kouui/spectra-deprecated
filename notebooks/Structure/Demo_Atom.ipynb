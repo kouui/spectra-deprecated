{
 "cells": [
  {
   "cell_type": "code",
   "execution_count": 1,
   "metadata": {},
   "outputs": [],
   "source": [
    "import numpy as np\n",
    "import matplotlib.pyplot as plt"
   ]
  },
  {
   "cell_type": "code",
   "execution_count": 2,
   "metadata": {},
   "outputs": [],
   "source": [
    "import sys\n",
    "sys.path.append(\"../../\")\n",
    "\n",
    "%load_ext autoreload\n",
    "%autoreload 2\n",
    "\n",
    "from src.Structure import AtomCls\n",
    "\n",
    "from src.Visual import Grotrian\n",
    "\n",
    "from src.Util import Class"
   ]
  },
  {
   "cell_type": "markdown",
   "metadata": {},
   "source": [
    "---"
   ]
  },
  {
   "cell_type": "code",
   "execution_count": 3,
   "metadata": {},
   "outputs": [
    {
     "name": "stdout",
     "output_type": "stream",
     "text": [
      "Reading Einstein Aji coefficient from : \n",
      " ../../data/atom/Ca_II/Einstein_A/Nist.Aji\n",
      "...\n",
      "Finished.\n",
      "\n",
      "Reading Electron impact Effective Collisional Strength from : \n",
      " ../../data/atom/Ca_II/Collisional_Excitation/RH.Electron\n",
      "Finished.\n",
      "\n"
     ]
    }
   ],
   "source": [
    "folder = \"../../data/atom/Ca_II/\"\n",
    "file_Level     = folder + \"Ca_II.Level\"\n",
    "file_Aji = folder + \"Einstein_A/Nist.Aji\"\n",
    "file_CEe = folder + \"Collisional_Excitation/RH.Electron\"\n",
    "atom = AtomCls.Atom(file_Level, _file_Aji=file_Aji, _file_CEe=file_CEe)"
   ]
  },
  {
   "cell_type": "markdown",
   "metadata": {},
   "source": [
    "## Attributes"
   ]
  },
  {
   "cell_type": "code",
   "execution_count": 4,
   "metadata": {},
   "outputs": [
    {
     "name": "stdout",
     "output_type": "stream",
     "text": [
      "Attributes\n",
      "----------------------------------------------------------------------\n",
      "name                         type               value/len/shape\n",
      "----------------------------------------------------------------------\n",
      "\n",
      "filepath_dict                dict               l: 3\n",
      "Title                        str                v: Ca II H/K ...\n",
      "Z                            int                v: 20\n",
      "Element                      str                v: Ca\n",
      "nLevel                       int                v: 6\n",
      "Mass                         float              v: 40.08\n",
      "Abun                         float              v: 2.5118864315095823e-06\n",
      "Level                        recarray           ---\n",
      "  |-> erg                    float64 array      s: (6,)\n",
      "  |-> g                      uint8 array        s: (6,)\n",
      "  |-> stage                  uint8 array        s: (6,)\n",
      "  |-> gamma                  float64 array      s: (6,)\n",
      "  |-> isGround               bool array         s: (6,)\n",
      "Level_ctj_table              tuple              l: 6\n",
      "nTran                        int                v: 15\n",
      "nLine                        int                v: 10\n",
      "nCont                        int                v: 5\n",
      "hasContinuum                 bool               v: True\n",
      "Line_idx_table               tuple              l: 10\n",
      "Line_ctj_table               tuple              l: 10\n",
      "Cont_idx_table               tuple              l: 5\n",
      "Cont_ctj_table               tuple              l: 5\n",
      "Cont                         recarray           ---\n",
      "  |-> idxI                   uint16 array       s: (5,)\n",
      "  |-> idxJ                   uint16 array       s: (5,)\n",
      "  |-> f0                     float64 array      s: (5,)\n",
      "  |-> w0                     float64 array      s: (5,)\n",
      "  |-> w0_AA                  float64 array      s: (5,)\n",
      "Line                         recarray           ---\n",
      "  |-> idxI                   uint16 array       s: (10,)\n",
      "  |-> idxJ                   uint16 array       s: (10,)\n",
      "  |-> AJI                    float64 array      s: (10,)\n",
      "  |-> f0                     float64 array      s: (10,)\n",
      "  |-> w0                     float64 array      s: (10,)\n",
      "  |-> w0_AA                  float64 array      s: (10,)\n",
      "  |-> Gamma                  float64 array      s: (10,)\n",
      "\n",
      "Atom.CE\n",
      "------------------------------\n",
      "\n",
      "CE_type                      str                v: ECS\n",
      "Te_table                     array              s: (6,)\n",
      "Omega_table                  array              s: (10, 6)\n",
      "Coe                          recarray           ---\n",
      "  |-> idxI                   uint8 array        s: (10,)\n",
      "  |-> idxJ                   uint8 array        s: (10,)\n",
      "  |-> f1                     uint8 array        s: (10,)\n",
      "  |-> f2                     uint8 array        s: (10,)\n",
      "  |-> gi                     uint8 array        s: (10,)\n",
      "  |-> gj                     uint8 array        s: (10,)\n",
      "  |-> dEij                   float64 array      s: (10,)\n",
      "\n"
     ]
    }
   ],
   "source": [
    "Class.help_attribute(atom)"
   ]
  },
  {
   "cell_type": "markdown",
   "metadata": {},
   "source": [
    "the above execution mainly creates \n",
    "\n",
    "- `np.recarray` : `atom.Level`, `atom.Line`, `atom.Cont`\n",
    "- class object : `atom.CE`."
   ]
  },
  {
   "cell_type": "code",
   "execution_count": 12,
   "metadata": {},
   "outputs": [
    {
     "name": "stdout",
     "output_type": "stream",
     "text": [
      "name                         type               value/len/shape\n",
      "----------------------------------------------------------------------\n",
      "                             recarray           ---\n",
      "  |-> erg                    float64 array      s: (6,)\n",
      "  |-> g                      uint8 array        s: (6,)\n",
      "  |-> stage                  uint8 array        s: (6,)\n",
      "  |-> gamma                  float64 array      s: (6,)\n",
      "  |-> isGround               bool array         s: (6,)\n",
      "\n"
     ]
    }
   ],
   "source": [
    "Class.help_recarray(atom.Level)"
   ]
  },
  {
   "cell_type": "code",
   "execution_count": 113,
   "metadata": {},
   "outputs": [
    {
     "name": "stdout",
     "output_type": "stream",
     "text": [
      "name                         type               value/len/shape\n",
      "----------------------------------------------------------------------\n",
      "                             recarray           ---\n",
      "  |-> idxI                   uint16 array       s: (10,)\n",
      "  |-> idxJ                   uint16 array       s: (10,)\n",
      "  |-> AJI                    float64 array      s: (10,)\n",
      "  |-> f0                     float64 array      s: (10,)\n",
      "  |-> w0                     float64 array      s: (10,)\n",
      "  |-> w0_AA                  float64 array      s: (10,)\n",
      "  |-> Gamma                  float64 array      s: (10,)\n",
      "\n"
     ]
    }
   ],
   "source": [
    "Class.help_recarray(atom.Line)"
   ]
  },
  {
   "cell_type": "code",
   "execution_count": 115,
   "metadata": {},
   "outputs": [
    {
     "name": "stdout",
     "output_type": "stream",
     "text": [
      "name                         type               value/len/shape\n",
      "----------------------------------------------------------------------\n",
      "                             recarray           ---\n",
      "  |-> idxI                   uint16 array       s: (5,)\n",
      "  |-> idxJ                   uint16 array       s: (5,)\n",
      "  |-> f0                     float64 array      s: (5,)\n",
      "  |-> w0                     float64 array      s: (5,)\n",
      "  |-> w0_AA                  float64 array      s: (5,)\n",
      "\n"
     ]
    }
   ],
   "source": [
    "Class.help_recarray(atom.Cont)"
   ]
  },
  {
   "cell_type": "code",
   "execution_count": 13,
   "metadata": {},
   "outputs": [
    {
     "name": "stdout",
     "output_type": "stream",
     "text": [
      "Attributes\n",
      "----------------------------------------------------------------------\n",
      "name                         type               value/len/shape\n",
      "----------------------------------------------------------------------\n",
      "\n",
      "CE_type                      str                v: ECS\n",
      "Te_table                     array              s: (6,)\n",
      "Omega_table                  array              s: (10, 6)\n",
      "Coe                          recarray           ---\n",
      "  |-> idxI                   uint8 array        s: (10,)\n",
      "  |-> idxJ                   uint8 array        s: (10,)\n",
      "  |-> f1                     uint8 array        s: (10,)\n",
      "  |-> f2                     uint8 array        s: (10,)\n",
      "  |-> gi                     uint8 array        s: (10,)\n",
      "  |-> gj                     uint8 array        s: (10,)\n",
      "  |-> dEij                   float64 array      s: (10,)\n",
      "\n"
     ]
    }
   ],
   "source": [
    "Class.help_attribute(atom.CE)"
   ]
  },
  {
   "cell_type": "markdown",
   "metadata": {},
   "source": [
    "---"
   ]
  },
  {
   "cell_type": "code",
   "execution_count": 14,
   "metadata": {},
   "outputs": [
    {
     "name": "stdout",
     "output_type": "stream",
     "text": [
      "Reading Electron impact Collisional Ionization coefficient from : \n",
      " ../../data/atom/Ca_II/Collisional_Ionization/RH.Electron\n",
      "Finished.\n",
      "\n"
     ]
    }
   ],
   "source": [
    "file_CIe = folder + \"Collisional_Ionization/RH.Electron\"\n",
    "atom.read_CI(_path_electron=file_CIe)"
   ]
  },
  {
   "cell_type": "markdown",
   "metadata": {},
   "source": [
    "the above execution mainly creates \n",
    "\n",
    "- class object : `atom.CI`"
   ]
  },
  {
   "cell_type": "code",
   "execution_count": 15,
   "metadata": {},
   "outputs": [
    {
     "name": "stdout",
     "output_type": "stream",
     "text": [
      "Attributes\n",
      "----------------------------------------------------------------------\n",
      "name                         type               value/len/shape\n",
      "----------------------------------------------------------------------\n",
      "\n",
      "Te_table                     array              s: (6,)\n",
      "Omega_table                  array              s: (5, 6)\n",
      "Coe                          recarray           ---\n",
      "  |-> idxI                   uint8 array        s: (5,)\n",
      "  |-> idxJ                   uint8 array        s: (5,)\n",
      "  |-> f1                     uint8 array        s: (5,)\n",
      "  |-> f2                     uint8 array        s: (5,)\n",
      "  |-> gi                     uint8 array        s: (5,)\n",
      "  |-> gj                     uint8 array        s: (5,)\n",
      "  |-> dEij                   float64 array      s: (5,)\n",
      "\n"
     ]
    }
   ],
   "source": [
    "Class.help_attribute(atom.CI)"
   ]
  },
  {
   "cell_type": "markdown",
   "metadata": {},
   "source": [
    "---"
   ]
  },
  {
   "cell_type": "code",
   "execution_count": 16,
   "metadata": {},
   "outputs": [
    {
     "name": "stdout",
     "output_type": "stream",
     "text": [
      "Reading Photoionization cross section from : \n",
      " ../../data/atom/Ca_II/Photoionization/RH.Alpha\n",
      "Finished.\n",
      "\n"
     ]
    }
   ],
   "source": [
    "file_PI  = folder + \"Photoionization/RH.Alpha\"\n",
    "atom.read_PI(_path_alpha=file_PI)"
   ]
  },
  {
   "cell_type": "markdown",
   "metadata": {},
   "source": [
    "the above execution mainly creates \n",
    "\n",
    "- class object : `atom.PI`"
   ]
  },
  {
   "cell_type": "code",
   "execution_count": 17,
   "metadata": {},
   "outputs": [
    {
     "name": "stdout",
     "output_type": "stream",
     "text": [
      "Attributes\n",
      "----------------------------------------------------------------------\n",
      "name                         type               value/len/shape\n",
      "----------------------------------------------------------------------\n",
      "\n",
      "Coe                          recarray           ---\n",
      "  |-> idxI                   uint8 array        s: (5,)\n",
      "  |-> idxJ                   uint8 array        s: (5,)\n",
      "  |-> nLambda                uint16 array       s: (5,)\n",
      "  |-> alpha0                 float64 array      s: (5,)\n",
      "  |-> gi                     uint8 array        s: (5,)\n",
      "  |-> gj                     uint8 array        s: (5,)\n",
      "  |-> dEij                   float64 array      s: (5,)\n",
      "alpha_table                  list of array      l: 5\n",
      "\n"
     ]
    }
   ],
   "source": [
    "Class.help_attribute(atom.PI)"
   ]
  },
  {
   "cell_type": "markdown",
   "metadata": {},
   "source": [
    "---"
   ]
  },
  {
   "cell_type": "code",
   "execution_count": 19,
   "metadata": {},
   "outputs": [
    {
     "name": "stdout",
     "output_type": "stream",
     "text": [
      "Reading Radiative Line information from : \n",
      " ../../data/atom/Ca_II/Ca_II.RadiativeLine\n",
      "line mesh prepared.\n",
      "continuum mesh prepared.\n"
     ]
    }
   ],
   "source": [
    "file_Rad = folder + \"Ca_II.RadiativeLine\"\n",
    "atom.read_RadiativeLine_and_make_Line_Mesh(_path=file_Rad)\n",
    "atom.make_Cont_Mesh()"
   ]
  },
  {
   "cell_type": "markdown",
   "metadata": {},
   "source": [
    "the above execution mainly creates \n",
    "\n",
    "- class object : `atom.Mesh`"
   ]
  },
  {
   "cell_type": "code",
   "execution_count": 11,
   "metadata": {},
   "outputs": [
    {
     "name": "stdout",
     "output_type": "stream",
     "text": [
      "Attributes\n",
      "----------------------------------------------------------------------\n",
      "name                         type               value/len/shape\n",
      "----------------------------------------------------------------------\n",
      "\n",
      "nRadiativeLine               int                v: 5\n",
      "Coe                          recarray           ---\n",
      "  |-> idxI                   uint8 array        s: (5,)\n",
      "  |-> idxJ                   uint8 array        s: (5,)\n",
      "  |-> lineIndex              uint16 array       s: (5,)\n",
      "  |-> ProfileType            uint8 array        s: (5,)\n",
      "  |-> qcore                  float64 array      s: (5,)\n",
      "  |-> qwing                  float64 array      s: (5,)\n",
      "  |-> nLambda                uint16 array       s: (5,)\n",
      "RadLine_filenames            list of str        l: 5\n",
      "RadLine                      list of array      l: 5\n",
      "Cont                         list of array      l: 5\n",
      "\n"
     ]
    }
   ],
   "source": [
    "Class.help_attribute(atom.Mesh)"
   ]
  },
  {
   "cell_type": "markdown",
   "metadata": {},
   "source": [
    "---"
   ]
  },
  {
   "cell_type": "code",
   "execution_count": 22,
   "metadata": {},
   "outputs": [],
   "source": [
    "atom.read_RadLine_intensity(_folder=\"../../data/intensity/Ca_II/\")"
   ]
  },
  {
   "cell_type": "markdown",
   "metadata": {},
   "source": [
    "the above execution mainly creates \n",
    "\n",
    "- class object : `atom.I_Rad`"
   ]
  },
  {
   "cell_type": "code",
   "execution_count": 23,
   "metadata": {},
   "outputs": [
    {
     "name": "stdout",
     "output_type": "stream",
     "text": [
      "Attributes\n",
      "----------------------------------------------------------------------\n",
      "name                         type               value/len/shape\n",
      "----------------------------------------------------------------------\n",
      "\n",
      "I_cm                         list of array      l: 5\n",
      "I_hz                         list of array      l: 5\n",
      "lineIndex                    array              s: (5,)\n",
      "\n"
     ]
    }
   ],
   "source": [
    "Class.help_attribute(atom.I_Rad)"
   ]
  },
  {
   "cell_type": "markdown",
   "metadata": {},
   "source": [
    "## Methods"
   ]
  },
  {
   "cell_type": "code",
   "execution_count": 25,
   "metadata": {},
   "outputs": [],
   "source": [
    "atom.cont_ctj_to_cont_idx?"
   ]
  },
  {
   "cell_type": "code",
   "execution_count": 24,
   "metadata": {},
   "outputs": [
    {
     "name": "stdout",
     "output_type": "stream",
     "text": [
      "Methods\n",
      "----------------------------------------------------------------------\n",
      "\n",
      "cont_ctj_to_cont_idx\n",
      "\n",
      "        (ctj_i, ctj_j) --> (idxI, idxJ)\n",
      "\n",
      "cont_ctj_to_cont_index\n",
      "\n",
      "        (ctj_i, ctj_j) --> cont index (cont No.)\n",
      "\n",
      "cont_idx_to_cont_ctj\n",
      "\n",
      "        (idxI, idxJ) --> (ctj_i, ctj_j)\n",
      "\n",
      "cont_idx_to_cont_index\n",
      "\n",
      "        (idxI, idxJ) --> cont index (cont No.)\n",
      "\n",
      "cont_index_to_cont_ctj\n",
      "\n",
      "        line index (line No.) --> (ctj_i, ctj_j)\n",
      "\n",
      "cont_index_to_cont_idx\n",
      "\n",
      "        cont index (cont No.) --> (idxI, idxJ)\n",
      "\n",
      "ctj_to_level_idx\n",
      "\n",
      "        ctj --> idx\n",
      "\n",
      "get_nTran_nLine_nCont\n",
      "\n",
      "        based on self.Level,\n",
      "        compute self.nTran, self.nLine, self.nCont\n",
      "\n",
      "level_idx_to_ctj\n",
      "\n",
      "        idx --> ctj\n",
      "\n",
      "line_ctj_to_line_idx\n",
      "\n",
      "        (ctj_i, ctj_j) --> (idxI, idxJ)\n",
      "\n",
      "line_ctj_to_line_index\n",
      "\n",
      "        (ctj_i, ctj_j) --> line index (line No.)\n",
      "\n",
      "line_idx_to_line_ctj\n",
      "\n",
      "        (idxI, idxJ) --> (ctj_i, ctj_j)\n",
      "\n",
      "line_idx_to_line_index\n",
      "\n",
      "        (idxI, idxJ) --> line index (line No.)\n",
      "\n",
      "line_index_to_line_ctj\n",
      "\n",
      "        line index (line No.) --> (ctj_i, ctj_j)\n",
      "\n",
      "line_index_to_line_idx\n",
      "\n",
      "        line index (line No.) --> (idxI, idxJ)\n",
      "\n",
      "make_Cont\n",
      "\n",
      "\n",
      "make_Cont_Mesh\n",
      "\n",
      "\n",
      "read_Aji\n",
      "\n",
      "        read Aji information from *.Aji\n",
      "\n",
      "read_CE\n",
      "\n",
      "        read Collisional Excitation table from *.Electron and *.Proton\n",
      "        in most case the data is Effective Collisional Strength (ECS)\n",
      "\n",
      "read_CI\n",
      "\n",
      "        read Collisional Ionization table from *.Electron and *.Proton\n",
      "\n",
      "read_Level\n",
      "\n",
      "        read the Level information from config file *.Level\n",
      "\n",
      "read_PI\n",
      "\n",
      "        read Collisional Ionization table from *.Alpha\n",
      "\n",
      "read_RadLine_intensity\n",
      "\n",
      "        read line profiles of incident radiation for\n",
      "        specific line transition\n",
      "\n",
      "read_RadiativeLine_and_make_Line_Mesh\n",
      "\n",
      "        read wavelength mesh information from *.RadiativeLine\n",
      "        and make Mesh for RadiativeLine and Cont\n",
      "\n",
      "\n"
     ]
    }
   ],
   "source": [
    "Class.help_method(atom)"
   ]
  },
  {
   "cell_type": "code",
   "execution_count": 26,
   "metadata": {
    "scrolled": false
   },
   "outputs": [
    {
     "name": "stdout",
     "output_type": "stream",
     "text": [
      "Attributes\n",
      "----------------------------------------------------------------------\n",
      "name                         type               value/len/shape\n",
      "----------------------------------------------------------------------\n",
      "\n",
      "filepath_dict                dict               l: 6\n",
      "Title                        str                v: Ca II H/K ...\n",
      "Z                            int                v: 20\n",
      "Element                      str                v: Ca\n",
      "nLevel                       int                v: 6\n",
      "Mass                         float              v: 40.08\n",
      "Abun                         float              v: 2.5118864315095823e-06\n",
      "Level                        recarray           ---\n",
      "  |-> erg                    float64 array      s: (6,)\n",
      "  |-> g                      uint8 array        s: (6,)\n",
      "  |-> stage                  uint8 array        s: (6,)\n",
      "  |-> gamma                  float64 array      s: (6,)\n",
      "  |-> isGround               bool array         s: (6,)\n",
      "Level_ctj_table              tuple              l: 6\n",
      "nTran                        int                v: 15\n",
      "nLine                        int                v: 10\n",
      "nCont                        int                v: 5\n",
      "hasContinuum                 bool               v: True\n",
      "Line_idx_table               tuple              l: 10\n",
      "Line_ctj_table               tuple              l: 10\n",
      "Cont_idx_table               tuple              l: 5\n",
      "Cont_ctj_table               tuple              l: 5\n",
      "Cont                         recarray           ---\n",
      "  |-> idxI                   uint16 array       s: (5,)\n",
      "  |-> idxJ                   uint16 array       s: (5,)\n",
      "  |-> f0                     float64 array      s: (5,)\n",
      "  |-> w0                     float64 array      s: (5,)\n",
      "  |-> w0_AA                  float64 array      s: (5,)\n",
      "Line                         recarray           ---\n",
      "  |-> idxI                   uint16 array       s: (10,)\n",
      "  |-> idxJ                   uint16 array       s: (10,)\n",
      "  |-> AJI                    float64 array      s: (10,)\n",
      "  |-> f0                     float64 array      s: (10,)\n",
      "  |-> w0                     float64 array      s: (10,)\n",
      "  |-> w0_AA                  float64 array      s: (10,)\n",
      "  |-> Gamma                  float64 array      s: (10,)\n",
      "nRadiativeLine               int                v: 5\n",
      "\n",
      "Atom.CE\n",
      "------------------------------\n",
      "\n",
      "CE_type                      str                v: ECS\n",
      "Te_table                     array              s: (6,)\n",
      "Omega_table                  array              s: (10, 6)\n",
      "Coe                          recarray           ---\n",
      "  |-> idxI                   uint8 array        s: (10,)\n",
      "  |-> idxJ                   uint8 array        s: (10,)\n",
      "  |-> f1                     uint8 array        s: (10,)\n",
      "  |-> f2                     uint8 array        s: (10,)\n",
      "  |-> gi                     uint8 array        s: (10,)\n",
      "  |-> gj                     uint8 array        s: (10,)\n",
      "  |-> dEij                   float64 array      s: (10,)\n",
      "\n",
      "Atom.CI\n",
      "------------------------------\n",
      "\n",
      "Te_table                     array              s: (6,)\n",
      "Omega_table                  array              s: (5, 6)\n",
      "Coe                          recarray           ---\n",
      "  |-> idxI                   uint8 array        s: (5,)\n",
      "  |-> idxJ                   uint8 array        s: (5,)\n",
      "  |-> f1                     uint8 array        s: (5,)\n",
      "  |-> f2                     uint8 array        s: (5,)\n",
      "  |-> gi                     uint8 array        s: (5,)\n",
      "  |-> gj                     uint8 array        s: (5,)\n",
      "  |-> dEij                   float64 array      s: (5,)\n",
      "\n",
      "Atom.PI\n",
      "------------------------------\n",
      "\n",
      "Coe                          recarray           ---\n",
      "  |-> idxI                   uint8 array        s: (5,)\n",
      "  |-> idxJ                   uint8 array        s: (5,)\n",
      "  |-> nLambda                uint16 array       s: (5,)\n",
      "  |-> alpha0                 float64 array      s: (5,)\n",
      "  |-> gi                     uint8 array        s: (5,)\n",
      "  |-> gj                     uint8 array        s: (5,)\n",
      "  |-> dEij                   float64 array      s: (5,)\n",
      "alpha_table                  list of array      l: 5\n",
      "\n",
      "Atom.Mesh\n",
      "------------------------------\n",
      "\n",
      "nRadiativeLine               int                v: 5\n",
      "Coe                          recarray           ---\n",
      "  |-> idxI                   uint8 array        s: (5,)\n",
      "  |-> idxJ                   uint8 array        s: (5,)\n",
      "  |-> lineIndex              uint16 array       s: (5,)\n",
      "  |-> ProfileType            uint8 array        s: (5,)\n",
      "  |-> qcore                  float64 array      s: (5,)\n",
      "  |-> qwing                  float64 array      s: (5,)\n",
      "  |-> nLambda                uint16 array       s: (5,)\n",
      "RadLine_filenames            list of str        l: 5\n",
      "RadLine                      list of array      l: 5\n",
      "Cont                         list of array      l: 5\n",
      "\n",
      "Atom.I_Rad\n",
      "------------------------------\n",
      "\n",
      "I_cm                         list of array      l: 5\n",
      "I_hz                         list of array      l: 5\n",
      "lineIndex                    array              s: (5,)\n",
      "\n",
      "Methods\n",
      "----------------------------------------------------------------------\n",
      "\n",
      "cont_ctj_to_cont_idx\n",
      "\n",
      "        (ctj_i, ctj_j) --> (idxI, idxJ)\n",
      "\n",
      "cont_ctj_to_cont_index\n",
      "\n",
      "        (ctj_i, ctj_j) --> cont index (cont No.)\n",
      "\n",
      "cont_idx_to_cont_ctj\n",
      "\n",
      "        (idxI, idxJ) --> (ctj_i, ctj_j)\n",
      "\n",
      "cont_idx_to_cont_index\n",
      "\n",
      "        (idxI, idxJ) --> cont index (cont No.)\n",
      "\n",
      "cont_index_to_cont_ctj\n",
      "\n",
      "        line index (line No.) --> (ctj_i, ctj_j)\n",
      "\n",
      "cont_index_to_cont_idx\n",
      "\n",
      "        cont index (cont No.) --> (idxI, idxJ)\n",
      "\n",
      "ctj_to_level_idx\n",
      "\n",
      "        ctj --> idx\n",
      "\n",
      "get_nTran_nLine_nCont\n",
      "\n",
      "        based on self.Level,\n",
      "        compute self.nTran, self.nLine, self.nCont\n",
      "\n",
      "level_idx_to_ctj\n",
      "\n",
      "        idx --> ctj\n",
      "\n",
      "line_ctj_to_line_idx\n",
      "\n",
      "        (ctj_i, ctj_j) --> (idxI, idxJ)\n",
      "\n",
      "line_ctj_to_line_index\n",
      "\n",
      "        (ctj_i, ctj_j) --> line index (line No.)\n",
      "\n",
      "line_idx_to_line_ctj\n",
      "\n",
      "        (idxI, idxJ) --> (ctj_i, ctj_j)\n",
      "\n",
      "line_idx_to_line_index\n",
      "\n",
      "        (idxI, idxJ) --> line index (line No.)\n",
      "\n",
      "line_index_to_line_ctj\n",
      "\n",
      "        line index (line No.) --> (ctj_i, ctj_j)\n",
      "\n",
      "line_index_to_line_idx\n",
      "\n",
      "        line index (line No.) --> (idxI, idxJ)\n",
      "\n",
      "make_Cont\n",
      "\n",
      "\n",
      "make_Cont_Mesh\n",
      "\n",
      "\n",
      "read_Aji\n",
      "\n",
      "        read Aji information from *.Aji\n",
      "\n",
      "read_CE\n",
      "\n",
      "        read Collisional Excitation table from *.Electron and *.Proton\n",
      "        in most case the data is Effective Collisional Strength (ECS)\n",
      "\n",
      "read_CI\n",
      "\n",
      "        read Collisional Ionization table from *.Electron and *.Proton\n",
      "\n",
      "read_Level\n",
      "\n",
      "        read the Level information from config file *.Level\n",
      "\n",
      "read_PI\n",
      "\n",
      "        read Collisional Ionization table from *.Alpha\n",
      "\n",
      "read_RadLine_intensity\n",
      "\n",
      "        read line profiles of incident radiation for\n",
      "        specific line transition\n",
      "\n",
      "read_RadiativeLine_and_make_Line_Mesh\n",
      "\n",
      "        read wavelength mesh information from *.RadiativeLine\n",
      "        and make Mesh for RadiativeLine and Cont\n",
      "\n",
      "\n"
     ]
    }
   ],
   "source": [
    "Class.help(atom)"
   ]
  },
  {
   "cell_type": "markdown",
   "metadata": {},
   "source": [
    "![img](./figs/Atom.png)"
   ]
  },
  {
   "cell_type": "markdown",
   "metadata": {},
   "source": [
    "## Grotrian"
   ]
  },
  {
   "cell_type": "code",
   "execution_count": 10,
   "metadata": {},
   "outputs": [
    {
     "data": {
      "image/png": "[encoded data removed]",
      "text/plain": [
       "<Figure size 1500x900 with 1 Axes>"
      ]
     },
     "metadata": {
      "needs_background": "light"
     },
     "output_type": "display_data"
    }
   ],
   "source": [
    "gro = Grotrian.Grotrian(_atom=atom, _conf_prefix=\"1s2.2s2.2p6.3s2.3p6.\")\n",
    "gro.make_fig(_figsize=(10,6),_dpi=150, _f=50)\n",
    "\n",
    "line_plot = (\n",
    "        (0, 3, \"3968\", 0.7, 0.5),\n",
    "        (0, 4, \"3934\", 0.3, 0.1),\n",
    "        (1, 3, \"8662\", 0.4, 0.8),\n",
    "        (1, 4, \"8498\", 0.9, 0.9),\n",
    "        (2, 4, \"8542\", 0.5, 0.5),\n",
    "    )\n",
    "for i, j, wl, _r1, _r2 in line_plot:\n",
    "    _ctj1 = atom.Level_ctj_table[i]\n",
    "    _ctj2 = atom.Level_ctj_table[j]\n",
    "    gro.connect_line(_cfj1=_ctj1, _cfj2=_ctj2, _r1=_r1, _r2=_r2, _c=\"black\", _text=wl, _tsize=7, _r=0.4)\n",
    "gro.show_fig()"
   ]
  }
 ],
 "metadata": {
  "kernelspec": {
   "display_name": "Python 3",
   "language": "python",
   "name": "python3"
  },
  "language_info": {
   "codemirror_mode": {
    "name": "ipython",
    "version": 3
   },
   "file_extension": ".py",
   "mimetype": "text/x-python",
   "name": "python",
   "nbconvert_exporter": "python",
   "pygments_lexer": "ipython3",
   "version": "3.6.10"
  },
  "toc": {
   "nav_menu": {},
   "number_sections": true,
   "sideBar": true,
   "skip_h1_title": false,
   "toc_cell": false,
   "toc_position": {},
   "toc_section_display": "block",
   "toc_window_display": false
  }
 },
 "nbformat": 4,
 "nbformat_minor": 4
}
