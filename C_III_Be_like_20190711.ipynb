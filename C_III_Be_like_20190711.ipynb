{
 "cells": [
  {
   "cell_type": "code",
   "execution_count": 1,
   "metadata": {},
   "outputs": [],
   "source": [
    "import sys\n",
    "sys.path.append(\"./src\")"
   ]
  },
  {
   "cell_type": "code",
   "execution_count": 2,
   "metadata": {},
   "outputs": [],
   "source": [
    "import numpy as np"
   ]
  },
  {
   "cell_type": "code",
   "execution_count": 3,
   "metadata": {},
   "outputs": [],
   "source": [
    "import AtomCls\n",
    "import LTELib\n",
    "import ColExcite\n",
    "import SEsolver\n",
    "import OpticallyThin"
   ]
  },
  {
   "cell_type": "markdown",
   "metadata": {},
   "source": [
    "restore atomic model"
   ]
  },
  {
   "cell_type": "code",
   "execution_count": 4,
   "metadata": {},
   "outputs": [],
   "source": [
    "file = \"./atom/C_III_Be_like.txt\"\n",
    "atom = AtomCls.Atom(file)"
   ]
  },
  {
   "cell_type": "markdown",
   "metadata": {},
   "source": [
    "environment"
   ]
  },
  {
   "cell_type": "code",
   "execution_count": 5,
   "metadata": {},
   "outputs": [],
   "source": [
    "Te = 2E+04\n",
    "ne = 1E+10"
   ]
  },
  {
   "cell_type": "markdown",
   "metadata": {},
   "source": [
    "compute the LTE population ratio first"
   ]
  },
  {
   "cell_type": "code",
   "execution_count": 6,
   "metadata": {},
   "outputs": [],
   "source": [
    "#--- compute LTE population ratio for each CE transition\n",
    "n_LTE = LTELib.get_LTE_ratio(_erg=atom.Level.erg[:], _g=atom.Level.g[:],\n",
    "                _stage=atom.Level.stage[:], _Te=Te, _Ne=ne)"
   ]
  },
  {
   "cell_type": "markdown",
   "metadata": {},
   "source": [
    "we are going to use LTE population ratio to convert `C_{ij}` to `C_{ji}` "
   ]
  },
  {
   "cell_type": "code",
   "execution_count": 7,
   "metadata": {},
   "outputs": [],
   "source": [
    "nTran = atom.CE_table.shape[0]\n",
    "ni_LTE = np.empty(nTran, np.double)\n",
    "nj_LTE = np.empty(nTran, np.double)\n",
    "\n",
    "for k in range(nTran):\n",
    "    ni_LTE[k] = n_LTE[atom.CE_coe.idxI[k]]\n",
    "    nj_LTE[k] = n_LTE[atom.CE_coe.idxJ[k]]"
   ]
  },
  {
   "cell_type": "code",
   "execution_count": 8,
   "metadata": {},
   "outputs": [],
   "source": [
    "#--- compute collision excitation/de-excitation rate coefficient\n",
    "CE_fac = ColExcite.interpolate_CE_fac(_table=atom.CE_table[:,:], _Te=Te, _Te_table=atom.CE_Te_table[:],\n",
    "                            _f1=atom.CE_coe.f1[:], _f2=atom.CE_coe.f2[:])\n",
    "CEij = ColExcite.get_CE_rate_coe(_CE_fac=CE_fac, _Te=Te, _gi=atom.CE_coe.gi[:],\n",
    "                            _dEij=atom.CE_coe.dEij[:], _type=atom.CE_type[0])\n",
    "\n",
    "CEji = ColExcite.Cij_to_Cji(_Cij=CEij,  _ni_LTE=ni_LTE, _nj_LTE=nj_LTE)"
   ]
  },
  {
   "cell_type": "markdown",
   "metadata": {},
   "source": [
    "solve SE equations under the assumption of \"Corona equilibrium\""
   ]
  },
  {
   "cell_type": "code",
   "execution_count": 9,
   "metadata": {},
   "outputs": [],
   "source": [
    "#--- solve SE equations\n",
    "nLevel = atom.nLevel\n",
    "Cmat = np.zeros((nLevel, nLevel), np.double)\n",
    "Rmat = np.zeros((nLevel, nLevel), np.double)\n",
    "SEsolver.setMatrixC(_Cmat=Cmat[:,:], _Cji=CEji[:], _Cij=CEij[:],\n",
    "            _idxI=atom.CE_coe.idxI[:], _idxJ=atom.CE_coe.idxJ[:], _ne=ne)\n",
    "\n",
    "Rji_stim = np.zeros(atom.Line.AJI[:].shape, np.double)\n",
    "Rij = np.zeros(atom.Line.AJI[:].shape, np.double)\n",
    "SEsolver.setMatrixR(_Rmat=Rmat[:,:], _Rji_spon=atom.Line.AJI[:],\n",
    "    _Rji_stim=Rji_stim[:], _Rij=Rij, _idxI=atom.Line.idxI[:], _idxJ=atom.Line.idxJ[:])\n",
    "\n",
    "n_SE = SEsolver.solveSE(_Rmat=Rmat[:,:], _Cmat=Cmat[:,:])"
   ]
  },
  {
   "cell_type": "markdown",
   "metadata": {},
   "source": [
    "compute relative flux for each transition"
   ]
  },
  {
   "cell_type": "code",
   "execution_count": 10,
   "metadata": {},
   "outputs": [],
   "source": [
    "#-- compute optically thin relative flux\n",
    "nj_SE = np.empty(nTran, np.double)\n",
    "for k in range(nTran):\n",
    "    nj_SE[k] = n_SE[atom.CE_coe.idxJ[k]]\n",
    "\n",
    "rel_flux = OpticallyThin.get_relative_flux(_AJI=atom.Line.AJI[:], _f0=atom.Line.f0[:], _nj=nj_SE[:])"
   ]
  },
  {
   "cell_type": "markdown",
   "metadata": {},
   "source": [
    "---"
   ]
  },
  {
   "cell_type": "code",
   "execution_count": 11,
   "metadata": {},
   "outputs": [],
   "source": [
    "Te = 5E+04"
   ]
  },
  {
   "cell_type": "code",
   "execution_count": 16,
   "metadata": {},
   "outputs": [],
   "source": [
    "N = 13\n",
    "ne_array = np.logspace(8,13,N,endpoint=True)\n",
    "\n",
    "n_SE_array = np.empty((ne.shape[0], atom.nLevel), dtype=np.double)\n",
    "rel_flux_array = np.empty((ne.shape[0], nTran), dtype=np.double)\n",
    "\n",
    "for q in range(N):\n",
    "    ne = ne_array[q]\n",
    "    \n",
    "    #--- compute LTE population ratio for each CE transition\n",
    "    n_LTE = LTELib.get_LTE_ratio(_erg=atom.Level.erg[:], _g=atom.Level.g[:],\n",
    "                    _stage=atom.Level.stage[:], _Te=Te, _Ne=ne)\n",
    "    \n",
    "    nTran = atom.CE_table.shape[0]\n",
    "    ni_LTE = np.empty(nTran, np.double)\n",
    "    nj_LTE = np.empty(nTran, np.double)\n",
    "\n",
    "    for k in range(nTran):\n",
    "        ni_LTE[k] = n_LTE[atom.CE_coe.idxI[k]]\n",
    "        nj_LTE[k] = n_LTE[atom.CE_coe.idxJ[k]]\n",
    "        \n",
    "    #--- compute collision excitation/de-excitation rate coefficient\n",
    "    CE_fac = ColExcite.interpolate_CE_fac(_table=atom.CE_table[:,:], _Te=Te, _Te_table=atom.CE_Te_table[:],\n",
    "                                _f1=atom.CE_coe.f1[:], _f2=atom.CE_coe.f2[:])\n",
    "    CEij = ColExcite.get_CE_rate_coe(_CE_fac=CE_fac, _Te=Te, _gi=atom.CE_coe.gi[:],\n",
    "                                _dEij=atom.CE_coe.dEij[:], _type=atom.CE_type[0])\n",
    "\n",
    "    CEji = ColExcite.Cij_to_Cji(_Cij=CEij,  _ni_LTE=ni_LTE, _nj_LTE=nj_LTE)\n",
    "    \n",
    "    #--- solve SE equations\n",
    "    nLevel = atom.nLevel\n",
    "    Cmat = np.zeros((nLevel, nLevel), np.double)\n",
    "    Rmat = np.zeros((nLevel, nLevel), np.double)\n",
    "    SEsolver.setMatrixC(_Cmat=Cmat[:,:], _Cji=CEji[:], _Cij=CEij[:],\n",
    "                _idxI=atom.CE_coe.idxI[:], _idxJ=atom.CE_coe.idxJ[:], _ne=ne)\n",
    "\n",
    "    Rji_stim = np.zeros(atom.Line.AJI[:].shape, np.double)\n",
    "    Rij = np.zeros(atom.Line.AJI[:].shape, np.double)\n",
    "    SEsolver.setMatrixR(_Rmat=Rmat[:,:], _Rji_spon=atom.Line.AJI[:],\n",
    "        _Rji_stim=Rji_stim[:], _Rij=Rij, _idxI=atom.Line.idxI[:], _idxJ=atom.Line.idxJ[:])\n",
    "\n",
    "    n_SE = SEsolver.solveSE(_Rmat=Rmat[:,:], _Cmat=Cmat[:,:])\n",
    "    \n",
    "    #-- compute optically thin relative flux\n",
    "    nj_SE = np.empty(nTran, np.double)\n",
    "    for k in range(nTran):\n",
    "        nj_SE[k] = n_SE[atom.CE_coe.idxJ[k]]\n",
    "\n",
    "    rel_flux = OpticallyThin.get_relative_flux(_AJI=atom.Line.AJI[:], _f0=atom.Line.f0[:], _nj=nj_SE[:])\n",
    "    \n",
    "    rel_flux_array[q,:] = rel_flux[:]"
   ]
  },
  {
   "cell_type": "code",
   "execution_count": 18,
   "metadata": {},
   "outputs": [
    {
     "data": {
      "text/plain": [
       "(13, 45)"
      ]
     },
     "execution_count": 18,
     "metadata": {},
     "output_type": "execute_result"
    }
   ],
   "source": [
    "rel_flux_array.shape"
   ]
  },
  {
   "cell_type": "code",
   "execution_count": 19,
   "metadata": {},
   "outputs": [
    {
     "data": {
      "text/plain": [
       "array([1.90959701e+03, 1.90873359e+03, 1.90668238e+03, 9.77019892e+02,\n",
       "       7.27665811e+02, 7.27513892e+02, 7.27261985e+02, 6.85512991e+02,\n",
       "       5.47885425e+02, 4.22145645e+06, 1.24921084e+06, 2.00060051e+03,\n",
       "       1.17565934e+03, 1.17526283e+03, 1.17460558e+03, 1.06941479e+03,\n",
       "       7.68327435e+02, 1.77424408e+06, 2.00154907e+03, 1.17598685e+03,\n",
       "       1.17559012e+03, 1.17493250e+03, 1.06968577e+03, 7.68467300e+02,\n",
       "       2.00380960e+03, 1.17676682e+03, 1.17636956e+03, 1.17571107e+03,\n",
       "       1.07033107e+03, 7.68800285e+02, 2.85114232e+03, 2.84881142e+03,\n",
       "       2.84495269e+03, 2.29757795e+03, 1.24738281e+03, 3.48465925e+06,\n",
       "       1.31047644e+06, 1.18337128e+04, 2.21758058e+03, 2.10035873e+06,\n",
       "       1.18740364e+04, 2.21899271e+03, 1.19415460e+04, 2.22133951e+03,\n",
       "       2.72897783e+03])"
      ]
     },
     "execution_count": 19,
     "metadata": {},
     "output_type": "execute_result"
    }
   ],
   "source": [
    "atom.Line.w0_AA"
   ]
  },
  {
   "cell_type": "markdown",
   "metadata": {},
   "source": [
    "1247 AA"
   ]
  },
  {
   "cell_type": "code",
   "execution_count": 22,
   "metadata": {},
   "outputs": [
    {
     "data": {
      "text/plain": [
       "(1247.38281, 4, 9)"
      ]
     },
     "execution_count": 22,
     "metadata": {},
     "output_type": "execute_result"
    }
   ],
   "source": [
    "atom.Line.w0_AA[34], atom.Line.idxI[34], atom.Line.idxJ[34]"
   ]
  },
  {
   "cell_type": "code",
   "execution_count": 23,
   "metadata": {},
   "outputs": [
    {
     "data": {
      "text/plain": [
       "('1s2.2s.2p', '1P', '1')"
      ]
     },
     "execution_count": 23,
     "metadata": {},
     "output_type": "execute_result"
    }
   ],
   "source": [
    "atom.Level_info[\"configuration\"][4], atom.Level_info[\"term\"][4], atom.Level_info[\"J\"][4]"
   ]
  },
  {
   "cell_type": "code",
   "execution_count": 24,
   "metadata": {},
   "outputs": [
    {
     "data": {
      "text/plain": [
       "('1s2.2p2', '1S', '0')"
      ]
     },
     "execution_count": 24,
     "metadata": {},
     "output_type": "execute_result"
    }
   ],
   "source": [
    "atom.Level_info[\"configuration\"][9], atom.Level_info[\"term\"][9], atom.Level_info[\"J\"][9]"
   ]
  },
  {
   "cell_type": "markdown",
   "metadata": {},
   "source": [
    "1909 AA"
   ]
  },
  {
   "cell_type": "code",
   "execution_count": 27,
   "metadata": {},
   "outputs": [
    {
     "data": {
      "text/plain": [
       "(1908.73359, 0, 2)"
      ]
     },
     "execution_count": 27,
     "metadata": {},
     "output_type": "execute_result"
    }
   ],
   "source": [
    "atom.Line.w0_AA[1], atom.Line.idxI[1], atom.Line.idxJ[1]"
   ]
  },
  {
   "cell_type": "code",
   "execution_count": 26,
   "metadata": {},
   "outputs": [
    {
     "data": {
      "text/plain": [
       "('1s2.2s2', '1S', '0')"
      ]
     },
     "execution_count": 26,
     "metadata": {},
     "output_type": "execute_result"
    }
   ],
   "source": [
    "atom.Level_info[\"configuration\"][0], atom.Level_info[\"term\"][0], atom.Level_info[\"J\"][0]"
   ]
  },
  {
   "cell_type": "code",
   "execution_count": 28,
   "metadata": {},
   "outputs": [
    {
     "data": {
      "text/plain": [
       "('1s2.2s.2p', '3P', '1')"
      ]
     },
     "execution_count": 28,
     "metadata": {},
     "output_type": "execute_result"
    }
   ],
   "source": [
    "atom.Level_info[\"configuration\"][2], atom.Level_info[\"term\"][2], atom.Level_info[\"J\"][2]"
   ]
  },
  {
   "cell_type": "markdown",
   "metadata": {},
   "source": []
  },
  {
   "cell_type": "code",
   "execution_count": null,
   "metadata": {},
   "outputs": [],
   "source": []
  }
 ],
 "metadata": {
  "kernelspec": {
   "display_name": "Python 3",
   "language": "python",
   "name": "python3"
  },
  "language_info": {
   "codemirror_mode": {
    "name": "ipython",
    "version": 3
   },
   "file_extension": ".py",
   "mimetype": "text/x-python",
   "name": "python",
   "nbconvert_exporter": "python",
   "pygments_lexer": "ipython3",
   "version": "3.6.7"
  },
  "toc": {
   "nav_menu": {},
   "number_sections": true,
   "sideBar": true,
   "skip_h1_title": false,
   "toc_cell": false,
   "toc_position": {},
   "toc_section_display": "block",
   "toc_window_display": false
  }
 },
 "nbformat": 4,
 "nbformat_minor": 2
}
