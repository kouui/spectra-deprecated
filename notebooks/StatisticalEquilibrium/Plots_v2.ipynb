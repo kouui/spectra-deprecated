{
 "cells": [
  {
   "cell_type": "markdown",
   "metadata": {},
   "source": [
    "- 2020.07.31 kouui\n",
    "\n",
    "- 2020.08.07 kouui Grotrian-plot, data-format, wavelength-in-air"
   ]
  },
  {
   "cell_type": "markdown",
   "metadata": {},
   "source": [
    "---"
   ]
  },
  {
   "cell_type": "code",
   "execution_count": 148,
   "metadata": {},
   "outputs": [],
   "source": [
    "import numpy as np\n",
    "\n",
    "%matplotlib tk\n",
    "import matplotlib.pyplot as plt\n",
    "from matplotlib.colors import LogNorm"
   ]
  },
  {
   "cell_type": "code",
   "execution_count": 151,
   "metadata": {},
   "outputs": [
    {
     "name": "stdout",
     "output_type": "stream",
     "text": [
      "The autoreload extension is already loaded. To reload it, use:\n",
      "  %reload_ext autoreload\n"
     ]
    }
   ],
   "source": [
    "import sys\n",
    "sys.path.append(\"../../\")\n",
    "\n",
    "%load_ext autoreload\n",
    "%autoreload 2\n",
    "\n",
    "from src.Structure import AtomCls\n",
    "from src.Atomic import Collision\n",
    "\n",
    "from src.Util import Class\n",
    "\n",
    "from src.Visual import Grotrian\n",
    "\n",
    "import src.Constants as Cst\n",
    "from src.Atomic import LTELib\n",
    "\n",
    "import Lib2"
   ]
  },
  {
   "cell_type": "markdown",
   "metadata": {},
   "source": [
    "---"
   ]
  },
  {
   "cell_type": "code",
   "execution_count": 169,
   "metadata": {},
   "outputs": [
    {
     "name": "stdout",
     "output_type": "stream",
     "text": [
      "Reading Einstein Aji coefficient from : \n",
      " ../../data/atom/Ca_II/Einstein_A/Nist.Aji\n",
      "...\n",
      "Finished.\n",
      "\n",
      "Reading Electron impact Effective Collisional Strength from : \n",
      " ../../data/atom/Ca_II/Collisional_Excitation/RH.Electron\n",
      "Finished.\n",
      "\n",
      "Reading Electron impact Collisional Ionization coefficient from : \n",
      " ../../data/atom/Ca_II/Collisional_Ionization/RH.Electron\n",
      "Finished.\n",
      "\n",
      "Reading Photoionization cross section from : \n",
      " ../../data/atom/Ca_II/Photoionization/RH.Alpha\n",
      "Finished.\n",
      "\n",
      "Reading Radiative Line information from : \n",
      " ../../data/atom/Ca_II/Ca_II.RadiativeLine\n",
      "line mesh prepared.\n",
      "continuum mesh prepared.\n"
     ]
    }
   ],
   "source": [
    "folder = \"../../data/atom/Ca_II/\"\n",
    "file_Level     = folder + \"Ca_II.Level\"\n",
    "file_Aji = folder + \"Einstein_A/Nist.Aji\"\n",
    "file_CEe = folder + \"Collisional_Excitation/RH.Electron\"\n",
    "atom = AtomCls.Atom(file_Level, _file_Aji=file_Aji, _file_CEe=file_CEe)\n",
    "\n",
    "file_CIe = folder + \"Collisional_Ionization/RH.Electron\"\n",
    "atom.read_CI(_path_electron=file_CIe)\n",
    "\n",
    "file_PI  = folder + \"Photoionization/RH.Alpha\"\n",
    "atom.read_PI(_path_alpha=file_PI)\n",
    "\n",
    "file_Rad = folder + \"Ca_II.RadiativeLine\"\n",
    "atom.read_RadiativeLine_and_make_Line_Mesh(_path=file_Rad)\n",
    "atom.make_Cont_Mesh()\n",
    "atom.read_RadLine_intensity(_folder=\"../../data/intensity/Ca_II/\")"
   ]
  },
  {
   "cell_type": "code",
   "execution_count": 120,
   "metadata": {},
   "outputs": [],
   "source": [
    "Te = 1E4 \n",
    "Ne = 1E12\n",
    "#Vt = 5E5\n",
    "#Vd = 0E5"
   ]
  },
  {
   "cell_type": "code",
   "execution_count": 121,
   "metadata": {},
   "outputs": [],
   "source": [
    "n_LTE, ni_LTE, nj_LTE = Lib2.ni_nj_LTE(atom,Te,Ne)"
   ]
  },
  {
   "cell_type": "code",
   "execution_count": 122,
   "metadata": {},
   "outputs": [],
   "source": [
    "res = Lib2.bf_R_rate(atom, Te, ni_LTE, nj_LTE, _Tr=Te)\n",
    "Rik, Rki_stim, Rki_spon = res"
   ]
  },
  {
   "cell_type": "code",
   "execution_count": 123,
   "metadata": {},
   "outputs": [],
   "source": [
    "Bij_Jbar, Bji_Jbar = Lib2.B_Jbar(atom, _Tr=Te)"
   ]
  },
  {
   "cell_type": "code",
   "execution_count": 124,
   "metadata": {},
   "outputs": [],
   "source": [
    "#CEij = Lib2.CEij_rate_coe(atom, Te)\n",
    "#CIik = Lib2.CIik_rate_coe(atom, Te)\n",
    "Cij = Lib2.get_Cij(atom, Te)\n",
    "Cji = Collision.Cij_to_Cji(Cij, ni_LTE, nj_LTE)"
   ]
  },
  {
   "cell_type": "code",
   "execution_count": 54,
   "metadata": {},
   "outputs": [
    {
     "data": {
      "text/plain": [
       "array([1.70004652e-02, 2.91957953e-03, 4.33183250e-03, 1.83162623e-04,\n",
       "       3.51931029e-04, 9.75213029e-01])"
      ]
     },
     "execution_count": 54,
     "metadata": {},
     "output_type": "execute_result"
    }
   ],
   "source": [
    "n_LTE"
   ]
  },
  {
   "cell_type": "markdown",
   "metadata": {},
   "source": [
    "## Plots"
   ]
  },
  {
   "cell_type": "markdown",
   "metadata": {},
   "source": [
    "### Te, Ne v.s. collisional excitation"
   ]
  },
  {
   "cell_type": "code",
   "execution_count": 9,
   "metadata": {},
   "outputs": [],
   "source": [
    "Te_arr = np.logspace(3.5, 5, 101,endpoint=True)\n",
    "#Ne_arr = np.logspace(9, 14, 101, endpoint=True)\n",
    "nTe = Te_arr.shape[0]\n",
    "#nNe = Ne_arr.shape[0]\n",
    "\n",
    "CEij_arr = np.zeros((atom.nLine, nTe))\n",
    "\n",
    "for k in range(nTe):\n",
    "    CEij_arr[:,k]= Lib2.CEij_rate_coe(atom, Te_arr[k])"
   ]
  },
  {
   "cell_type": "code",
   "execution_count": 10,
   "metadata": {},
   "outputs": [],
   "source": [
    "names = [f\"{atom.Line.w0_AA[i]:.0f}\" for i in atom.I_Rad.lineIndex]\n",
    "index = [i for i in atom.I_Rad.lineIndex]\n",
    "\n",
    "k = 0\n",
    "\n",
    "fig, ax = plt.subplots(1,1, figsize=(6,3), dpi=150)\n",
    "ax.plot(Te_arr, CEij_arr[index[k],:], linewidth=1, label=names[k])\n",
    "\n",
    "ax.set_xlabel(\"Te [$K$]\")\n",
    "ax.set_ylabel(\"CEij [$s^{-1}cm^{3}$]\")\n",
    "ax.legend(loc=\"best\")\n",
    "plt.show()"
   ]
  },
  {
   "cell_type": "markdown",
   "metadata": {},
   "source": [
    "### photo-excitation v.s. collisional excitation"
   ]
  },
  {
   "cell_type": "code",
   "execution_count": 11,
   "metadata": {},
   "outputs": [],
   "source": [
    "# electron temperature\n",
    "Te_arr = np.logspace(3.5, 4, 101,endpoint=True)\n",
    "nT = Te_arr.shape[0]\n",
    "# radiation temperature\n",
    "Tr_arr = np.logspace(3.5, 4, 101,endpoint=True)\n",
    "\n",
    "\n",
    "Bij_Jbar_arr = np.zeros((atom.nLine, nT))\n",
    "CEij_arr = np.zeros((atom.nLine, nT))\n",
    "\n",
    "for k in range(nT):\n",
    "    CEij_arr[:,k]= Lib2.CEij_rate_coe(atom, _Te=Te_arr[k])\n",
    "    \n",
    "    Bij_Jbar_arr[:,k], _Bji_Jbar = Lib2.B_Jbar(atom, _Tr=Tr_arr[k])"
   ]
  },
  {
   "cell_type": "code",
   "execution_count": 12,
   "metadata": {},
   "outputs": [],
   "source": [
    "names = [f\"{atom.Line.w0_AA[i]:.0f}\" for i in atom.I_Rad.lineIndex]\n",
    "index = [i for i in atom.I_Rad.lineIndex]\n",
    "\n",
    "k = 0\n",
    "Ne = 1E12\n",
    "\n",
    "fig, ax = plt.subplots(1,1, figsize=(6,3), dpi=150)\n",
    "lns1 = ax.plot(Te_arr, Ne*CEij_arr[index[k],:],\"b\", linewidth=1, label=\"Col-Ex\")\n",
    "ax2 = ax.twiny()\n",
    "\n",
    "lns2 = ax2.plot(Tr_arr, Bij_Jbar_arr[index[k],:],\"r\", linewidth=1, label=\"Photo-Ex\")\n",
    "\n",
    "lns = lns1+lns2\n",
    "labs = [l.get_label() for l in lns]\n",
    "ax.legend(lns, labs, loc=\"best\")\n",
    "\n",
    "ax2.set_title(names[k]+\"$\\AA$\", x=0.0, y=1.1)\n",
    "ax.set_xlabel(\"Te [$K$]\")\n",
    "ax2.set_xlabel(\"Tr [$K$]\")\n",
    "ax.set_ylabel(\"rate [$s^{-1}$]\")\n",
    "ax.set_yscale(\"log\")\n",
    "plt.show()"
   ]
  },
  {
   "cell_type": "markdown",
   "metadata": {},
   "source": [
    "### Transition rate plot in Grotrian diagram"
   ]
  },
  {
   "cell_type": "markdown",
   "metadata": {},
   "source": [
    "#### show Grotrian"
   ]
  },
  {
   "cell_type": "code",
   "execution_count": 173,
   "metadata": {},
   "outputs": [],
   "source": [
    "gro = Grotrian.Grotrian(_atom=atom, _conf_prefix=\"1s2.2s2.2p6.3s2.3p6.\")\n",
    "gro.make_fig(_figsize=(10,6),_dpi=150, _f=50)\n",
    "\n",
    "gro.show_fig()"
   ]
  },
  {
   "cell_type": "code",
   "execution_count": 174,
   "metadata": {},
   "outputs": [],
   "source": [
    "gro = Grotrian.Grotrian(_atom=atom, _conf_prefix=\"1s2.2s2.2p6.3s2.3p6.\")\n",
    "gro.make_fig(_figsize=(10,6),_dpi=150, _f=50)\n",
    "\n",
    "text_selection = (\"3968\", \"3934\") # \"wavelength\", \"all\"\n",
    "gro.show_Grotrian(folder + \"/Ca_II.Grotrian\", _text_selection=\"wavelength\")\n",
    "gro.show_fig()"
   ]
  },
  {
   "cell_type": "markdown",
   "metadata": {},
   "source": [
    "#### radiative transition rate"
   ]
  },
  {
   "cell_type": "markdown",
   "metadata": {},
   "source": [
    "check detail balance"
   ]
  },
  {
   "cell_type": "code",
   "execution_count": 334,
   "metadata": {},
   "outputs": [
    {
     "name": "stdout",
     "output_type": "stream",
     "text": [
      "Line Transitions\n",
      "wavelength : 7326[A]    net rate = 0.0\n",
      "wavelength : 7293[A]    net rate = 0.0\n",
      "wavelength : 3970[A]    net rate = -1.3969838619232178e-09\n",
      "wavelength : 3935[A]    net rate = 0.0\n",
      "wavelength : 1647849[A]    net rate = 0.0\n",
      "wavelength : 8665[A]    net rate = 2.3283064365386963e-10\n",
      "wavelength : 8500[A]    net rate = -5.820766091346741e-11\n",
      "wavelength : 8710[A]    net rate = 0.0\n",
      "wavelength : 8544[A]    net rate = 0.0\n",
      "wavelength : 448649[A]    net rate = 0.0\n",
      "\n",
      "Continuum Transitions\n",
      "wavelength : 1044[A]    net rate = 3.552713678800501e-15\n",
      "wavelength : 1218[A]    net rate = 6.821210263296962e-13\n",
      "wavelength : 1219[A]    net rate = 6.821210263296962e-13\n",
      "wavelength : 1417[A]    net rate = 4.547473508864641e-13\n",
      "wavelength : 1422[A]    net rate = 2.7284841053187847e-12\n"
     ]
    }
   ],
   "source": [
    "Te = 1E4\n",
    "Ne = 1E12\n",
    "\n",
    "#n_LTE0, ni_LTE0, nj_LTE0 = Lib2.ni_nj_LTE_v0(atom,_Te,_Ne)\n",
    "#_nj_by_ni_Line = nj_LTE0[:atom.nLine] / ni_LTE0[:atom.nLine]\n",
    "#_nj_by_ni_Cont = nj_LTE0[atom.nLine:] / ni_LTE0[atom.nLine:]\n",
    "\n",
    "n_LTE , nj_by_ni_Line, nj_by_ni_Cont = Lib2.ni_nj_LTE(atom, Te, Ne)\n",
    "\n",
    "res = Lib2.bf_R_rate(atom, Te, nj_by_ni_Cont, _Tr=Te)\n",
    "Rik, Rki_stim, Rki_spon = res\n",
    "Bij_Jbar, Bji_Jbar = Lib2.B_Jbar(atom, _Tr=Te)\n",
    "Cij = Lib2.get_Cij(atom, Te)\n",
    "Cji = Collision.Cij_to_Cji( Cij, np.append(nj_ni_Line,nj_ni_Cont) )\n",
    "\n",
    "print(\"Line Transitions\", end=\"\\n\")\n",
    "for _lineIdx in range(atom.nLine):\n",
    "    _nj_by_ni = nj_by_ni_Line[_lineIdx]\n",
    "    print(f\"wavelength : {atom.Line.w0_AA[_lineIdx]:.0f}[A]\", end=\"    \")\n",
    "    print(\"net rate = \", end=\"\")\n",
    "    print((atom.Line.AJI[_lineIdx] + Bji_Jbar[_lineIdx]) * _nj_by_ni \\\n",
    "          - Bij_Jbar[_lineIdx])\n",
    "\n",
    "print()\n",
    "print(\"Continuum Transitions\", end=\"\\n\")\n",
    "for _contIdx in range(atom.nCont):\n",
    "    _nj_by_ni = nj_by_ni_Cont[_contIdx]\n",
    "    print(f\"wavelength : {atom.Cont.w0_AA[_contIdx]:.0f}[A]\", end=\"    \")\n",
    "    print(\"net rate = \", end=\"\")\n",
    "    print((Rki_spon[_contIdx] + Rki_stim[_contIdx]) * _nj_by_ni \\\n",
    "          - Rik[_contIdx])\n"
   ]
  },
  {
   "cell_type": "code",
   "execution_count": 336,
   "metadata": {},
   "outputs": [],
   "source": [
    "gro.make_fig(_figsize=(10,6),_dpi=150, _f=50)\n",
    "\n",
    "cmap = plt.get_cmap('cool')\n",
    "norm = LogNorm(1E-3, 1E5, clip=True)\n",
    "\n",
    "\n",
    "Te = 8E3\n",
    "Ne = 1E12\n",
    "Tr = 6E3\n",
    "\n",
    "#n_LTE, ni_LTE, nj_LTE = Lib2.ni_nj_LTE_v0(atom,Te,Ne)\n",
    "#nj_by_ni_Line = nj_LTE[:atom.nLine] / ni_LTE[:atom.nLine]\n",
    "#nj_by_ni_Cont = nj_LTE[atom.nLine:] / ni_LTE[atom.nLine:]\n",
    "\n",
    "n_LTE , nj_by_ni_Line, nj_by_ni_Cont = Lib2.ni_nj_LTE(atom, Te, Ne)\n",
    "\n",
    "res = Lib2.bf_R_rate(atom, Te, nj_by_ni_Cont, _Tr=Tr)\n",
    "Rik, Rki_stim, Rki_spon = res\n",
    "Bij_Jbar, Bji_Jbar = Lib2.B_Jbar(atom, _Tr=Tr)\n",
    "\n",
    "rate = np.append( Bji_Jbar*nj_by_ni_Line + \n",
    "                  atom.Line.AJI*nj_by_ni_Line - \n",
    "                  Bij_Jbar,\n",
    "                  Rki_stim*nj_by_ni_Cont +\n",
    "                  Rki_spon*nj_by_ni_Cont - \n",
    "                  Rik )\n",
    "\n",
    "idxI = np.append( atom.Line.idxI, atom.Cont.idxI )\n",
    "idxJ = np.append( atom.Line.idxJ, atom.Cont.idxJ )\n",
    "\n",
    "gro.show_transition_rate(_idxI=idxI, \n",
    "                         _idxJ=idxJ, \n",
    "                         _rate=rate, \n",
    "                         _direction=\"j->i\",\n",
    "                         _cmap=cmap, _norm=norm)"
   ]
  },
  {
   "cell_type": "markdown",
   "metadata": {},
   "source": [
    "#### collisional transition rate"
   ]
  },
  {
   "cell_type": "code",
   "execution_count": 20,
   "metadata": {},
   "outputs": [],
   "source": [
    "gro.make_fig(_figsize=(10,6),_dpi=150, _f=50)\n",
    "\n",
    "cmap = plt.get_cmap('cool')\n",
    "norm = LogNorm(1E3, 1E8, clip=True)\n",
    "\n",
    "Ne = 1E12\n",
    "rate = (Cji - Cij)*Ne\n",
    "idxI = np.append( atom.Line.idxI, atom.Cont.idxI )\n",
    "idxJ = np.append( atom.Line.idxJ, atom.Cont.idxJ )\n",
    "\n",
    "gro.show_transition_rate(_idxI=idxI, \n",
    "                         _idxJ=idxJ, \n",
    "                         _rate=rate, \n",
    "                         _direction=\"j->i\",\n",
    "                         _cmap=cmap, _norm=norm)"
   ]
  },
  {
   "cell_type": "markdown",
   "metadata": {},
   "source": [
    "#### transition plot respective to a single level"
   ]
  },
  {
   "cell_type": "code",
   "execution_count": 21,
   "metadata": {},
   "outputs": [],
   "source": [
    "gro.make_fig(_figsize=(10,6),_dpi=150, _f=50)\n",
    "\n",
    "cmap = plt.get_cmap('cool')\n",
    "norm = LogNorm(1E3, 1E8, clip=True)\n",
    "\n",
    "Ne = 1E12\n",
    "rate = (Cji - Cij)*Ne\n",
    "idxI = np.append( atom.Line.idxI, atom.Cont.idxI )\n",
    "idxJ = np.append( atom.Line.idxJ, atom.Cont.idxJ )\n",
    "\n",
    "gro.show_transition_rate(_idxI=idxI, \n",
    "                         _idxJ=idxJ, \n",
    "                         _rate=rate, \n",
    "                         _direction=\"j->i\",\n",
    "                         _cmap=cmap, _norm=norm,\n",
    "                         _level_ctj_without_prefix=(\"4p\",\"2P\",\"3/2\"))"
   ]
  },
  {
   "cell_type": "markdown",
   "metadata": {},
   "source": [
    "---"
   ]
  },
  {
   "cell_type": "markdown",
   "metadata": {},
   "source": [
    "# backup"
   ]
  },
  {
   "cell_type": "code",
   "execution_count": 333,
   "metadata": {},
   "outputs": [
    {
     "name": "stdout",
     "output_type": "stream",
     "text": [
      "-2.3283064365386963e-10\n"
     ]
    }
   ],
   "source": [
    "_l = 8\n",
    "wave = atom.Line.w0[_l]\n",
    "_Te = 1E4\n",
    "_chi = Cst.h_*Cst.c_/wave\n",
    "_gi = atom.Level.g[ atom.Line.idxI[_l] ]\n",
    "_gj = atom.Level.g[ atom.Line.idxJ[_l] ]\n",
    "_Aji = 1E7\n",
    "\n",
    "_Bji, _Bij = LTELib.EinsteinA_to_EinsteinBs_cm(_Aji,wave,_gi, _gj)\n",
    "_nj_by_ni = float(_gj) / float(_gi) * np.exp(-_chi/Cst.k_/_Te)\n",
    "\n",
    "_Jbar = LTELib.Planck_cm(wave,_Te)\n",
    "\n",
    "print( (_Aji + _Bji*_Jbar) * _nj_by_ni - _Bij*_Jbar )"
   ]
  },
  {
   "cell_type": "code",
   "execution_count": 276,
   "metadata": {},
   "outputs": [
    {
     "name": "stdout",
     "output_type": "stream",
     "text": [
      "wavelength : 8500[A]\n",
      "-5.820766091346741e-11\n"
     ]
    }
   ],
   "source": [
    "_lineIdx = 6\n",
    "_Te = 1E4              # [K]\n",
    "_chi = Cst.h_*atom.Line.f0[_lineIdx]  # [erg]\n",
    "_gi = atom.Level.g[ atom.Line.idxI[_lineIdx] ]\n",
    "_gj = atom.Level.g[ atom.Line.idxJ[_lineIdx] ]\n",
    "_Aji = atom.Line.AJI[_lineIdx]            # [cm^{-1}]\n",
    "\n",
    "n_LTE, ni_LTE, nj_LTE = Lib2.ni_nj_LTE(atom,Te,Ne)\n",
    "\n",
    "_w0 = Cst.h_ * Cst.c_ / _chi  # [cm]\n",
    "print(f\"wavelength : {_w0*1E8:.0f}[A]\")\n",
    "_Bji, _Bij = LTELib.EinsteinA_to_EinsteinBs_cm(_Aji,_w0,_gi, _gj)\n",
    "#_nj_by_ni = _gj / _gi * np.exp(-_chi/Cst.k_/_Te)\n",
    "#_nj_by_ni = LTELib.Boltzmann_distribution(_gi, _gj, _chi, _Te)\n",
    "\n",
    "#n_LTE, ni_LTE, nj_LTE = Lib2.ni_nj_LTE_v0(atom,_Te,_Ne)\n",
    "#_ni = ni_LTE[_lineIdx]\n",
    "#_nj = nj_LTE[_lineIdx]\n",
    "#_nj_by_ni = _nj/_ni\n",
    "#_nj_by_ni = LTELib.Boltzmann_distribution(_gi, _gj, _chi, _Te)\n",
    "_nj_by_ni = nj_by_ni_Line[_lineIdx]\n",
    "\n",
    "_Jbar = LTELib.Planck_cm(_w0,_Te)\n",
    "print((_Aji + _Bji*_Jbar) * _nj_by_ni - _Bij*_Jbar)"
   ]
  }
 ],
 "metadata": {
  "kernelspec": {
   "display_name": "Python 3",
   "language": "python",
   "name": "python3"
  },
  "language_info": {
   "codemirror_mode": {
    "name": "ipython",
    "version": 3
   },
   "file_extension": ".py",
   "mimetype": "text/x-python",
   "name": "python",
   "nbconvert_exporter": "python",
   "pygments_lexer": "ipython3",
   "version": "3.6.10"
  },
  "toc": {
   "nav_menu": {
    "height": "407px",
    "width": "200px"
   },
   "number_sections": true,
   "sideBar": true,
   "skip_h1_title": false,
   "toc_cell": false,
   "toc_position": {},
   "toc_section_display": "block",
   "toc_window_display": false
  }
 },
 "nbformat": 4,
 "nbformat_minor": 4
}
