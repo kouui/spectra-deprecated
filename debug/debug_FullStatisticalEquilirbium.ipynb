{
 "cells": [
  {
   "cell_type": "code",
   "execution_count": null,
   "metadata": {},
   "outputs": [],
   "source": [
    "import numpy as np\n",
    "import matplotlib.pyplot as plt"
   ]
  },
  {
   "cell_type": "code",
   "execution_count": null,
   "metadata": {},
   "outputs": [],
   "source": [
    "import sys\n",
    "sys.path.append(\"../\")\n",
    "from src.Structure import AtomCls, AtmosphereCls\n",
    "from src.Atomic import LTELib, ColExcite, SEsolver\n",
    "#from src.RadiativeTransfer import Thin"
   ]
  },
  {
   "cell_type": "markdown",
   "metadata": {},
   "source": [
    "---"
   ]
  },
  {
   "cell_type": "markdown",
   "metadata": {},
   "source": [
    "# steps to use an `atom` class"
   ]
  },
  {
   "cell_type": "code",
   "execution_count": null,
   "metadata": {},
   "outputs": [],
   "source": [
    "folder = \"../data/atom/Ca_II/\"\n",
    "file     = folder + \"Ca_II.Level\"\n",
    "file_Aji = folder + \"Einstein_A/Nist.Aji\"\n",
    "file_CEe = folder + \"Collisional_Excitation/RH.Electron\"\n",
    "file_CIe = folder + \"Collisional_Ionization/RH.Electron\"\n",
    "file_PI  = folder + \"Photoionization/RH.Alpha\"\n",
    "file_Rad = folder + \"Ca_II.RadiativeLine\"\n",
    "atom = AtomCls.Atom(file, _file_Aji=file_Aji, _file_CEe=file_CEe)\n",
    "atom.read_CI(_path_electron=file_CIe)\n",
    "atom.read_PI(_path_alpha=file_PI)\n",
    "atom.read_Mesh(_path=file_Rad)\n",
    "atom.make_Mesh()\n",
    "atom.read_Radiative_Line_intensity(_folder=\"../data/intensity/Ca_II/\")"
   ]
  },
  {
   "cell_type": "code",
   "execution_count": null,
   "metadata": {},
   "outputs": [],
   "source": [
    "del atom"
   ]
  },
  {
   "cell_type": "markdown",
   "metadata": {},
   "source": [
    "minimum request : \n",
    "- level information\n",
    "- Einstein Aji\n",
    "- Collisional excitation"
   ]
  },
  {
   "cell_type": "code",
   "execution_count": null,
   "metadata": {},
   "outputs": [],
   "source": [
    "folder = \"../data/atom/Ca_II/\"\n",
    "file     = folder + \"Ca_II.Level\"\n",
    "file_Aji = folder + \"Einstein_A/Nist.Aji\"\n",
    "file_CEe = folder + \"Collisional_Excitation/RH.Electron\"\n",
    "atom = AtomCls.Atom(file, _file_Aji=file_Aji, _file_CEe=file_CEe)"
   ]
  },
  {
   "cell_type": "code",
   "execution_count": null,
   "metadata": {},
   "outputs": [],
   "source": [
    "atom.Z, atom.Element"
   ]
  },
  {
   "cell_type": "markdown",
   "metadata": {},
   "source": [
    "Level information"
   ]
  },
  {
   "cell_type": "code",
   "execution_count": null,
   "metadata": {},
   "outputs": [],
   "source": [
    "atom.Level"
   ]
  },
  {
   "cell_type": "markdown",
   "metadata": {},
   "source": [
    "Line information"
   ]
  },
  {
   "cell_type": "code",
   "execution_count": null,
   "metadata": {},
   "outputs": [],
   "source": [
    "atom.Line"
   ]
  },
  {
   "cell_type": "markdown",
   "metadata": {},
   "source": [
    "Level and Line indentification (**important**)"
   ]
  },
  {
   "cell_type": "code",
   "execution_count": null,
   "metadata": {},
   "outputs": [],
   "source": [
    "atom.Level_info_table"
   ]
  },
  {
   "cell_type": "markdown",
   "metadata": {},
   "source": [
    "collisional excitation coeficient and table for interpolation"
   ]
  },
  {
   "cell_type": "code",
   "execution_count": null,
   "metadata": {},
   "outputs": [],
   "source": [
    "atom.CE_coe, atom.CE_table"
   ]
  },
  {
   "cell_type": "markdown",
   "metadata": {},
   "source": [
    "collisional ionization coeficient and table for interpolation"
   ]
  },
  {
   "cell_type": "code",
   "execution_count": null,
   "metadata": {},
   "outputs": [],
   "source": [
    "file_CIe = folder + \"Collisional_Ionization/RH.Electron\"\n",
    "atom.read_CI(_path_electron=file_CIe)"
   ]
  },
  {
   "cell_type": "code",
   "execution_count": null,
   "metadata": {},
   "outputs": [],
   "source": [
    "atom.CI_coe, atom.CI_table"
   ]
  },
  {
   "cell_type": "markdown",
   "metadata": {},
   "source": [
    "photoionization cross section and table for interpolation"
   ]
  },
  {
   "cell_type": "code",
   "execution_count": null,
   "metadata": {},
   "outputs": [],
   "source": [
    "file_PI  = folder + \"Photoionization/RH.Alpha\"\n",
    "atom.read_PI(_path_alpha=file_PI)"
   ]
  },
  {
   "cell_type": "code",
   "execution_count": null,
   "metadata": {},
   "outputs": [],
   "source": [
    "atom.PI_coe"
   ]
  },
  {
   "cell_type": "code",
   "execution_count": null,
   "metadata": {},
   "outputs": [],
   "source": [
    "atom.PI_table.shape"
   ]
  },
  {
   "cell_type": "markdown",
   "metadata": {},
   "source": [
    "read the necessary parameter to construct line mesh"
   ]
  },
  {
   "cell_type": "code",
   "execution_count": null,
   "metadata": {},
   "outputs": [],
   "source": [
    "atom.read_Mesh(_path=file_Rad)"
   ]
  },
  {
   "cell_type": "code",
   "execution_count": null,
   "metadata": {},
   "outputs": [],
   "source": [
    "atom.Mesh_coe"
   ]
  },
  {
   "cell_type": "markdown",
   "metadata": {},
   "source": [
    "construct line and continuum mesh"
   ]
  },
  {
   "cell_type": "code",
   "execution_count": null,
   "metadata": {},
   "outputs": [],
   "source": [
    "atom.make_Mesh()"
   ]
  },
  {
   "cell_type": "code",
   "execution_count": null,
   "metadata": {},
   "outputs": [],
   "source": [
    "print( \"totally \", len(atom.line_mesh_list), \" set of radiative mesh in the list\" )"
   ]
  },
  {
   "cell_type": "code",
   "execution_count": null,
   "metadata": {},
   "outputs": [],
   "source": [
    "mesh = atom.line_mesh_list[0]\n",
    "plt.plot(mesh, \"*\")"
   ]
  },
  {
   "cell_type": "code",
   "execution_count": null,
   "metadata": {},
   "outputs": [],
   "source": [
    "mesh = atom.continuum_mesh_list[0]\n",
    "plt.plot(mesh, \"*\")"
   ]
  },
  {
   "cell_type": "markdown",
   "metadata": {},
   "source": [
    "read incident background line intensity profile"
   ]
  },
  {
   "cell_type": "code",
   "execution_count": null,
   "metadata": {},
   "outputs": [],
   "source": [
    "atom.read_Radiative_Line_intensity(_folder=\"../data/intensity/Ca_II/\")"
   ]
  },
  {
   "cell_type": "code",
   "execution_count": null,
   "metadata": {},
   "outputs": [],
   "source": [
    "arr = atom.radiative_line_intensity_list[0]\n",
    "\n",
    "plt.plot(arr[0,:], arr[1,:], \"*\")"
   ]
  },
  {
   "cell_type": "markdown",
   "metadata": {},
   "source": [
    "---"
   ]
  },
  {
   "cell_type": "markdown",
   "metadata": {},
   "source": [
    "# steps to use `AtmosphereC1d` class"
   ]
  },
  {
   "cell_type": "code",
   "execution_count": null,
   "metadata": {},
   "outputs": [],
   "source": [
    "slab1d = AtmosphereCls.AtmosphereC1d(1E7) # 1E7[cm] = 100[km]\n",
    "slab1d.setUniform()\n",
    "slab1d.readBackgroundIntensity('../data/intensity/continuum/ASTM_E490+PROM7_HI_CaII.dat')"
   ]
  },
  {
   "cell_type": "markdown",
   "metadata": {},
   "source": [
    "`Mesh` is in relative scale [0,1]"
   ]
  },
  {
   "cell_type": "code",
   "execution_count": null,
   "metadata": {},
   "outputs": [],
   "source": [
    "plt.plot( slab1d.data.Mesh, '*' )"
   ]
  },
  {
   "cell_type": "code",
   "execution_count": null,
   "metadata": {},
   "outputs": [],
   "source": [
    "plt.plot( slab1d.data.Spatial, '*' )"
   ]
  },
  {
   "cell_type": "markdown",
   "metadata": {},
   "source": [
    "- `Te` : electron temperature\n",
    "- `Ne` : electron density\n",
    "- `Vt` : turbulent velocity\n",
    "- `Vd` : Doppler velocity\n",
    "- `Pg` : gas pressure"
   ]
  },
  {
   "cell_type": "code",
   "execution_count": null,
   "metadata": {},
   "outputs": [],
   "source": [
    "slab1d.data.Te # Ne, Vt, Vd, Pg"
   ]
  },
  {
   "cell_type": "markdown",
   "metadata": {},
   "source": [
    "---"
   ]
  },
  {
   "cell_type": "markdown",
   "metadata": {},
   "source": [
    "## not yet completed"
   ]
  },
  {
   "cell_type": "markdown",
   "metadata": {},
   "source": [
    "solve Full Statistical Equilirbium at a single depth point"
   ]
  },
  {
   "cell_type": "code",
   "execution_count": null,
   "metadata": {
    "code_folding": [
     0
    ]
   },
   "outputs": [],
   "source": [
    "def one_depth(_atom, _Te, _Ne, _Vt, _Vd):\n",
    "    r\"\"\"\n",
    "    calculate the \n",
    "        - LTE population\n",
    "        - SE population (SE : Statistical Equilibrium)\n",
    "        - SE population of the upper level of each transition\n",
    "        - C and R matrice while solving SE\n",
    "        - optically thin relative flux (some constants are removed)\n",
    "\n",
    "    Parameters\n",
    "    ----------\n",
    "\n",
    "    _atom  : AtomCls.Atom() object\n",
    "        atomic model data structure,\n",
    "        number of Levels : _atom.nLevel\n",
    "        number of Line transitions : _atom.nLine\n",
    "        \n",
    "    _Te  : scalar variable (np.float, np.double and so on)\n",
    "        electron temperature, [:math:`K`]\n",
    "        \n",
    "    _Ne : scalar variable (np.float, np.double and so on)\n",
    "        electron density, [:math:`cm^{-3}`]\n",
    "\n",
    "    Returns\n",
    "    -------\n",
    "\n",
    "    _n_LTE : np.double, np.array with shape (_atom.nLevel,)\n",
    "        Normalized LTE level population.\n",
    "        :math:`rt = n_j / n_i`, [-]\n",
    "    \n",
    "    _n_SE : np.double, np.array with shape (_atom.nLevel,)\n",
    "        Normalized level population under statistical equilibrium.\n",
    "        \n",
    "    _nj_SE : np.double, np.array with shape (_atom.nLine)\n",
    "        Normalized level population under statistical equilibrium \n",
    "        of the upper levels of each line transition.\n",
    "        \n",
    "    _Cmat : np.double, np.array with shape (_atom.nLevel, _atom.nLevel)\n",
    "        C matrix (Collisional related) in solving statistical equilibrium equations.\n",
    "        \n",
    "    _Rmat : np.double, np.array with shape (_atom.nLevel, _atom.nLevel)\n",
    "        R matrix (Radiative related) in solving statistical equilibrium equations.\n",
    "        \n",
    "    _rel_flux : np.double, np.array with shape (_atom.nLine,)\n",
    "        relative flux under the assumption of optically thin. \n",
    "        :math:`h \\nu n_{j} A_{ji}`, [:math:`erg \\; cm^{-3} \\; s^{-1}`]\n",
    "        \n",
    "    Notes\n",
    "    -----\n",
    "\n",
    "    The Statistical equilibrium equations [1]_.\n",
    "    \n",
    "    .. math:: \\bm{A} \\times \\bm{n} = \\bm{b}\n",
    "    \n",
    "    .. math:: \\bm{b} = (0,0,0,...,1)^{T}\n",
    "    \n",
    "    .. math:: A_{ii} = \\sum_{j \\neq i} (R_{ij} + C_{ij})\n",
    "    \n",
    "    .. math:: A_{ij} = -(R_{ji} + C_{ji}) \\quad j \\neq i, \\; i \\neq -1\n",
    "    \n",
    "    .. math:: A_{-1,j} = 1\n",
    "    \n",
    "    \n",
    "    The absolute flux under the assumption of optically thin [2]_.\n",
    "    \n",
    "    .. math:: F_{ji} = \\frac{1}{4 \\pi R^{2}} \\int_{\\Delta V} \\epsilon_{ji} dV \\quad [erg \\; cm^{-2} \\; s^{-1}]\n",
    "    \n",
    "    where the emissivity :math:`\\epsilon_{ji}` is\n",
    "    \n",
    "    .. math:: \\epsilon_{ji} = h \\nu n_{j} A_{ji} \\quad [erg \\; cm^{-3} \\; s^{-1}]\n",
    "    \n",
    "    and \n",
    "    \n",
    "    .. math:: \\epsilon_{ji} = \\int_{\\nu} \\epsilon_{\\nu} d \\nu = \\int_{\\nu} h \\nu n_{j} A_{ji} \\psi d \\nu\n",
    "    \n",
    "    References\n",
    "    ----------\n",
    "\n",
    "    .. [1] Ivan Hubeny, Dimitri Mihalas, \"Theory of Stellar Atmosphere:\n",
    "        An Introduction to Astrophysical Non-equilibrium\n",
    "        Quantitative Spectroscopic Analysis\",\n",
    "        Princeton University Press, pp. 283, 2015.\n",
    "        \n",
    "    .. [2] John T. Mariska, \"The Solar Transition Region\", \n",
    "        Cambridge University Press, pp. 19, 1992\n",
    "        \n",
    "    Examples\n",
    "    --------\n",
    "        \n",
    "        >>> from src import AtomCls, LTELib, ColExcite, SEsolver, OpticallyThin\n",
    "        >>> file = \"/path/to/C_III_Be_like.txt\"\n",
    "        >>> atom = AtomCls.Atom(file)\n",
    "        >>> n_LTE, n_SE, nj_SE, Cmat, Rmat, rel_flux = main_func(_atom=atom, _Te=3E+04, _Ne=1E+10)\n",
    "    \n",
    "    \"\"\"\n",
    "    #--- \n",
    "    # compute LTE population ratio for each CE transition\n",
    "    #---\n",
    "    \n",
    "    _n_LTE = LTELib.get_LTE_ratio(_erg=_atom.Level.erg[:], _g=_atom.Level.g[:],\n",
    "                                  _stage=_atom.Level.stage[:], _Te=_Te, _Ne=_Ne)\n",
    "    \n",
    "    #--- \n",
    "    # we are going to use LTE population ratio to convert C_{ij} to C_{ji},\n",
    "    # so we need the the LTE population of the lower/upper level of each transition\n",
    "    #---\n",
    "    _nTran = _atom.nLine\n",
    "    _ni_LTE = np.empty(_nTran, dtype=np.double)\n",
    "    _nj_LTE = np.empty(_nTran, dtype=np.double)\n",
    "    \n",
    "    for k in range(_nTran):\n",
    "        _ni_LTE[k] = _n_LTE[_atom.CE_coe.idxI[k]]\n",
    "        _nj_LTE[k] = _n_LTE[_atom.CE_coe.idxJ[k]]\n",
    "    \n",
    "        \n",
    "    #--- \n",
    "    # compute collision excitation/de-excitation rate coefficient\n",
    "    #---\n",
    "    \n",
    "    _CE_fac = ColExcite.interpolate_CE_fac(_table=atom.CE_table[:,:], _Te=_Te, \n",
    "                                           _Te_table=_atom.CE_Te_table[:], \n",
    "                                           _f1=_atom.CE_coe.f1[:], _f2=_atom.CE_coe.f2[:])\n",
    "    \n",
    "    _CEij = ColExcite.get_CE_rate_coe(_CE_fac=_CE_fac, _Te=_Te, _gi=_atom.CE_coe.gi[:],\n",
    "                                      _dEij=_atom.CE_coe.dEij[:], _type=_atom.CE_type)\n",
    "\n",
    "    _CEji = ColExcite.Cij_to_Cji(_Cij=_CEij,  _ni_LTE=_ni_LTE, _nj_LTE=_nj_LTE)\n",
    "    \n",
    "    #--- \n",
    "    # compute collision ionization rate coefficient\n",
    "    #---\n",
    "    \n",
    "    \n",
    "    #---\n",
    "    # solve SE equations under the assumption of \"Corona equilibrium\"\n",
    "    # that is, mean intensity = 0\n",
    "    #---\n",
    "    \n",
    "    #_nLevel = _atom.nLevel\n",
    "    \n",
    "    #_Cmat = np.zeros((_nLevel, _nLevel), dtype=np.double)\n",
    "    #SEsolver.setMatrixC(_Cmat=_Cmat[:,:], _Cji=_CEji[:], _Cij=_CEij[:],\n",
    "    #                    _idxI=_atom.CE_coe.idxI[:], _idxJ=_atom.CE_coe.idxJ[:], _Ne=_Ne)\n",
    "    \n",
    "    #_Rmat     = np.zeros((_nLevel, _nLevel), dtype=np.double)\n",
    "    #_Rji_stim = np.zeros(_atom.Line.AJI[:].shape, dtype=np.double)\n",
    "    #_Rij      = np.zeros(_atom.Line.AJI[:].shape, dtype=np.double)\n",
    "    #SEsolver.setMatrixR(_Rmat=_Rmat[:,:], _Rji_spon=_atom.Line.AJI[:],\n",
    "    #                    _Rji_stim=_Rji_stim[:], _Rij=_Rij, \n",
    "    #                    _idxI=_atom.Line.idxI[:], _idxJ=_atom.Line.idxJ[:])\n",
    "\n",
    "    #_n_SE = SEsolver.solveSE(_Rmat=_Rmat[:,:], _Cmat=_Cmat[:,:])\n",
    "    \n",
    "    #---\n",
    "    # compute relative flux for each transition\n",
    "    #---\n",
    "    #_nj_SE = np.empty(_nTran, dtype=np.double)\n",
    "    #for k in range(_nTran):\n",
    "    #    _nj_SE[k] = _n_SE[_atom.CE_coe.idxJ[k]]\n",
    "    \n",
    "    #_rel_flux = Thin.get_relative_flux(_AJI=_atom.Line.AJI[:], \n",
    "    #                                   _f0=_atom.Line.f0[:], _nj=_nj_SE[:])\n",
    "    \n",
    "    #return _n_LTE, _n_SE, _nj_SE, _Cmat, _Rmat, _rel_flux \n",
    "\n"
   ]
  },
  {
   "cell_type": "code",
   "execution_count": null,
   "metadata": {},
   "outputs": [],
   "source": [
    "z = 0\n",
    "one_depth(_atom=atom, \n",
    "          _Te=slab1d.data.Te[z],_Ne=slab1d.data.Ne[z],\n",
    "          _Vt=slab1d.data.Vt[z], _Vd=slab1d.data.Vd[z])"
   ]
  }
 ],
 "metadata": {
  "kernelspec": {
   "display_name": "Python 3",
   "language": "python",
   "name": "python3"
  },
  "language_info": {
   "codemirror_mode": {
    "name": "ipython",
    "version": 3
   },
   "file_extension": ".py",
   "mimetype": "text/x-python",
   "name": "python",
   "nbconvert_exporter": "python",
   "pygments_lexer": "ipython3",
   "version": "3.6.7"
  },
  "toc": {
   "nav_menu": {},
   "number_sections": true,
   "sideBar": true,
   "skip_h1_title": false,
   "toc_cell": false,
   "toc_position": {},
   "toc_section_display": "block",
   "toc_window_display": false
  }
 },
 "nbformat": 4,
 "nbformat_minor": 2
}
