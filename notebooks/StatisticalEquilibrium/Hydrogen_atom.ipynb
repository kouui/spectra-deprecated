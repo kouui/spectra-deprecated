{
 "cells": [
  {
   "cell_type": "code",
   "execution_count": null,
   "metadata": {},
   "outputs": [],
   "source": [
    "from IPython.core.display import display, HTML\n",
    "display(HTML(\"<style>.container { width:95% !important; }</style>\"))"
   ]
  },
  {
   "cell_type": "code",
   "execution_count": 2,
   "metadata": {},
   "outputs": [],
   "source": [
    "import numpy as np\n",
    "\n",
    "%matplotlib inline\n",
    "#%matplotlib tk\n",
    "import matplotlib.pyplot as plt\n",
    "from matplotlib.colors import LogNorm"
   ]
  },
  {
   "cell_type": "code",
   "execution_count": 7,
   "metadata": {},
   "outputs": [
    {
     "name": "stdout",
     "output_type": "stream",
     "text": [
      "The autoreload extension is already loaded. To reload it, use:\n",
      "  %reload_ext autoreload\n"
     ]
    }
   ],
   "source": [
    "import sys\n",
    "sys.path.append(\"../../\")\n",
    "\n",
    "%load_ext autoreload\n",
    "%autoreload 2\n",
    "\n",
    "from src.Structure import AtomCls\n",
    "from src.Atomic import Collision, SEsolver\n",
    "\n",
    "from src.Util import Class\n",
    "\n",
    "from src.Visual import Grotrian, Plotting\n",
    "\n",
    "import src.Constants as Cst\n",
    "from src.Atomic import LTELib\n",
    "\n",
    "from src.Function.StatisticalEquilibrium import LibClass as SELib\n",
    "from src.Function.StatisticalEquilibrium import LibArray\n",
    "\n",
    "from src.Atomic import Hydrogen"
   ]
  },
  {
   "cell_type": "markdown",
   "metadata": {},
   "source": [
    "---"
   ]
  },
  {
   "cell_type": "code",
   "execution_count": 8,
   "metadata": {},
   "outputs": [],
   "source": [
    "atom, paths = AtomCls.InitAtom(\"../../data/conf/H.conf\", isHydrogen=True)"
   ]
  },
  {
   "cell_type": "markdown",
   "metadata": {},
   "source": [
    "---"
   ]
  },
  {
   "cell_type": "markdown",
   "metadata": {},
   "source": [
    "---"
   ]
  },
  {
   "cell_type": "markdown",
   "metadata": {},
   "source": [
    "## Einstein `Aji` coeficient"
   ]
  },
  {
   "cell_type": "markdown",
   "metadata": {},
   "source": [
    "fitting formula form *Johnson1972* v.s. NIST data"
   ]
  },
  {
   "cell_type": "code",
   "execution_count": null,
   "metadata": {},
   "outputs": [],
   "source": [
    "ni_arr = atom.Line.idxI[:] + 1\n",
    "nj_arr = atom.Line.idxJ[:] + 1\n",
    "Aji = Hydrogen.Einstein_A_coefficient(ni_arr, nj_arr)\n",
    "\n",
    "fig, ax = plt.subplots(1,1, figsize=(6,3), dpi=100)\n",
    "ax.plot( Aji[:], 'o', markersize=4, label=\"calculation\")\n",
    "ax.plot( atom.Line.AJI[:], label=\"NIST\" )\n",
    "\n",
    "ax.legend(loc=\"best\")\n",
    "ax.set_yscale(\"log\")\n",
    "ax.set_title(\"Johnson1972\")\n",
    "ax.set_ylabel(\"$A_{ji} \\; [s^{-1}]$\")\n",
    "plt.show()"
   ]
  },
  {
   "cell_type": "markdown",
   "metadata": {},
   "source": [
    "## Collisional Excitation rate coefficient"
   ]
  },
  {
   "cell_type": "markdown",
   "metadata": {},
   "source": [
    "fitting formula from *Johnson1972*"
   ]
  },
  {
   "cell_type": "code",
   "execution_count": null,
   "metadata": {},
   "outputs": [],
   "source": [
    "fig, ax = plt.subplots(1,1, figsize=(6,3), dpi=100)\n",
    "\n",
    "n = 21\n",
    "Te = np.logspace(3.8, 6, n)\n",
    "Ne = 1E11\n",
    "\n",
    "k = 6\n",
    "ni = 1\n",
    "for nj in range(ni+1, k+1):\n",
    "    Cij = Hydrogen.CE_rate_coe(ni,nj,Te)\n",
    "    ax.plot( Te, Ne*Cij, '--o', markersize=4, label=f\"ni={ni}-->nj={nj}\" )\n",
    "\n",
    "ax.legend(loc=\"best\")\n",
    "ax.set_xscale(\"log\")\n",
    "ax.set_yscale(\"log\")\n",
    "\n",
    "ax.set_xlabel(\"$T_{e} \\; [K]$\")\n",
    "\n",
    "ax.set_title(\"Johnson1972\")\n",
    "ax.set_ylabel(\"$N_{e}C_{ij} \\; [s^{-1}]$\")\n",
    "plt.show()"
   ]
  },
  {
   "cell_type": "markdown",
   "metadata": {},
   "source": [
    "## Collisional ionization rate coefficient"
   ]
  },
  {
   "cell_type": "markdown",
   "metadata": {},
   "source": [
    "fitting formula from *Johnson1972* and *Clark+1991*"
   ]
  },
  {
   "cell_type": "code",
   "execution_count": null,
   "metadata": {},
   "outputs": [],
   "source": [
    "fig, axs = plt.subplots(1,2, figsize=(8,3), dpi=100, sharey=True)\n",
    "\n",
    "n = 21\n",
    "Te = np.logspace(3.8, 6, n)\n",
    "Ne = 1E11\n",
    "\n",
    "k = 6\n",
    "\n",
    "functions = {\n",
    "    \"Johnson1972\" : Hydrogen.CI_rate_coe,\n",
    "    \"Clark+1991\"  : Hydrogen.CI_rate_coe_Clark,\n",
    "}\n",
    "\n",
    "for i, name in enumerate(functions.keys()):\n",
    "    ax = axs[i]\n",
    "    for ni in range(1, k+1):\n",
    "        Cik = functions[name](ni,Te)\n",
    "        ax.plot( Te, Ne*Cik, '--o', markersize=4, label=f\"ni={ni}-->nj={nj}\" )\n",
    "        ax.legend(loc=\"best\")\n",
    "        ax.set_xscale(\"log\")\n",
    "        ax.set_yscale(\"log\")\n",
    "        ax.set_title(name)\n",
    "        ax.set_ylabel( \"$N_{e}C_{ik} \\; [s^{-1}]$\" ) if i==0 else None\n",
    "        ax.set_xlabel( \"$T_{e} \\; [K]$\" )\n",
    "\n",
    "plt.show()"
   ]
  },
  {
   "cell_type": "markdown",
   "metadata": {},
   "source": [
    "**let's use *Johnson1972* version**"
   ]
  },
  {
   "cell_type": "markdown",
   "metadata": {},
   "source": [
    "## bound-free Gaunt factor"
   ]
  },
  {
   "cell_type": "markdown",
   "metadata": {},
   "source": [
    "fitting formula from *Johnson1972* and *Gingerich+1991*"
   ]
  },
  {
   "cell_type": "code",
   "execution_count": null,
   "metadata": {},
   "outputs": [],
   "source": [
    "x = np.linspace(1, 2, 11)\n",
    "\n",
    "fig, axs = plt.subplots(1,2, figsize=(8,3), dpi=100, sharey=True)\n",
    "\n",
    "functions = {\n",
    "    \"Johnson1972\" : Hydrogen.Gaunt_factor,\n",
    "    \"Gingerich+1991\"  : Hydrogen.Gaunt_factor_Gingerich,\n",
    "}\n",
    "\n",
    "for i, name in enumerate(functions.keys()):\n",
    "    ax = axs[i]\n",
    "    for ni in range(1,8):\n",
    "        g = functions[name](ni, x)\n",
    "        ax.plot( x, g, '--o', markersize=3, label=f\"ni={ni}\" )\n",
    "        ax.legend(loc='best')\n",
    "        ax.set_title(name)\n",
    "        ax.set_xlabel(\"$E_{transition}/E_{ik}$\")\n",
    "        ax.set_ylabel(\"bound-free Gaunt factor\") if i==0 else None\n",
    "\n",
    "\n",
    "plt.show()"
   ]
  },
  {
   "cell_type": "markdown",
   "metadata": {},
   "source": [
    "**let's use *Johnson1972* version**"
   ]
  },
  {
   "cell_type": "markdown",
   "metadata": {},
   "source": [
    "## photoionization cross section"
   ]
  },
  {
   "cell_type": "markdown",
   "metadata": {},
   "source": [
    "fitting formula from *Johnson1972*"
   ]
  },
  {
   "cell_type": "code",
   "execution_count": null,
   "metadata": {},
   "outputs": [],
   "source": [
    "x = np.linspace(1, 2, 11)\n",
    "\n",
    "fig, ax = plt.subplots(1,1, figsize=(6,3), dpi=100)\n",
    "\n",
    "functions = {\n",
    "    \"Photoionization cross section\" : Hydrogen.PI_cross_section,\n",
    "}\n",
    "\n",
    "for i, name in enumerate(functions.keys()):\n",
    "    for ni in range(1,8):\n",
    "        alpha = functions[name](ni, x, 1)\n",
    "        ax.plot( x, alpha, '--o', markersize=3, label=f\"ni={ni}\" )\n",
    "        ax.legend(loc='best')\n",
    "        ax.set_title(name)\n",
    "        ax.set_ylabel(\"$\\\\alpha \\; [cm^{2}]$\")\n",
    "        ax.set_xlabel(\"$E_{transition}/E_{ik}$\")\n",
    "\n",
    "\n",
    "plt.show()"
   ]
  },
  {
   "cell_type": "markdown",
   "metadata": {},
   "source": [
    "## Spontaneous radiative recombination"
   ]
  },
  {
   "cell_type": "markdown",
   "metadata": {},
   "source": [
    "fitting formula from *Johnson1972* v.s. integration using the photoionization cross section above"
   ]
  },
  {
   "cell_type": "code",
   "execution_count": null,
   "metadata": {},
   "outputs": [],
   "source": [
    "fig, axs = plt.subplots(1,2, figsize=(8,3), dpi=100, sharey=True)\n",
    "\n",
    "n = 21\n",
    "#Te = np.logspace(3.8, 6, n)\n",
    "Te = np.linspace(6000, 2E4, n)\n",
    "Ne = 1E10\n",
    "\n",
    "for ni in range(1, 8):\n",
    "    RCki = Hydrogen.Rki_spon_rate_coe(ni,Te)\n",
    "    ax.plot( Te, Ne*RCki, '--o', markersize=4, label=f\"continuum-->ni={ni}\" )\n",
    "    ax.legend(loc=\"best\")\n",
    "\n",
    "Tr = 6E3\n",
    "\n",
    "Rki_spon_arr = []\n",
    "for t in range(Te.shape[0]):\n",
    "    n_LTE , nj_by_ni_Line, nj_by_ni_Cont = SELib.ni_nj_LTE(atom, Te[t], Ne)\n",
    "    Rik, Rki_stim, Rki_spon = SELib.bf_R_rate(atom, Te[t], nj_by_ni_Cont, _Tr=Tr)\n",
    "    Rki_spon_arr.append( Rki_spon )\n",
    "Rki_spon_arr = np.array( Rki_spon_arr )\n",
    "\n",
    "ax = axs[1]\n",
    "for ni in range(1, 8):\n",
    "    ax.plot( Te, Rki_spon_arr[:,ni-1], '--o', markersize=4, label=f\"continuum-->ni={ni}\" )\n",
    "    ax.legend(loc=\"best\")\n",
    "    ax.set_yscale(\"log\")\n",
    "    ax.set_title(\"Integration\")\n",
    "\n",
    "\n",
    "ax = axs[0]\n",
    "for ni in range(1, 8):\n",
    "    RCki = Hydrogen.Rki_spon_rate_coe(ni,Te)\n",
    "    ax.plot( Te, Ne*RCki, '--o', markersize=4, label=f\"continuum-->ni={ni}\" )\n",
    "    ax.legend(loc=\"best\")\n",
    "    ax.set_yscale(\"log\")\n",
    "    ax.set_title(\"Johnson1972\")\n",
    "\n",
    "#ax.set_xscale(\"log\")\n",
    "ax.set_yscale(\"log\")\n",
    "\n",
    "ax.set_xlabel(\"$T_{e} \\; [K]$\")\n",
    "ax.set_ylabel(\"$R_{ki}^{spon} \\; [s^{-1}]$\")\n",
    "plt.show()"
   ]
  },
  {
   "cell_type": "markdown",
   "metadata": {},
   "source": [
    "**let's use integration of photoionization cross section**"
   ]
  },
  {
   "cell_type": "markdown",
   "metadata": {},
   "source": [
    "## Statictical Equilibrium"
   ]
  },
  {
   "cell_type": "markdown",
   "metadata": {},
   "source": [
    "with $Planck(T_{r})$ as background radiatoin"
   ]
  },
  {
   "cell_type": "code",
   "execution_count": 9,
   "metadata": {},
   "outputs": [],
   "source": [
    "Te = 1E4\n",
    "Ne = 1E11\n",
    "Tr = 6E3\n",
    "\n",
    "# n_LTE : LTE population (summed up to 1)\n",
    "# nj_by_ni_Line : nj/ni for line transitions\n",
    "# nj_by_ni_Cont : nj/ni for Continuum transitions\n",
    "n_LTE , nj_by_ni_Line, nj_by_ni_Cont = SELib.ni_nj_LTE(atom, Te, Ne)\n",
    "\n",
    "Rik, Rki_stim, Rki_spon = SELib.bf_R_rate(atom, Te, nj_by_ni_Cont, _Tr=Tr)\n",
    "Bij_Jbar, Bji_Jbar = SELib.B_Jbar(atom, _Tr=Tr)\n",
    "\n",
    "##  ij : ij + ik\n",
    "Cij = SELib.get_Cij(atom, Te)\n",
    "Cji = Collision.Cij_to_Cji( Cij, np.append(nj_by_ni_Line,nj_by_ni_Cont) )\n",
    "\n",
    "n_SE = SELib.solve_SE(atom, \n",
    "                     Ne, Cji, Cij, \n",
    "                     Bji_Jbar, Bij_Jbar, \n",
    "                     Rki_spon, Rki_stim, Rik)"
   ]
  },
  {
   "cell_type": "code",
   "execution_count": 10,
   "metadata": {},
   "outputs": [
    {
     "name": "stdout",
     "output_type": "stream",
     "text": [
      "Electron temperature  = 1.0E+04\n",
      "Electron density      = 1.0E+11\n",
      "Radiation temperature = 6.0E+03\n",
      "-----------------------------------\n",
      "SE  :\n",
      "9.4228E-01  1.0273E-08  6.0100E-10  2.8654E-10  2.2785E-10  2.1261E-10  2.1712E-10  2.4055E-10  5.7717E-02  \n",
      "LTE :\n",
      "2.9534E-04  8.5584E-09  2.1514E-09  1.7761E-09  1.9457E-09  2.3104E-09  2.7994E-09  3.3906E-09  9.9970E-01  "
     ]
    }
   ],
   "source": [
    "print(f\"Electron temperature  = {Te:.1E}\")\n",
    "print(f\"Electron density      = {Ne:.1E}\")\n",
    "print(f\"Radiation temperature = {Tr:.1E}\")\n",
    "print('-'*35)\n",
    "print(\"SE  :\")\n",
    "for v in n_SE:\n",
    "    print(f\"{v:.4E}\",end=\"  \")\n",
    "print(f\"\\nLTE :\")\n",
    "for v in n_LTE:\n",
    "    print(f\"{v:.4E}\",end=\"  \")"
   ]
  },
  {
   "cell_type": "markdown",
   "metadata": {},
   "source": [
    "## Ionization fraction v.s. Electron temperature"
   ]
  },
  {
   "cell_type": "code",
   "execution_count": 11,
   "metadata": {},
   "outputs": [],
   "source": [
    "nTe = 51\n",
    "Te = np.linspace(3E3, 2E4, nTe)\n",
    "\n",
    "Ne = 1E10\n",
    "Tr = 6E3\n",
    "\n",
    "eta = {\n",
    "    \"LTE\": np.zeros(nTe),\n",
    "    \"SE\" : np.zeros(nTe),\n",
    "}\n",
    "\n",
    "for k in range(nTe):\n",
    "    n_LTE , nj_by_ni_Line, nj_by_ni_Cont = SELib.ni_nj_LTE(atom, Te[k], Ne)\n",
    "\n",
    "    Rik, Rki_stim, Rki_spon = SELib.bf_R_rate(atom, Te[k], nj_by_ni_Cont, _Tr=Tr)\n",
    "    Bij_Jbar, Bji_Jbar = SELib.B_Jbar(atom, _Tr=Tr)\n",
    "\n",
    "    ##  ij : ij + ik\n",
    "    Cij = SELib.get_Cij(atom, Te[k])\n",
    "    Cji = Collision.Cij_to_Cji( Cij, np.append(nj_by_ni_Line,nj_by_ni_Cont) )\n",
    "\n",
    "    n_SE = SELib.solve_SE(atom, \n",
    "                         Ne, Cji, Cij, \n",
    "                         Bji_Jbar, Bij_Jbar, \n",
    "                         Rki_spon, Rki_stim, Rik)\n",
    "    \n",
    "    eta[\"LTE\"][k] = n_LTE[-1] / n_LTE[:].sum()\n",
    "    eta[\"SE\"][k] = n_SE[-1] / n_SE[:].sum()"
   ]
  },
  {
   "cell_type": "code",
   "execution_count": 12,
   "metadata": {},
   "outputs": [
    {
     "data": {
      "image/png": "[encoded data removed]",
      "text/plain": [
       "<Figure size 720x360 with 1 Axes>"
      ]
     },
     "metadata": {
      "needs_background": "light"
     },
     "output_type": "display_data"
    }
   ],
   "source": [
    "fig, ax = plt.subplots(1,1, figsize=(6,3), dpi=120)\n",
    "\n",
    "for i, name in enumerate(eta.keys()):\n",
    "    ax.plot(Te[:], eta[name][:], '--o', markersize=3, label=name)\n",
    "    \n",
    "ax.set_xlabel(\"$T_{e} \\; [K]$\")\n",
    "ax.set_ylabel(\"$ n_{H\\, II} \\; / \\; n_{H} $\")\n",
    "ax.legend(loc=\"best\")\n",
    "ax.set_title(\"ionization fraction v.s. eletron temperature\")\n",
    "plt.show()"
   ]
  },
  {
   "cell_type": "markdown",
   "metadata": {},
   "source": [
    "## Ionization fraction v.s. Electron density"
   ]
  },
  {
   "cell_type": "code",
   "execution_count": 13,
   "metadata": {},
   "outputs": [],
   "source": [
    "Te = 8E3\n",
    "nNe = 51\n",
    "Ne = np.logspace(8,15, nNe)\n",
    "Tr = 6E3\n",
    "\n",
    "eta = {\n",
    "    \"LTE\": np.zeros(nNe),\n",
    "    \"SE\" : np.zeros(nNe),\n",
    "}\n",
    "\n",
    "for k in range(nNe):\n",
    "    n_LTE , nj_by_ni_Line, nj_by_ni_Cont = SELib.ni_nj_LTE(atom, Te, Ne[k])\n",
    "\n",
    "    Rik, Rki_stim, Rki_spon = SELib.bf_R_rate(atom, Te, nj_by_ni_Cont, _Tr=Tr)\n",
    "    Bij_Jbar, Bji_Jbar = SELib.B_Jbar(atom, _Tr=Tr)\n",
    "\n",
    "    ##  ij : ij + ik\n",
    "    Cij = SELib.get_Cij(atom, Te)\n",
    "    Cji = Collision.Cij_to_Cji( Cij, np.append(nj_by_ni_Line,nj_by_ni_Cont) )\n",
    "\n",
    "    n_SE = SELib.solve_SE(atom, \n",
    "                         Ne[k], Cji, Cij, \n",
    "                         Bji_Jbar, Bij_Jbar, \n",
    "                         Rki_spon, Rki_stim, Rik)\n",
    "    \n",
    "    eta[\"LTE\"][k] = n_LTE[-1] / n_LTE[:].sum()\n",
    "    eta[\"SE\"][k] = n_SE[-1] / n_SE[:].sum()"
   ]
  },
  {
   "cell_type": "code",
   "execution_count": 14,
   "metadata": {},
   "outputs": [
    {
     "data": {
      "image/png": "[encoded data removed]",
      "text/plain": [
       "<Figure size 720x360 with 1 Axes>"
      ]
     },
     "metadata": {
      "needs_background": "light"
     },
     "output_type": "display_data"
    }
   ],
   "source": [
    "fig, ax = plt.subplots(1,1, figsize=(6,3), dpi=120)\n",
    "\n",
    "for i, name in enumerate(eta.keys()):\n",
    "    ax.plot(Ne[:], eta[name][:], '--o', markersize=3, label=name)\n",
    "    \n",
    "ax.set_xlabel(\"$N_{e} \\; [cm^{-3}]$\")\n",
    "ax.set_ylabel(\"$ n_{H\\, II} \\; / \\; n_{H} $\")\n",
    "ax.legend(loc=\"best\")\n",
    "ax.set_xscale('log')\n",
    "ax.set_title(\"ionization fraction v.s. eletron density\")\n",
    "plt.show()"
   ]
  },
  {
   "cell_type": "markdown",
   "metadata": {},
   "source": [
    "## ionization fraction ($T_{e},N_{e}$)"
   ]
  },
  {
   "cell_type": "code",
   "execution_count": 15,
   "metadata": {},
   "outputs": [],
   "source": [
    "nTe = 61\n",
    "Te = np.linspace(5E3, 2E4, nTe)\n",
    "nNe = 61\n",
    "Ne = np.logspace(8,14, nNe)\n",
    "Tr = 6E3\n",
    "\n",
    "eta = {\n",
    "    \"Local Termal Equil.\": np.zeros((nNe,nTe)),\n",
    "    \"Statistical Equil.\" : np.zeros((nNe,nTe)),\n",
    "    \"Coronal Equil.\" : np.zeros((nNe,nTe)),\n",
    "}\n",
    "\n",
    "for nn in range(nNe):\n",
    "    for nt in range(nTe):\n",
    "        n_LTE , nj_by_ni_Line, nj_by_ni_Cont = SELib.ni_nj_LTE(atom, Te[nt], Ne[nn])\n",
    "\n",
    "        Rik, Rki_stim, Rki_spon = SELib.bf_R_rate(atom, Te[nt], nj_by_ni_Cont, _Tr=Tr)\n",
    "        Bij_Jbar, Bji_Jbar = SELib.B_Jbar(atom, _Tr=Tr)\n",
    "\n",
    "        ##  ij : ij + ik\n",
    "        Cij = SELib.get_Cij(atom, Te[nt])\n",
    "        Cji = Collision.Cij_to_Cji( Cij, np.append(nj_by_ni_Line,nj_by_ni_Cont) )\n",
    "\n",
    "        n_SE = SELib.solve_SE(atom, \n",
    "                             Ne[nn], Cji, Cij, \n",
    "                             Bji_Jbar, Bij_Jbar, \n",
    "                             Rki_spon, Rki_stim, Rik)\n",
    "\n",
    "        eta[\"Local Termal Equil.\"][nn,nt] = n_LTE[-1] / n_LTE[:].sum()\n",
    "        eta[\"Statistical Equil.\"][nn,nt] = n_SE[-1] / n_SE[:].sum()\n",
    "        \n",
    "        ##-- Coronal Equilibrium\n",
    "        Bji_Jbar[:] = 0\n",
    "        Bij_Jbar[:] = 0\n",
    "        Rki_stim[:] = 0\n",
    "        Rik[:]      = 0\n",
    "        n_CE = SELib.solve_SE(atom, \n",
    "                             Ne[nn], Cji, Cij, \n",
    "                             Bji_Jbar, Bij_Jbar, \n",
    "                             Rki_spon, Rki_stim, Rik)\n",
    "        eta[\"Coronal Equil.\"][nn,nt] = n_CE[-1] / n_CE[:].sum()"
   ]
  },
  {
   "cell_type": "code",
   "execution_count": 16,
   "metadata": {},
   "outputs": [
    {
     "data": {
      "image/png": "[encoded data removed]",
      "text/plain": [
       "<Figure size 1500x450 with 4 Axes>"
      ]
     },
     "metadata": {
      "needs_background": "light"
     },
     "output_type": "display_data"
    }
   ],
   "source": [
    "fig, axs = plt.subplots(1,3, figsize=(10,3), dpi=150)\n",
    "plt.subplots_adjust(wspace=0.03)\n",
    "\n",
    "for ax, name in zip( axs, eta.keys() ):\n",
    "    im = ax.imshow(eta[name][:,:], cmap=\"inferno\", origin=\"lower\", vmin=1.E-9, vmax=1.)\n",
    "    \n",
    "    Plotting.set_imshow_ticks(ax, Te, axis='x',points=4, fmt='%1.0f',rot=0)\n",
    "    Plotting.set_imshow_ticks(ax, np.log10(Ne), axis='y',points=4, fmt='%1.0f',rot=0)\n",
    "    ax.set_title(\"$ n_{H\\, II} \\; / \\; n_{H} $\" + f\"  {name}\")\n",
    "\n",
    "axs[0].set_ylabel(\"$N_{e} \\; [cm^{-3}]$\")\n",
    "axs[0].set_xlabel(\"$T_{e} \\; [K]$\")\n",
    "Plotting.remove_tick_ticklabel(axs[1],axs[2], kind='xy')\n",
    "\n",
    "cax = fig.add_axes([0.45,0.07,0.4,0.02])\n",
    "fig.colorbar(im, cax=cax, orientation=\"horizontal\")\n",
    "\n",
    "plt.show()"
   ]
  },
  {
   "cell_type": "markdown",
   "metadata": {},
   "source": [
    "---"
   ]
  },
  {
   "cell_type": "markdown",
   "metadata": {},
   "source": [
    "## Grotrian Plots"
   ]
  },
  {
   "cell_type": "markdown",
   "metadata": {},
   "source": [
    "solve statistical equilibrium"
   ]
  },
  {
   "cell_type": "code",
   "execution_count": null,
   "metadata": {},
   "outputs": [],
   "source": [
    "Te = 8E3\n",
    "Ne = 1E12\n",
    "Tr = 6E3\n",
    "\n",
    "#--------------\n",
    "n_LTE , nj_by_ni_Line_LTE, nj_by_ni_Cont_LTE = SELib.ni_nj_LTE(atom, Te, Ne)\n",
    "nj_by_ni_LTE = np.append(nj_by_ni_Line_LTE,nj_by_ni_Cont_LTE)\n",
    "\n",
    "Rik, Rki_stim, Rki_spon = SELib.bf_R_rate(atom, Te, nj_by_ni_Cont_LTE, _Tr=Tr)\n",
    "Bij_Jbar, Bji_Jbar = SELib.B_Jbar(atom, _Tr=Tr)\n",
    "Cij = SELib.get_Cij(atom, Te)\n",
    "Cji = Collision.Cij_to_Cji( Cij, nj_by_ni_LTE )\n",
    "\n",
    "n_SE = SELib.solve_SE(atom, \n",
    "                     Ne, Cji, Cij, \n",
    "                     Bji_Jbar, Bij_Jbar, \n",
    "                     Rki_spon, Rki_stim, Rik)\n",
    "#--------------\n",
    "\n",
    "ni_Line = n_SE[ atom.Line.idxI ]\n",
    "nj_Line = n_SE[ atom.Line.idxJ ]\n",
    "ni_Cont = n_SE[ atom.Cont.idxI ]\n",
    "nj_Cont = n_SE[ atom.Cont.idxJ ]\n",
    "ni = np.append( ni_Line, ni_Cont )\n",
    "nj = np.append( nj_Line, nj_Cont )\n",
    "#--------------\n",
    "idxI = np.append( atom.Line.idxI, atom.Cont.idxI )\n",
    "idxJ = np.append( atom.Line.idxJ, atom.Cont.idxJ )"
   ]
  },
  {
   "cell_type": "markdown",
   "metadata": {},
   "source": [
    "initilize `Grotrian` object"
   ]
  },
  {
   "cell_type": "code",
   "execution_count": null,
   "metadata": {},
   "outputs": [],
   "source": [
    "scaleFunc     = lambda x: x**(7)\n",
    "scaleFunc_inv = lambda x : x**(1/7)\n",
    "gro = Grotrian.Grotrian(atom, _scaleFunc=scaleFunc, _scaleFunc_inv=scaleFunc_inv)"
   ]
  },
  {
   "cell_type": "markdown",
   "metadata": {},
   "source": [
    "radiative transition net rate"
   ]
  },
  {
   "cell_type": "code",
   "execution_count": null,
   "metadata": {},
   "outputs": [],
   "source": [
    "gro.make_fig(_figsize=(10,6),_dpi=150, _f=50)\n",
    "\n",
    "cmap = plt.get_cmap('cool')\n",
    "norm = LogNorm(1E-3, 1E5, clip=True)\n",
    "\n",
    "\n",
    "#--------------\n",
    "rate_rad = np.append( Bji_Jbar*nj_Line + \n",
    "                  atom.Line.AJI*nj_Line - \n",
    "                  Bij_Jbar*ni_Line,\n",
    "                  Rki_stim*nj_Cont +\n",
    "                  Rki_spon*nj_Cont - \n",
    "                  Rik*ni_Cont )\n",
    "#--------------\n",
    "\n",
    "gro.plot_transition_rate(_idxI=idxI, \n",
    "                         _idxJ=idxJ, \n",
    "                         _rate=rate_rad, \n",
    "                         _direction=\"j->i\",\n",
    "                         _cmap=cmap, _norm=norm, _abserr=1E-5)"
   ]
  },
  {
   "cell_type": "markdown",
   "metadata": {},
   "source": [
    "collisional transition net rate"
   ]
  },
  {
   "cell_type": "code",
   "execution_count": null,
   "metadata": {},
   "outputs": [],
   "source": [
    "gro.make_fig(_figsize=(10,6),_dpi=150, _f=50)\n",
    "\n",
    "cmap = plt.get_cmap('cool')\n",
    "norm = LogNorm(1E-3, 1E5, clip=True)\n",
    "\n",
    "\n",
    "#--------------\n",
    "rate_col = (Cji*nj - Cij*ni)*Ne\n",
    "#--------------\n",
    "\n",
    "\n",
    "gro.plot_transition_rate(_idxI=idxI, \n",
    "                         _idxJ=idxJ, \n",
    "                         _rate=rate_col, \n",
    "                         _direction=\"j->i\",\n",
    "                         _cmap=cmap, _norm=norm, _abserr=1E-5)"
   ]
  },
  {
   "cell_type": "markdown",
   "metadata": {},
   "source": [
    "radiative + collisional net rate"
   ]
  },
  {
   "cell_type": "code",
   "execution_count": null,
   "metadata": {},
   "outputs": [],
   "source": [
    "gro.make_fig(_figsize=(10,6),_dpi=150, _f=50)\n",
    "\n",
    "cmap = plt.get_cmap('cool')\n",
    "norm = LogNorm(1E-3, 1E5, clip=True)\n",
    "\n",
    "#--------------\n",
    "rate = rate_rad + rate_col\n",
    "#--------------\n",
    "\n",
    "gro.plot_transition_rate(_idxI=idxI, \n",
    "                         _idxJ=idxJ, \n",
    "                         _rate=rate, \n",
    "                         _direction=\"j->i\",\n",
    "                         _cmap=cmap, _norm=norm, _abserr=1E-5)"
   ]
  },
  {
   "cell_type": "markdown",
   "metadata": {},
   "source": [
    "**is radiative process decoupled with collisional process?**"
   ]
  }
 ],
 "metadata": {
  "kernelspec": {
   "display_name": "Python 3",
   "language": "python",
   "name": "python3"
  },
  "language_info": {
   "codemirror_mode": {
    "name": "ipython",
    "version": 3
   },
   "file_extension": ".py",
   "mimetype": "text/x-python",
   "name": "python",
   "nbconvert_exporter": "python",
   "pygments_lexer": "ipython3",
   "version": "3.6.10"
  },
  "toc": {
   "nav_menu": {},
   "number_sections": true,
   "sideBar": true,
   "skip_h1_title": false,
   "toc_cell": false,
   "toc_position": {},
   "toc_section_display": "block",
   "toc_window_display": false
  }
 },
 "nbformat": 4,
 "nbformat_minor": 4
}
