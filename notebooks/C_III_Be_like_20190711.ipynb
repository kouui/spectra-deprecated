{
 "cells": [
  {
   "cell_type": "markdown",
   "metadata": {},
   "source": [
    "<div style=\"background: #efffed;\n",
    "            border: 1px solid grey;\n",
    "            margin: 8px 0 8px 0;\n",
    "            text-align: center;\n",
    "            padding: 8px; \">\n",
    "    <i class=\"fa-play fa\" \n",
    "       style=\"font-size: 40px;\n",
    "              line-height: 40px;\n",
    "              margin: 8px;\n",
    "              color: #444;\">\n",
    "    </i>\n",
    "    <div>\n",
    "    To run the selected code cell, hit <pre style=\"background: #efffed\">Shift + Enter</pre>\n",
    "    </div>\n",
    "</div>"
   ]
  },
  {
   "cell_type": "code",
   "execution_count": 1,
   "metadata": {},
   "outputs": [],
   "source": [
    "import numpy as np"
   ]
  },
  {
   "cell_type": "code",
   "execution_count": 2,
   "metadata": {},
   "outputs": [],
   "source": [
    "import sys\n",
    "sys.path.append(\"../\")\n",
    "from src.Structure import AtomCls\n",
    "from src.Atomic import LTELib, ColExcite, SEsolver\n",
    "from src.RadiativeTransfer import Thin"
   ]
  },
  {
   "cell_type": "markdown",
   "metadata": {},
   "source": [
    "restore atomic model"
   ]
  },
  {
   "cell_type": "code",
   "execution_count": 3,
   "metadata": {},
   "outputs": [
    {
     "name": "stdout",
     "output_type": "stream",
     "text": [
      "Reading Einstein Aji coefficient from : \n",
      " ../atom/C_III/Einstein_A/Nist.Aji\n",
      "...\n",
      "Finished.\n",
      "\n",
      "Reading Electron impact Effective Collisional Strength from : \n",
      " ../atom/C_III/Collisional_Excitation/Berrington_et_al_1985.Electron\n",
      "...\n",
      "Finished.\n",
      "\n"
     ]
    }
   ],
   "source": [
    "file     = \"../atom/C_III/C_III.Level\"\n",
    "file_Aji = \"../atom/C_III/Einstein_A/Nist.Aji\"\n",
    "file_CEe = \"../atom/C_III/Collisional_Excitation/Berrington_et_al_1985.Electron\"\n",
    "atom = AtomCls.Atom(file, _file_Aji=file_Aji, _file_CEe=file_CEe)"
   ]
  },
  {
   "cell_type": "markdown",
   "metadata": {},
   "source": [
    "environment"
   ]
  },
  {
   "cell_type": "code",
   "execution_count": 4,
   "metadata": {},
   "outputs": [],
   "source": [
    "Te = 2E+04\n",
    "ne = 1E+10"
   ]
  },
  {
   "cell_type": "markdown",
   "metadata": {},
   "source": [
    "compute the LTE population ratio first"
   ]
  },
  {
   "cell_type": "code",
   "execution_count": 5,
   "metadata": {},
   "outputs": [],
   "source": [
    "#--- compute LTE population ratio for each CE transition\n",
    "n_LTE = LTELib.get_LTE_ratio(_erg=atom.Level.erg[:], _g=atom.Level.g[:],\n",
    "                _stage=atom.Level.stage[:], _Te=Te, _Ne=ne)"
   ]
  },
  {
   "cell_type": "markdown",
   "metadata": {},
   "source": [
    "we are going to use LTE population ratio to convert `C_{ij}` to `C_{ji}` "
   ]
  },
  {
   "cell_type": "code",
   "execution_count": 6,
   "metadata": {},
   "outputs": [],
   "source": [
    "nTran = atom.CE_table.shape[0]\n",
    "ni_LTE = np.empty(nTran, np.double)\n",
    "nj_LTE = np.empty(nTran, np.double)\n",
    "\n",
    "for k in range(nTran):\n",
    "    ni_LTE[k] = n_LTE[atom.CE_coe.idxI[k]]\n",
    "    nj_LTE[k] = n_LTE[atom.CE_coe.idxJ[k]]"
   ]
  },
  {
   "cell_type": "code",
   "execution_count": 7,
   "metadata": {},
   "outputs": [],
   "source": [
    "#--- compute collision excitation/de-excitation rate coefficient\n",
    "CE_fac = ColExcite.interpolate_CE_fac(_table=atom.CE_table[:,:], _Te=Te, _Te_table=atom.CE_Te_table[:],\n",
    "                            _f1=atom.CE_coe.f1[:], _f2=atom.CE_coe.f2[:])\n",
    "CEij = ColExcite.get_CE_rate_coe(_CE_fac=CE_fac, _Te=Te, _gi=atom.CE_coe.gi[:],\n",
    "                            _dEij=atom.CE_coe.dEij[:], _type=atom.CE_type)\n",
    "\n",
    "CEji = ColExcite.Cij_to_Cji(_Cij=CEij,  _ni_LTE=ni_LTE, _nj_LTE=nj_LTE)"
   ]
  },
  {
   "cell_type": "markdown",
   "metadata": {},
   "source": [
    "solve SE equations under the assumption of \"Corona equilibrium\""
   ]
  },
  {
   "cell_type": "code",
   "execution_count": 8,
   "metadata": {},
   "outputs": [],
   "source": [
    "#--- solve SE equations\n",
    "nLevel = atom.nLevel\n",
    "Cmat = np.zeros((nLevel, nLevel), np.double)\n",
    "Rmat = np.zeros((nLevel, nLevel), np.double)\n",
    "SEsolver.setMatrixC(_Cmat=Cmat[:,:], _Cji=CEji[:], _Cij=CEij[:],\n",
    "            _idxI=atom.CE_coe.idxI[:], _idxJ=atom.CE_coe.idxJ[:], _Ne=ne)\n",
    "\n",
    "Rji_stim = np.zeros(atom.Line.AJI[:].shape, np.double)\n",
    "Rij = np.zeros(atom.Line.AJI[:].shape, np.double)\n",
    "SEsolver.setMatrixR(_Rmat=Rmat[:,:], _Rji_spon=atom.Line.AJI[:],\n",
    "    _Rji_stim=Rji_stim[:], _Rij=Rij, _idxI=atom.Line.idxI[:], _idxJ=atom.Line.idxJ[:])\n",
    "\n",
    "n_SE = SEsolver.solveSE(_Rmat=Rmat[:,:], _Cmat=Cmat[:,:])"
   ]
  },
  {
   "cell_type": "code",
   "execution_count": 9,
   "metadata": {},
   "outputs": [
    {
     "data": {
      "text/plain": [
       "array([8.96779005e-01, 1.13324877e-02, 3.25819128e-02, 5.93065916e-02,\n",
       "       1.97528156e-09, 2.32191744e-11, 7.27294410e-11, 1.23057397e-10,\n",
       "       2.90502654e-10, 1.35028077e-13])"
      ]
     },
     "execution_count": 9,
     "metadata": {},
     "output_type": "execute_result"
    }
   ],
   "source": [
    "n_SE"
   ]
  },
  {
   "cell_type": "markdown",
   "metadata": {},
   "source": [
    "compute relative flux for each transition"
   ]
  },
  {
   "cell_type": "code",
   "execution_count": 10,
   "metadata": {},
   "outputs": [],
   "source": [
    "#-- compute optically thin relative flux\n",
    "nj_SE = np.empty(nTran, np.double)\n",
    "for k in range(nTran):\n",
    "    nj_SE[k] = n_SE[atom.CE_coe.idxJ[k]]\n",
    "\n",
    "rel_flux = Thin.get_relative_flux(_AJI=atom.Line.AJI[:], _f0=atom.Line.f0[:], _nj=nj_SE[:])"
   ]
  },
  {
   "cell_type": "markdown",
   "metadata": {},
   "source": [
    "---"
   ]
  },
  {
   "cell_type": "code",
   "execution_count": 11,
   "metadata": {},
   "outputs": [],
   "source": [
    "import matplotlib.pyplot as plt"
   ]
  },
  {
   "cell_type": "code",
   "execution_count": 12,
   "metadata": {},
   "outputs": [
    {
     "data": {
      "image/png": "[encoded data removed]",
      "text/plain": [
       "<Figure size 432x288 with 1 Axes>"
      ]
     },
     "metadata": {
      "needs_background": "light"
     },
     "output_type": "display_data"
    }
   ],
   "source": [
    "fig, ax = plt.subplots(1,1)\n",
    "ax.plot(np.arange(10), n_LTE, \"-b\", label=\"LTE\")\n",
    "ax.plot(np.arange(10), n_SE, \"-r\", label=\"SE\")\n",
    "ax.set_yscale(\"log\")"
   ]
  },
  {
   "cell_type": "markdown",
   "metadata": {},
   "source": [
    "---"
   ]
  }
 ],
 "metadata": {
  "kernelspec": {
   "display_name": "Python 3",
   "language": "python",
   "name": "python3"
  },
  "language_info": {
   "codemirror_mode": {
    "name": "ipython",
    "version": 3
   },
   "file_extension": ".py",
   "mimetype": "text/x-python",
   "name": "python",
   "nbconvert_exporter": "python",
   "pygments_lexer": "ipython3",
   "version": "3.6.7"
  },
  "toc": {
   "nav_menu": {},
   "number_sections": true,
   "sideBar": true,
   "skip_h1_title": false,
   "toc_cell": false,
   "toc_position": {},
   "toc_section_display": "block",
   "toc_window_display": false
  }
 },
 "nbformat": 4,
 "nbformat_minor": 2
}
