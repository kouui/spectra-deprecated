{
 "cells": [
  {
   "cell_type": "code",
   "execution_count": 1,
   "metadata": {},
   "outputs": [
    {
     "data": {
      "text/html": [
       "<style>.container { width:95% !important; }</style>"
      ],
      "text/plain": [
       "<IPython.core.display.HTML object>"
      ]
     },
     "metadata": {},
     "output_type": "display_data"
    }
   ],
   "source": [
    "from IPython.core.display import display, HTML\n",
    "display(HTML(\"<style>.container { width:95% !important; }</style>\"))"
   ]
  },
  {
   "cell_type": "code",
   "execution_count": 2,
   "metadata": {},
   "outputs": [],
   "source": [
    "import numpy as np\n",
    "\n",
    "%matplotlib inline\n",
    "#%matplotlib tk\n",
    "import matplotlib.pyplot as plt\n",
    "from matplotlib.colors import LogNorm"
   ]
  },
  {
   "cell_type": "code",
   "execution_count": 8,
   "metadata": {
    "scrolled": false
   },
   "outputs": [
    {
     "name": "stdout",
     "output_type": "stream",
     "text": [
      "The autoreload extension is already loaded. To reload it, use:\n",
      "  %reload_ext autoreload\n"
     ]
    },
    {
     "ename": "TypeError",
     "evalue": "'NoneType' object is not callable",
     "output_type": "error",
     "traceback": [
      "\u001b[0;31m---------------------------------------------------------------------------\u001b[0m",
      "\u001b[0;31mTypeError\u001b[0m                                 Traceback (most recent call last)",
      "\u001b[0;32m<ipython-input-8-f1e11b3ab56d>\u001b[0m in \u001b[0;36m<module>\u001b[0;34m\u001b[0m\n\u001b[1;32m     15\u001b[0m \u001b[0;32mfrom\u001b[0m \u001b[0msrc\u001b[0m\u001b[0;34m.\u001b[0m\u001b[0mAtomic\u001b[0m \u001b[0;32mimport\u001b[0m \u001b[0mLTELib\u001b[0m\u001b[0;34m\u001b[0m\u001b[0;34m\u001b[0m\u001b[0m\n\u001b[1;32m     16\u001b[0m \u001b[0;34m\u001b[0m\u001b[0m\n\u001b[0;32m---> 17\u001b[0;31m \u001b[0;32mfrom\u001b[0m \u001b[0msrc\u001b[0m\u001b[0;34m.\u001b[0m\u001b[0mFunction\u001b[0m\u001b[0;34m.\u001b[0m\u001b[0mStatisticalEquilibrium\u001b[0m \u001b[0;32mimport\u001b[0m \u001b[0mLibClass\u001b[0m \u001b[0;32mas\u001b[0m \u001b[0mSELib\u001b[0m\u001b[0;34m\u001b[0m\u001b[0;34m\u001b[0m\u001b[0m\n\u001b[0m\u001b[1;32m     18\u001b[0m \u001b[0;32mfrom\u001b[0m \u001b[0msrc\u001b[0m\u001b[0;34m.\u001b[0m\u001b[0mFunction\u001b[0m\u001b[0;34m.\u001b[0m\u001b[0mStatisticalEquilibrium\u001b[0m \u001b[0;32mimport\u001b[0m \u001b[0mLibArray\u001b[0m\u001b[0;34m\u001b[0m\u001b[0;34m\u001b[0m\u001b[0m\n\u001b[1;32m     19\u001b[0m \u001b[0;34m\u001b[0m\u001b[0m\n",
      "\u001b[0;32m~/kouui/workspace/spectra/src/Function/StatisticalEquilibrium/LibClass.py\u001b[0m in \u001b[0;36m<module>\u001b[0;34m\u001b[0m\n\u001b[1;32m      5\u001b[0m \u001b[0;31m#sys.path.append(\"../../\")\u001b[0m\u001b[0;34m\u001b[0m\u001b[0;34m\u001b[0m\u001b[0;34m\u001b[0m\u001b[0m\n\u001b[1;32m      6\u001b[0m \u001b[0;34m\u001b[0m\u001b[0m\n\u001b[0;32m----> 7\u001b[0;31m \u001b[0;32mfrom\u001b[0m \u001b[0;34m...\u001b[0m\u001b[0mAtomic\u001b[0m \u001b[0;32mimport\u001b[0m \u001b[0mLTELib\u001b[0m\u001b[0;34m,\u001b[0m \u001b[0mBasicP\u001b[0m\u001b[0;34m\u001b[0m\u001b[0;34m\u001b[0m\u001b[0m\n\u001b[0m\u001b[1;32m      8\u001b[0m \u001b[0;32mfrom\u001b[0m \u001b[0;34m...\u001b[0m\u001b[0mAtomic\u001b[0m \u001b[0;32mimport\u001b[0m \u001b[0mPhotoIonize\u001b[0m\u001b[0;34m,\u001b[0m \u001b[0mCollision\u001b[0m\u001b[0;34m\u001b[0m\u001b[0;34m\u001b[0m\u001b[0m\n\u001b[1;32m      9\u001b[0m \u001b[0;34m\u001b[0m\u001b[0m\n",
      "\u001b[0;32m~/kouui/workspace/spectra/src/Atomic/BasicP.py\u001b[0m in \u001b[0;36m<module>\u001b[0;34m\u001b[0m\n\u001b[1;32m    294\u001b[0m     \u001b[0mget_Doppler_width\u001b[0m \u001b[0;34m=\u001b[0m \u001b[0mnb\u001b[0m\u001b[0;34m.\u001b[0m\u001b[0mvectorize\u001b[0m\u001b[0;34m(\u001b[0m \u001b[0;34m[\u001b[0m\u001b[0;34m'float64(float64,float64,float64,float64)'\u001b[0m\u001b[0;34m]\u001b[0m \u001b[0;34m)\u001b[0m\u001b[0;34m(\u001b[0m \u001b[0mget_Doppler_width\u001b[0m \u001b[0;34m)\u001b[0m\u001b[0;34m\u001b[0m\u001b[0;34m\u001b[0m\u001b[0m\n\u001b[1;32m    295\u001b[0m     \u001b[0mget_damping_a\u001b[0m \u001b[0;34m=\u001b[0m \u001b[0mnb\u001b[0m\u001b[0;34m.\u001b[0m\u001b[0mvectorize\u001b[0m\u001b[0;34m(\u001b[0m \u001b[0;34m[\u001b[0m\u001b[0;34m'float64(float64,float64)'\u001b[0m\u001b[0;34m]\u001b[0m \u001b[0;34m)\u001b[0m\u001b[0;34m(\u001b[0m \u001b[0mget_damping_a\u001b[0m \u001b[0;34m)\u001b[0m\u001b[0;34m\u001b[0m\u001b[0;34m\u001b[0m\u001b[0m\n\u001b[0;32m--> 296\u001b[0;31m     \u001b[0mget_Level_gamma\u001b[0m \u001b[0;34m=\u001b[0m \u001b[0mnb\u001b[0m\u001b[0;34m.\u001b[0m\u001b[0mnjit\u001b[0m\u001b[0;34m(\u001b[0m \u001b[0;34m[\u001b[0m\u001b[0;34m'None(uint8[:],uint8[:],float64[:])'\u001b[0m\u001b[0;34m]\u001b[0m \u001b[0;34m)\u001b[0m\u001b[0;34m(\u001b[0m \u001b[0mget_Level_gamma\u001b[0m \u001b[0;34m)\u001b[0m\u001b[0;34m\u001b[0m\u001b[0;34m\u001b[0m\u001b[0m\n\u001b[0m\u001b[1;32m    297\u001b[0m     \u001b[0mget_Line_Gamma\u001b[0m \u001b[0;34m=\u001b[0m \u001b[0mnb\u001b[0m\u001b[0;34m.\u001b[0m\u001b[0mnjit\u001b[0m\u001b[0;34m(\u001b[0m \u001b[0;34m[\u001b[0m\u001b[0;34m'None(uint8[:],uint8[:],float64[:],float64[:])'\u001b[0m\u001b[0;34m]\u001b[0m \u001b[0;34m)\u001b[0m\u001b[0;34m(\u001b[0m \u001b[0mget_Line_Gamma\u001b[0m \u001b[0;34m)\u001b[0m\u001b[0;34m\u001b[0m\u001b[0;34m\u001b[0m\u001b[0m\n",
      "\u001b[0;32m~/kouui/anaconda3/envs/spectra/lib/python3.6/site-packages/numba/core/decorators.py\u001b[0m in \u001b[0;36mwrapper\u001b[0;34m(func)\u001b[0m\n\u001b[1;32m    196\u001b[0m             \u001b[0;32mwith\u001b[0m \u001b[0mtypeinfer\u001b[0m\u001b[0;34m.\u001b[0m\u001b[0mregister_dispatcher\u001b[0m\u001b[0;34m(\u001b[0m\u001b[0mdisp\u001b[0m\u001b[0;34m)\u001b[0m\u001b[0;34m:\u001b[0m\u001b[0;34m\u001b[0m\u001b[0;34m\u001b[0m\u001b[0m\n\u001b[1;32m    197\u001b[0m                 \u001b[0;32mfor\u001b[0m \u001b[0msig\u001b[0m \u001b[0;32min\u001b[0m \u001b[0msigs\u001b[0m\u001b[0;34m:\u001b[0m\u001b[0;34m\u001b[0m\u001b[0;34m\u001b[0m\u001b[0m\n\u001b[0;32m--> 198\u001b[0;31m                     \u001b[0mdisp\u001b[0m\u001b[0;34m.\u001b[0m\u001b[0mcompile\u001b[0m\u001b[0;34m(\u001b[0m\u001b[0msig\u001b[0m\u001b[0;34m)\u001b[0m\u001b[0;34m\u001b[0m\u001b[0;34m\u001b[0m\u001b[0m\n\u001b[0m\u001b[1;32m    199\u001b[0m                 \u001b[0mdisp\u001b[0m\u001b[0;34m.\u001b[0m\u001b[0mdisable_compile\u001b[0m\u001b[0;34m(\u001b[0m\u001b[0;34m)\u001b[0m\u001b[0;34m\u001b[0m\u001b[0;34m\u001b[0m\u001b[0m\n\u001b[1;32m    200\u001b[0m         \u001b[0;32mreturn\u001b[0m \u001b[0mdisp\u001b[0m\u001b[0;34m\u001b[0m\u001b[0;34m\u001b[0m\u001b[0m\n",
      "\u001b[0;32m~/kouui/anaconda3/envs/spectra/lib/python3.6/site-packages/numba/core/compiler_lock.py\u001b[0m in \u001b[0;36m_acquire_compile_lock\u001b[0;34m(*args, **kwargs)\u001b[0m\n\u001b[1;32m     30\u001b[0m         \u001b[0;32mdef\u001b[0m \u001b[0m_acquire_compile_lock\u001b[0m\u001b[0;34m(\u001b[0m\u001b[0;34m*\u001b[0m\u001b[0margs\u001b[0m\u001b[0;34m,\u001b[0m \u001b[0;34m**\u001b[0m\u001b[0mkwargs\u001b[0m\u001b[0;34m)\u001b[0m\u001b[0;34m:\u001b[0m\u001b[0;34m\u001b[0m\u001b[0;34m\u001b[0m\u001b[0m\n\u001b[1;32m     31\u001b[0m             \u001b[0;32mwith\u001b[0m \u001b[0mself\u001b[0m\u001b[0;34m:\u001b[0m\u001b[0;34m\u001b[0m\u001b[0;34m\u001b[0m\u001b[0m\n\u001b[0;32m---> 32\u001b[0;31m                 \u001b[0;32mreturn\u001b[0m \u001b[0mfunc\u001b[0m\u001b[0;34m(\u001b[0m\u001b[0;34m*\u001b[0m\u001b[0margs\u001b[0m\u001b[0;34m,\u001b[0m \u001b[0;34m**\u001b[0m\u001b[0mkwargs\u001b[0m\u001b[0;34m)\u001b[0m\u001b[0;34m\u001b[0m\u001b[0;34m\u001b[0m\u001b[0m\n\u001b[0m\u001b[1;32m     33\u001b[0m         \u001b[0;32mreturn\u001b[0m \u001b[0m_acquire_compile_lock\u001b[0m\u001b[0;34m\u001b[0m\u001b[0;34m\u001b[0m\u001b[0m\n\u001b[1;32m     34\u001b[0m \u001b[0;34m\u001b[0m\u001b[0m\n",
      "\u001b[0;32m~/kouui/anaconda3/envs/spectra/lib/python3.6/site-packages/numba/core/dispatcher.py\u001b[0m in \u001b[0;36mcompile\u001b[0;34m(self, sig)\u001b[0m\n\u001b[1;32m    774\u001b[0m         \u001b[0;31m# Use counter to track recursion compilation depth\u001b[0m\u001b[0;34m\u001b[0m\u001b[0;34m\u001b[0m\u001b[0;34m\u001b[0m\u001b[0m\n\u001b[1;32m    775\u001b[0m         \u001b[0;32mwith\u001b[0m \u001b[0mself\u001b[0m\u001b[0;34m.\u001b[0m\u001b[0m_compiling_counter\u001b[0m\u001b[0;34m:\u001b[0m\u001b[0;34m\u001b[0m\u001b[0;34m\u001b[0m\u001b[0m\n\u001b[0;32m--> 776\u001b[0;31m             \u001b[0margs\u001b[0m\u001b[0;34m,\u001b[0m \u001b[0mreturn_type\u001b[0m \u001b[0;34m=\u001b[0m \u001b[0msigutils\u001b[0m\u001b[0;34m.\u001b[0m\u001b[0mnormalize_signature\u001b[0m\u001b[0;34m(\u001b[0m\u001b[0msig\u001b[0m\u001b[0;34m)\u001b[0m\u001b[0;34m\u001b[0m\u001b[0;34m\u001b[0m\u001b[0m\n\u001b[0m\u001b[1;32m    777\u001b[0m             \u001b[0;31m# Don't recompile if signature already exists\u001b[0m\u001b[0;34m\u001b[0m\u001b[0;34m\u001b[0m\u001b[0;34m\u001b[0m\u001b[0m\n\u001b[1;32m    778\u001b[0m             \u001b[0mexisting\u001b[0m \u001b[0;34m=\u001b[0m \u001b[0mself\u001b[0m\u001b[0;34m.\u001b[0m\u001b[0moverloads\u001b[0m\u001b[0;34m.\u001b[0m\u001b[0mget\u001b[0m\u001b[0;34m(\u001b[0m\u001b[0mtuple\u001b[0m\u001b[0;34m(\u001b[0m\u001b[0margs\u001b[0m\u001b[0;34m)\u001b[0m\u001b[0;34m)\u001b[0m\u001b[0;34m\u001b[0m\u001b[0;34m\u001b[0m\u001b[0m\n",
      "\u001b[0;32m~/kouui/anaconda3/envs/spectra/lib/python3.6/site-packages/numba/core/sigutils.py\u001b[0m in \u001b[0;36mnormalize_signature\u001b[0;34m(sig)\u001b[0m\n\u001b[1;32m     22\u001b[0m     \"\"\"\n\u001b[1;32m     23\u001b[0m     \u001b[0;32mif\u001b[0m \u001b[0misinstance\u001b[0m\u001b[0;34m(\u001b[0m\u001b[0msig\u001b[0m\u001b[0;34m,\u001b[0m \u001b[0mstr\u001b[0m\u001b[0;34m)\u001b[0m\u001b[0;34m:\u001b[0m\u001b[0;34m\u001b[0m\u001b[0;34m\u001b[0m\u001b[0m\n\u001b[0;32m---> 24\u001b[0;31m         \u001b[0mparsed\u001b[0m \u001b[0;34m=\u001b[0m \u001b[0m_parse_signature_string\u001b[0m\u001b[0;34m(\u001b[0m\u001b[0msig\u001b[0m\u001b[0;34m)\u001b[0m\u001b[0;34m\u001b[0m\u001b[0;34m\u001b[0m\u001b[0m\n\u001b[0m\u001b[1;32m     25\u001b[0m     \u001b[0;32melse\u001b[0m\u001b[0;34m:\u001b[0m\u001b[0;34m\u001b[0m\u001b[0;34m\u001b[0m\u001b[0m\n\u001b[1;32m     26\u001b[0m         \u001b[0mparsed\u001b[0m \u001b[0;34m=\u001b[0m \u001b[0msig\u001b[0m\u001b[0;34m\u001b[0m\u001b[0;34m\u001b[0m\u001b[0m\n",
      "\u001b[0;32m~/kouui/anaconda3/envs/spectra/lib/python3.6/site-packages/numba/core/sigutils.py\u001b[0m in \u001b[0;36m_parse_signature_string\u001b[0;34m(signature_str)\u001b[0m\n\u001b[1;32m     12\u001b[0m \u001b[0;32mdef\u001b[0m \u001b[0m_parse_signature_string\u001b[0m\u001b[0;34m(\u001b[0m\u001b[0msignature_str\u001b[0m\u001b[0;34m)\u001b[0m\u001b[0;34m:\u001b[0m\u001b[0;34m\u001b[0m\u001b[0;34m\u001b[0m\u001b[0m\n\u001b[1;32m     13\u001b[0m     \u001b[0;31m# Just eval signature_str using the types submodules as globals\u001b[0m\u001b[0;34m\u001b[0m\u001b[0;34m\u001b[0m\u001b[0;34m\u001b[0m\u001b[0m\n\u001b[0;32m---> 14\u001b[0;31m     \u001b[0;32mreturn\u001b[0m \u001b[0meval\u001b[0m\u001b[0;34m(\u001b[0m\u001b[0msignature_str\u001b[0m\u001b[0;34m,\u001b[0m \u001b[0;34m{\u001b[0m\u001b[0;34m}\u001b[0m\u001b[0;34m,\u001b[0m \u001b[0mtypes\u001b[0m\u001b[0;34m.\u001b[0m\u001b[0m__dict__\u001b[0m\u001b[0;34m)\u001b[0m\u001b[0;34m\u001b[0m\u001b[0;34m\u001b[0m\u001b[0m\n\u001b[0m\u001b[1;32m     15\u001b[0m \u001b[0;34m\u001b[0m\u001b[0m\n\u001b[1;32m     16\u001b[0m \u001b[0;34m\u001b[0m\u001b[0m\n",
      "\u001b[0;32m<string>\u001b[0m in \u001b[0;36m<module>\u001b[0;34m\u001b[0m\n",
      "\u001b[0;31mTypeError\u001b[0m: 'NoneType' object is not callable"
     ]
    }
   ],
   "source": [
    "import sys\n",
    "sys.path.append(\"../../\")\n",
    "\n",
    "%load_ext autoreload\n",
    "%autoreload 2\n",
    "\n",
    "from src.Structure import AtomCls\n",
    "from src.Atomic import Collision, SEsolver\n",
    "\n",
    "from src.Util import Class\n",
    "\n",
    "from src.Visual import Grotrian, Plotting\n",
    "\n",
    "import src.Constants as Cst\n",
    "from src.Atomic import LTELib\n",
    "\n",
    "from src.Function.StatisticalEquilibrium import LibClass as SELib\n",
    "from src.Function.StatisticalEquilibrium import LibArray\n",
    "\n",
    "from src.Atomic import Hydrogen"
   ]
  },
  {
   "cell_type": "markdown",
   "metadata": {},
   "source": [
    "---"
   ]
  },
  {
   "cell_type": "code",
   "execution_count": 4,
   "metadata": {},
   "outputs": [],
   "source": [
    "atom, paths = AtomCls.InitAtom(\"../../data/conf/H.conf\", isHydrogen=True)"
   ]
  },
  {
   "cell_type": "markdown",
   "metadata": {},
   "source": [
    "---"
   ]
  },
  {
   "cell_type": "markdown",
   "metadata": {},
   "source": [
    "---"
   ]
  },
  {
   "cell_type": "markdown",
   "metadata": {},
   "source": [
    "## Einstein `Aji` coeficient"
   ]
  },
  {
   "cell_type": "code",
   "execution_count": null,
   "metadata": {},
   "outputs": [],
   "source": [
    "ni_arr = atom.Line.idxI[:] + 1\n",
    "nj_arr = atom.Line.idxJ[:] + 1\n",
    "Aji = Hydrogen.Einstein_A_coefficient(ni_arr, nj_arr)\n",
    "\n",
    "fig, ax = plt.subplots(1,1, figsize=(6,3), dpi=100)\n",
    "ax.plot( Aji[:], 'o', markersize=4, label=\"calculation\")\n",
    "ax.plot( atom.Line.AJI[:], label=\"NIST\" )\n",
    "\n",
    "ax.legend(loc=\"best\")\n",
    "ax.set_yscale(\"log\")\n",
    "ax.set_title(\"Johnson1972\")\n",
    "ax.set_ylabel(\"$A_{ji} \\; [s^{-1}]$\")\n",
    "plt.show()"
   ]
  },
  {
   "cell_type": "markdown",
   "metadata": {},
   "source": [
    "## Collisional Excitation rate coefficient"
   ]
  },
  {
   "cell_type": "code",
   "execution_count": null,
   "metadata": {},
   "outputs": [],
   "source": [
    "fig, ax = plt.subplots(1,1, figsize=(6,3), dpi=100)\n",
    "\n",
    "n = 21\n",
    "Te = np.logspace(3.8, 6, n)\n",
    "Ne = 1E11\n",
    "\n",
    "k = 6\n",
    "ni = 1\n",
    "for nj in range(ni+1, k+1):\n",
    "    Cij = Hydrogen.CE_rate_coe(ni,nj,Te)\n",
    "    ax.plot( Te, Ne*Cij, '--o', markersize=4, label=f\"ni={ni}-->nj={nj}\" )\n",
    "\n",
    "ax.legend(loc=\"best\")\n",
    "ax.set_xscale(\"log\")\n",
    "ax.set_yscale(\"log\")\n",
    "\n",
    "ax.set_xlabel(\"$T_{e} \\; [K]$\")\n",
    "\n",
    "ax.set_title(\"Johnson1972\")\n",
    "ax.set_ylabel(\"$N_{e}C_{ij} \\; [s^{-1}]$\")\n",
    "plt.show()"
   ]
  },
  {
   "cell_type": "markdown",
   "metadata": {},
   "source": [
    "## Collisional ionization rate coefficient"
   ]
  },
  {
   "cell_type": "code",
   "execution_count": null,
   "metadata": {},
   "outputs": [],
   "source": [
    "fig, axs = plt.subplots(1,2, figsize=(8,3), dpi=100, sharey=True)\n",
    "\n",
    "n = 21\n",
    "Te = np.logspace(3.8, 6, n)\n",
    "Ne = 1E11\n",
    "\n",
    "k = 6\n",
    "\n",
    "functions = {\n",
    "    \"Johnson1972\" : Hydrogen.CI_rate_coe,\n",
    "    \"Clark+1991\"  : Hydrogen.CI_rate_coe_Clark,\n",
    "}\n",
    "\n",
    "for i, name in enumerate(functions.keys()):\n",
    "    ax = axs[i]\n",
    "    for ni in range(1, k+1):\n",
    "        Cik = functions[name](ni,Te)\n",
    "        ax.plot( Te, Ne*Cik, '--o', markersize=4, label=f\"ni={ni}-->nj={nj}\" )\n",
    "        ax.legend(loc=\"best\")\n",
    "        ax.set_xscale(\"log\")\n",
    "        ax.set_yscale(\"log\")\n",
    "        ax.set_title(name)\n",
    "        ax.set_ylabel( \"$N_{e}C_{ik} \\; [s^{-1}]$\" ) if i==0 else None\n",
    "        ax.set_xlabel( \"$T_{e} \\; [K]$\" )\n",
    "\n",
    "plt.show()"
   ]
  },
  {
   "cell_type": "markdown",
   "metadata": {},
   "source": [
    "**let's use *Johnson1972* version**"
   ]
  },
  {
   "cell_type": "markdown",
   "metadata": {},
   "source": [
    "## bound-free Gaunt factor"
   ]
  },
  {
   "cell_type": "code",
   "execution_count": null,
   "metadata": {},
   "outputs": [],
   "source": [
    "x = np.linspace(1, 2, 11)\n",
    "\n",
    "fig, axs = plt.subplots(1,2, figsize=(8,3), dpi=100, sharey=True)\n",
    "\n",
    "functions = {\n",
    "    \"Johnson1972\" : Hydrogen.Gaunt_factor,\n",
    "    \"Gingerich+1991\"  : Hydrogen.Gaunt_factor_Gingerich,\n",
    "}\n",
    "\n",
    "for i, name in enumerate(functions.keys()):\n",
    "    ax = axs[i]\n",
    "    for ni in range(1,8):\n",
    "        g = functions[name](ni, x)\n",
    "        ax.plot( x, g, '--o', markersize=3, label=f\"ni={ni}\" )\n",
    "        ax.legend(loc='best')\n",
    "        ax.set_title(name)\n",
    "        ax.set_xlabel(\"$E_{transition}/E_{ik}$\")\n",
    "        ax.set_ylabel(\"bound-free Gaunt factor\") if i==0 else None\n",
    "\n",
    "\n",
    "plt.show()"
   ]
  },
  {
   "cell_type": "markdown",
   "metadata": {},
   "source": [
    "**let's use *Johnson1972* version**"
   ]
  },
  {
   "cell_type": "markdown",
   "metadata": {},
   "source": [
    "## photoionization cross section"
   ]
  },
  {
   "cell_type": "code",
   "execution_count": null,
   "metadata": {},
   "outputs": [],
   "source": [
    "x = np.linspace(1, 2, 11)\n",
    "\n",
    "fig, ax = plt.subplots(1,1, figsize=(6,3), dpi=100)\n",
    "\n",
    "functions = {\n",
    "    \"Photoionization cross section\" : Hydrogen.PI_cross_section,\n",
    "}\n",
    "\n",
    "for i, name in enumerate(functions.keys()):\n",
    "    for ni in range(1,8):\n",
    "        alpha = functions[name](ni, x, 1)\n",
    "        ax.plot( x, alpha, '--o', markersize=3, label=f\"ni={ni}\" )\n",
    "        ax.legend(loc='best')\n",
    "        ax.set_title(name)\n",
    "        ax.set_ylabel(\"$\\\\alpha \\; [cm^{2}]$\")\n",
    "        ax.set_xlabel(\"$E_{transition}/E_{ik}$\")\n",
    "\n",
    "\n",
    "plt.show()"
   ]
  },
  {
   "cell_type": "markdown",
   "metadata": {},
   "source": [
    "## Spontaneous radiative recombination"
   ]
  },
  {
   "cell_type": "code",
   "execution_count": null,
   "metadata": {},
   "outputs": [],
   "source": [
    "fig, axs = plt.subplots(1,2, figsize=(8,3), dpi=100, sharey=True)\n",
    "\n",
    "n = 21\n",
    "#Te = np.logspace(3.8, 6, n)\n",
    "Te = np.linspace(6000, 2E4, n)\n",
    "Ne = 1E10\n",
    "\n",
    "for ni in range(1, 8):\n",
    "    RCki = Hydrogen.Rki_spon_rate_coe(ni,Te)\n",
    "    ax.plot( Te, Ne*RCki, '--o', markersize=4, label=f\"continuum-->ni={ni}\" )\n",
    "    ax.legend(loc=\"best\")\n",
    "\n",
    "Tr = 6E3\n",
    "\n",
    "Rki_spon_arr = []\n",
    "for t in range(Te.shape[0]):\n",
    "    n_LTE , nj_by_ni_Line, nj_by_ni_Cont = SELib.ni_nj_LTE(atom, Te[t], Ne)\n",
    "    Rik, Rki_stim, Rki_spon = SELib.bf_R_rate(atom, Te[t], nj_by_ni_Cont, _Tr=Tr)\n",
    "    Rki_spon_arr.append( Rki_spon )\n",
    "Rki_spon_arr = np.array( Rki_spon_arr )\n",
    "\n",
    "ax = axs[1]\n",
    "for ni in range(1, 8):\n",
    "    ax.plot( Te, Rki_spon_arr[:,ni-1], '--o', markersize=4, label=f\"continuum-->ni={ni}\" )\n",
    "    ax.legend(loc=\"best\")\n",
    "    ax.set_yscale(\"log\")\n",
    "    ax.set_title(\"Integration\")\n",
    "\n",
    "\n",
    "ax = axs[0]\n",
    "for ni in range(1, 8):\n",
    "    RCki = Hydrogen.Rki_spon_rate_coe(ni,Te)\n",
    "    ax.plot( Te, Ne*RCki, '--o', markersize=4, label=f\"continuum-->ni={ni}\" )\n",
    "    ax.legend(loc=\"best\")\n",
    "    ax.set_yscale(\"log\")\n",
    "    ax.set_title(\"Johnson1972\")\n",
    "\n",
    "#ax.set_xscale(\"log\")\n",
    "ax.set_yscale(\"log\")\n",
    "\n",
    "ax.set_xlabel(\"$T_{e} \\; [K]$\")\n",
    "ax.set_ylabel(\"$R_{ki}^{spon} \\; [s^{-1}]$\")\n",
    "plt.show()"
   ]
  },
  {
   "cell_type": "markdown",
   "metadata": {},
   "source": [
    "**let's use integration of photoionization cross section**"
   ]
  },
  {
   "cell_type": "markdown",
   "metadata": {},
   "source": [
    "## Statictical Equilibrium"
   ]
  },
  {
   "cell_type": "code",
   "execution_count": null,
   "metadata": {},
   "outputs": [],
   "source": [
    "Te = 1E4\n",
    "Ne = 1E11\n",
    "Tr = 6E3\n",
    "\n",
    "# n_LTE : LTE population (summed up to 1)\n",
    "# nj_by_ni_Line : nj/ni for line transitions\n",
    "# nj_by_ni_Cont : nj/ni for Continuum transitions\n",
    "n_LTE , nj_by_ni_Line, nj_by_ni_Cont = SELib.ni_nj_LTE(atom, Te, Ne)\n",
    "\n",
    "Rik, Rki_stim, Rki_spon = SELib.bf_R_rate(atom, Te, nj_by_ni_Cont, _Tr=Tr)\n",
    "Bij_Jbar, Bji_Jbar = SELib.B_Jbar(atom, _Tr=Tr)\n",
    "\n",
    "##  ij : ij + ik\n",
    "Cij = SELib.get_Cij(atom, Te)\n",
    "Cji = Collision.Cij_to_Cji( Cij, np.append(nj_by_ni_Line,nj_by_ni_Cont) )\n",
    "\n",
    "n_SE = SELib.solve_SE(atom, \n",
    "                     Ne, Cji, Cij, \n",
    "                     Bji_Jbar, Bij_Jbar, \n",
    "                     Rki_spon, Rki_stim, Rik)"
   ]
  },
  {
   "cell_type": "code",
   "execution_count": null,
   "metadata": {},
   "outputs": [],
   "source": [
    "print(f\"Electron temperature  = {Te:.1E}\")\n",
    "print(f\"Electron density      = {Ne:.1E}\")\n",
    "print(f\"Radiation temperature = {Tr:.1E}\")\n",
    "print('-'*35)\n",
    "print(\"SE  :\")\n",
    "for v in n_SE:\n",
    "    print(f\"{v:.4E}\",end=\"  \")\n",
    "print(f\"\\nLTE :\")\n",
    "for v in n_LTE:\n",
    "    print(f\"{v:.4E}\",end=\"  \")"
   ]
  },
  {
   "cell_type": "markdown",
   "metadata": {},
   "source": [
    "## Ionization fraction v.s. Electron temperature"
   ]
  },
  {
   "cell_type": "code",
   "execution_count": null,
   "metadata": {},
   "outputs": [],
   "source": [
    "nTe = 51\n",
    "Te = np.linspace(3E3, 2E4, nTe)\n",
    "\n",
    "Ne = 1E10\n",
    "Tr = 6E3\n",
    "\n",
    "eta = {\n",
    "    \"LTE\": np.zeros(nTe),\n",
    "    \"SE\" : np.zeros(nTe),\n",
    "}\n",
    "\n",
    "for k in range(nTe):\n",
    "    n_LTE , nj_by_ni_Line, nj_by_ni_Cont = SELib.ni_nj_LTE(atom, Te[k], Ne)\n",
    "\n",
    "    Rik, Rki_stim, Rki_spon = SELib.bf_R_rate(atom, Te[k], nj_by_ni_Cont, _Tr=Tr)\n",
    "    Bij_Jbar, Bji_Jbar = SELib.B_Jbar(atom, _Tr=Tr)\n",
    "\n",
    "    ##  ij : ij + ik\n",
    "    Cij = SELib.get_Cij(atom, Te[k])\n",
    "    Cji = Collision.Cij_to_Cji( Cij, np.append(nj_by_ni_Line,nj_by_ni_Cont) )\n",
    "\n",
    "    n_SE = SELib.solve_SE(atom, \n",
    "                         Ne, Cji, Cij, \n",
    "                         Bji_Jbar, Bij_Jbar, \n",
    "                         Rki_spon, Rki_stim, Rik)\n",
    "    \n",
    "    eta[\"LTE\"][k] = n_LTE[-1] / n_LTE[:].sum()\n",
    "    eta[\"SE\"][k] = n_SE[-1] / n_SE[:].sum()"
   ]
  },
  {
   "cell_type": "code",
   "execution_count": null,
   "metadata": {},
   "outputs": [],
   "source": [
    "fig, ax = plt.subplots(1,1, figsize=(6,3), dpi=120)\n",
    "\n",
    "for i, name in enumerate(eta.keys()):\n",
    "    ax.plot(Te[:], eta[name][:], '--o', markersize=3, label=name)\n",
    "    \n",
    "ax.set_xlabel(\"$T_{e} \\; [K]$\")\n",
    "ax.set_ylabel(\"$ n_{H\\, II} \\; / \\; n_{H} $\")\n",
    "ax.legend(loc=\"best\")\n",
    "ax.set_title(\"ionization fraction v.s. eletron temperature\")\n",
    "plt.show()"
   ]
  },
  {
   "cell_type": "markdown",
   "metadata": {},
   "source": [
    "## Ionization fraction v.s. Electron density"
   ]
  },
  {
   "cell_type": "code",
   "execution_count": null,
   "metadata": {},
   "outputs": [],
   "source": [
    "Te = 8E3\n",
    "nNe = 51\n",
    "Ne = np.logspace(8,15, nNe)\n",
    "Tr = 6E3\n",
    "\n",
    "eta = {\n",
    "    \"LTE\": np.zeros(nNe),\n",
    "    \"SE\" : np.zeros(nNe),\n",
    "}\n",
    "\n",
    "for k in range(nNe):\n",
    "    n_LTE , nj_by_ni_Line, nj_by_ni_Cont = SELib.ni_nj_LTE(atom, Te, Ne[k])\n",
    "\n",
    "    Rik, Rki_stim, Rki_spon = SELib.bf_R_rate(atom, Te, nj_by_ni_Cont, _Tr=Tr)\n",
    "    Bij_Jbar, Bji_Jbar = SELib.B_Jbar(atom, _Tr=Tr)\n",
    "\n",
    "    ##  ij : ij + ik\n",
    "    Cij = SELib.get_Cij(atom, Te)\n",
    "    Cji = Collision.Cij_to_Cji( Cij, np.append(nj_by_ni_Line,nj_by_ni_Cont) )\n",
    "\n",
    "    n_SE = SELib.solve_SE(atom, \n",
    "                         Ne[k], Cji, Cij, \n",
    "                         Bji_Jbar, Bij_Jbar, \n",
    "                         Rki_spon, Rki_stim, Rik)\n",
    "    \n",
    "    eta[\"LTE\"][k] = n_LTE[-1] / n_LTE[:].sum()\n",
    "    eta[\"SE\"][k] = n_SE[-1] / n_SE[:].sum()"
   ]
  },
  {
   "cell_type": "code",
   "execution_count": null,
   "metadata": {},
   "outputs": [],
   "source": [
    "fig, ax = plt.subplots(1,1, figsize=(6,3), dpi=120)\n",
    "\n",
    "for i, name in enumerate(eta.keys()):\n",
    "    ax.plot(Ne[:], eta[name][:], '--o', markersize=3, label=name)\n",
    "    \n",
    "ax.set_xlabel(\"$N_{e} \\; [cm^{-3}]$\")\n",
    "ax.set_ylabel(\"$ n_{H\\, II} \\; / \\; n_{H} $\")\n",
    "ax.legend(loc=\"best\")\n",
    "ax.set_xscale('log')\n",
    "ax.set_title(\"ionization fraction v.s. eletron density\")\n",
    "plt.show()"
   ]
  },
  {
   "cell_type": "markdown",
   "metadata": {},
   "source": [
    "## ionization fraction ($T_{e},N_{e}$)"
   ]
  },
  {
   "cell_type": "code",
   "execution_count": 24,
   "metadata": {},
   "outputs": [],
   "source": [
    "nTe = 61\n",
    "Te = np.linspace(5E3, 2E4, nTe)\n",
    "nNe = 61\n",
    "Ne = np.logspace(8,14, nNe)\n",
    "Tr = 6E3\n",
    "\n",
    "eta = {\n",
    "    \"Local Termal Equil.\": np.zeros((nNe,nTe)),\n",
    "    \"Statistical Equil.\" : np.zeros((nNe,nTe)),\n",
    "    \"Coronal Equil.\" : np.zeros((nNe,nTe)),\n",
    "}\n",
    "\n",
    "for nn in range(nNe):\n",
    "    for nt in range(nTe):\n",
    "        n_LTE , nj_by_ni_Line, nj_by_ni_Cont = SELib.ni_nj_LTE(atom, Te[nt], Ne[nn])\n",
    "\n",
    "        Rik, Rki_stim, Rki_spon = SELib.bf_R_rate(atom, Te[nt], nj_by_ni_Cont, _Tr=Tr)\n",
    "        Bij_Jbar, Bji_Jbar = SELib.B_Jbar(atom, _Tr=Tr)\n",
    "\n",
    "        ##  ij : ij + ik\n",
    "        Cij = SELib.get_Cij(atom, Te[nt])\n",
    "        Cji = Collision.Cij_to_Cji( Cij, np.append(nj_by_ni_Line,nj_by_ni_Cont) )\n",
    "\n",
    "        n_SE = SELib.solve_SE(atom, \n",
    "                             Ne[nn], Cji, Cij, \n",
    "                             Bji_Jbar, Bij_Jbar, \n",
    "                             Rki_spon, Rki_stim, Rik)\n",
    "\n",
    "        eta[\"Local Termal Equil.\"][nn,nt] = n_LTE[-1] / n_LTE[:].sum()\n",
    "        eta[\"Statistical Equil.\"][nn,nt] = n_SE[-1] / n_SE[:].sum()\n",
    "        \n",
    "        ##-- Coronal Equilibrium\n",
    "        Bji_Jbar[:] = 0\n",
    "        Bij_Jbar[:] = 0\n",
    "        Rki_stim[:] = 0\n",
    "        Rik[:]      = 0\n",
    "        n_CE = SELib.solve_SE(atom, \n",
    "                             Ne[nn], Cji, Cij, \n",
    "                             Bji_Jbar, Bij_Jbar, \n",
    "                             Rki_spon, Rki_stim, Rik)\n",
    "        eta[\"Coronal Equil.\"][nn,nt] = n_CE[-1] / n_CE[:].sum()"
   ]
  },
  {
   "cell_type": "code",
   "execution_count": 27,
   "metadata": {},
   "outputs": [
    {
     "data": {
      "image/png": "[encoded data removed]",
      "text/plain": [
       "<Figure size 1500x450 with 4 Axes>"
      ]
     },
     "metadata": {
      "needs_background": "light"
     },
     "output_type": "display_data"
    }
   ],
   "source": [
    "fig, axs = plt.subplots(1,3, figsize=(10,3), dpi=150)\n",
    "plt.subplots_adjust(wspace=0.03)\n",
    "\n",
    "for ax, name in zip( axs, eta.keys() ):\n",
    "    im = ax.imshow(eta[name][:,:], cmap=\"inferno\", origin=\"lower\", vmin=1.E-9, vmax=1.)\n",
    "    \n",
    "    Plotting.set_imshow_ticks(ax, Te, axis='x',points=4, fmt='%1.0f',rot=0)\n",
    "    Plotting.set_imshow_ticks(ax, np.log10(Ne), axis='y',points=4, fmt='%1.0f',rot=0)\n",
    "    ax.set_title(\"$ n_{H\\, II} \\; / \\; n_{H} $\" + f\"  {name}\")\n",
    "\n",
    "axs[0].set_ylabel(\"$N_{e} \\; [cm^{-3}]$\")\n",
    "axs[0].set_xlabel(\"$T_{e} \\; [K]$\")\n",
    "Plotting.remove_tick_ticklabel(axs[1],axs[2], kind='xy')\n",
    "\n",
    "cax = fig.add_axes([0.45,0.07,0.4,0.02])\n",
    "fig.colorbar(im, cax=cax, orientation=\"horizontal\")\n",
    "\n",
    "plt.show()"
   ]
  },
  {
   "cell_type": "markdown",
   "metadata": {},
   "source": [
    "---"
   ]
  },
  {
   "cell_type": "markdown",
   "metadata": {},
   "source": [
    "---"
   ]
  },
  {
   "cell_type": "markdown",
   "metadata": {},
   "source": [
    "## Profilling"
   ]
  },
  {
   "cell_type": "code",
   "execution_count": 17,
   "metadata": {},
   "outputs": [
    {
     "name": "stdout",
     "output_type": "stream",
     "text": [
      "71.3 µs ± 5.67 µs per loop (mean ± std. dev. of 7 runs, 10000 loops each)\n"
     ]
    }
   ],
   "source": [
    "%%timeit\n",
    "_ = SELib.ni_nj_LTE(atom, Te[nt], Ne[nn])"
   ]
  },
  {
   "cell_type": "code",
   "execution_count": 18,
   "metadata": {},
   "outputs": [
    {
     "name": "stdout",
     "output_type": "stream",
     "text": [
      "67.9 µs ± 5.88 µs per loop (mean ± std. dev. of 7 runs, 10000 loops each)\n"
     ]
    }
   ],
   "source": [
    "%%timeit\n",
    "_ = SELib.bf_R_rate(atom, Te[nt], nj_by_ni_Cont, _Tr=Tr)"
   ]
  },
  {
   "cell_type": "code",
   "execution_count": 19,
   "metadata": {},
   "outputs": [
    {
     "name": "stdout",
     "output_type": "stream",
     "text": [
      "29.4 µs ± 12.4 µs per loop (mean ± std. dev. of 7 runs, 10000 loops each)\n"
     ]
    }
   ],
   "source": [
    "%%timeit\n",
    "_ = SELib.B_Jbar(atom, _Tr=Tr)"
   ]
  },
  {
   "cell_type": "code",
   "execution_count": 20,
   "metadata": {},
   "outputs": [
    {
     "name": "stdout",
     "output_type": "stream",
     "text": [
      "48.5 µs ± 2.73 µs per loop (mean ± std. dev. of 7 runs, 10000 loops each)\n"
     ]
    }
   ],
   "source": [
    "%%timeit\n",
    "_ = SELib.get_Cij(atom, Te[nt])"
   ]
  },
  {
   "cell_type": "code",
   "execution_count": 21,
   "metadata": {},
   "outputs": [
    {
     "name": "stdout",
     "output_type": "stream",
     "text": [
      "85.6 µs ± 3.62 µs per loop (mean ± std. dev. of 7 runs, 10000 loops each)\n"
     ]
    }
   ],
   "source": [
    "%%timeit\n",
    "_ = SELib.solve_SE(atom, Ne[nn], Cji, Cij, Bji_Jbar, Bij_Jbar, Rki_spon, Rki_stim, Rik)"
   ]
  },
  {
   "cell_type": "markdown",
   "metadata": {},
   "source": [
    "---"
   ]
  },
  {
   "cell_type": "code",
   "execution_count": 9,
   "metadata": {},
   "outputs": [],
   "source": [
    "%load_ext line_profiler"
   ]
  },
  {
   "cell_type": "code",
   "execution_count": null,
   "metadata": {},
   "outputs": [],
   "source": [
    "%lprun -f SELib.ni_nj_LTE SELib.ni_nj_LTE(atom, Te[nt], Ne[nn])"
   ]
  },
  {
   "cell_type": "code",
   "execution_count": null,
   "metadata": {},
   "outputs": [],
   "source": [
    "%lprun -f SELib.bf_R_rate SELib.bf_R_rate(atom, Te[nt], nj_by_ni_Cont, _Tr=Tr)"
   ]
  },
  {
   "cell_type": "code",
   "execution_count": null,
   "metadata": {},
   "outputs": [],
   "source": [
    "%lprun -f SELib.B_Jbar SELib.B_Jbar(atom, _Tr=Tr)"
   ]
  },
  {
   "cell_type": "code",
   "execution_count": 10,
   "metadata": {},
   "outputs": [],
   "source": [
    "%lprun -f SELib.get_Cij SELib.get_Cij(atom, Te[nt])"
   ]
  },
  {
   "cell_type": "code",
   "execution_count": null,
   "metadata": {},
   "outputs": [],
   "source": [
    "%lprun -f SELib.solve_SE SELib.solve_SE(atom, Ne[nn], Cji, Cij, Bji_Jbar, Bij_Jbar, Rki_spon, Rki_stim, Rik)"
   ]
  }
 ],
 "metadata": {
  "kernelspec": {
   "display_name": "Python 3",
   "language": "python",
   "name": "python3"
  },
  "language_info": {
   "codemirror_mode": {
    "name": "ipython",
    "version": 3
   },
   "file_extension": ".py",
   "mimetype": "text/x-python",
   "name": "python",
   "nbconvert_exporter": "python",
   "pygments_lexer": "ipython3",
   "version": "3.6.10"
  },
  "toc": {
   "nav_menu": {},
   "number_sections": true,
   "sideBar": true,
   "skip_h1_title": false,
   "toc_cell": false,
   "toc_position": {},
   "toc_section_display": "block",
   "toc_window_display": false
  }
 },
 "nbformat": 4,
 "nbformat_minor": 4
}
